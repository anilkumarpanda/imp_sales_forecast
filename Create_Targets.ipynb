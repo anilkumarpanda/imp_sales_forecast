{
 "cells": [
  {
   "cell_type": "code",
   "execution_count": 30,
   "metadata": {
    "collapsed": true
   },
   "outputs": [],
   "source": [
    "import pandas as pd\n",
    "pd.options.display.max_columns = 200\n",
    "pd.options.display.max_rows = 1000"
   ]
  },
  {
   "cell_type": "code",
   "execution_count": 31,
   "metadata": {
    "collapsed": true
   },
   "outputs": [],
   "source": [
    "sales_pdf = pd.read_csv('../UseCase_3_Datasets/sales_granular.csv')"
   ]
  },
  {
   "cell_type": "code",
   "execution_count": 32,
   "metadata": {
    "collapsed": true
   },
   "outputs": [],
   "source": [
    "col_list = sales_pdf.columns"
   ]
  },
  {
   "cell_type": "code",
   "execution_count": 33,
   "metadata": {
    "scrolled": false
   },
   "outputs": [],
   "source": [
    "processed_col_list = []\n",
    "for col in col_list[1:]:\n",
    "    if col.split(\" \")[0] not in processed_col_list[:] :\n",
    "        processed_col_list.append(col.split(\" \")[0])"
   ]
  },
  {
   "cell_type": "code",
   "execution_count": 34,
   "metadata": {
    "scrolled": false
   },
   "outputs": [],
   "source": [
    "#processed_col_list[:10]"
   ]
  },
  {
   "cell_type": "code",
   "execution_count": 35,
   "metadata": {},
   "outputs": [],
   "source": [
    "def merge_df_day(df):\n",
    "    df = df.fillna(0)\n",
    "    temp_df = pd.DataFrame()\n",
    "    for col in df.columns[1:]:\n",
    "        #print (col.split(\" \"))\n",
    "        if col.split(\" \")[0] in temp_df.columns:\n",
    "            temp_df[col.split(\" \")[0]] = temp_df[col.split(\" \")[0]]+df[col]\n",
    "        else :\n",
    "            temp_df[col.split(\" \")[0]] = df[col]\n",
    "    temp_df['store_code']=df['store_code']\n",
    "    return temp_df\n",
    "\n",
    "def merge_df_monthly(df):\n",
    "    df = df.fillna(0)\n",
    "    temp_df = pd.DataFrame()\n",
    "    for col in df.columns[1:]:\n",
    "        if 'store_code' not in col :\n",
    "            month_str = (col.split(\"/\")[0]+\"/\"+col.split(\"/\")[2])\n",
    "            if month_str in temp_df.columns:\n",
    "                temp_df[month_str] = temp_df[month_str]+df[col]\n",
    "            else :\n",
    "                temp_df[month_str] = df[col]\n",
    "    temp_df['store_code']=df['store_code']\n",
    "    return temp_df\n",
    "\n",
    "def merge_df_yearly(df):\n",
    "    df = df.fillna(0)\n",
    "    temp_df = pd.DataFrame()\n",
    "    for col in df.columns[1:]:\n",
    "        if 'store_code' not in col :\n",
    "            yr_str = (col.split(\"/\")[1])\n",
    "            if yr_str in temp_df.columns:\n",
    "                temp_df[yr_str] = temp_df[yr_str]+df[col]\n",
    "            else :\n",
    "                temp_df[yr_str] = df[col]\n",
    "    temp_df['store_code']=df['store_code']\n",
    "    return temp_df"
   ]
  },
  {
   "cell_type": "code",
   "execution_count": 36,
   "metadata": {
    "scrolled": false
   },
   "outputs": [],
   "source": [
    "sales_pdf_daily = merge_df_day(sales_pdf)\n",
    "sales_pdf_daily.head()\n",
    "sales_pdf_daily.to_csv(\"../UseCase_3_Datasets/sales_daily.csv\",index=False)"
   ]
  },
  {
   "cell_type": "code",
   "execution_count": 26,
   "metadata": {
    "scrolled": false
   },
   "outputs": [],
   "source": [
    "# X = sales_pdf_daily.loc[:, sales_pdf_daily.columns != 'store_code']\n",
    "# y = sales_pdf_daily['store_code']\n",
    "# X.cumsum().plot(figsize=(10,10))\n",
    "# plt.show()"
   ]
  },
  {
   "cell_type": "code",
   "execution_count": 37,
   "metadata": {
    "scrolled": false
   },
   "outputs": [],
   "source": [
    "sales_pdf_monthly = merge_df_monthly(sales_pdf_daily)\n",
    "sales_pdf_monthly.head()\n",
    "sales_pdf_monthly.to_csv(\"../UseCase_3_Datasets/sales_monthly.csv\",index=False)"
   ]
  },
  {
   "cell_type": "code",
   "execution_count": 38,
   "metadata": {
    "scrolled": false
   },
   "outputs": [],
   "source": [
    "sales_pdf_yearly = merge_df_yearly(sales_pdf_monthly)\n",
    "sales_pdf_yearly.to_csv(\"../UseCase_3_Datasets/sales_pdf_yearly.csv\",index=False)"
   ]
  },
  {
   "cell_type": "code",
   "execution_count": null,
   "metadata": {
    "collapsed": true
   },
   "outputs": [],
   "source": []
  }
 ],
 "metadata": {
  "kernelspec": {
   "display_name": "Python 3",
   "language": "python",
   "name": "python3"
  },
  "language_info": {
   "codemirror_mode": {
    "name": "ipython",
    "version": 3
   },
   "file_extension": ".py",
   "mimetype": "text/x-python",
   "name": "python",
   "nbconvert_exporter": "python",
   "pygments_lexer": "ipython3",
   "version": "3.6.1"
  }
 },
 "nbformat": 4,
 "nbformat_minor": 2
}
