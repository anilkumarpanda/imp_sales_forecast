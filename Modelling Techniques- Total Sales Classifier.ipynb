{
 "cells": [
  {
   "cell_type": "code",
   "execution_count": 1,
   "metadata": {
    "collapsed": true
   },
   "outputs": [],
   "source": [
    "import pandas as pd\n",
    "pd.options.display.max_columns = 200\n",
    "pd.options.display.max_rows = 1000\n",
    "import pandas as pd\n",
    "from sklearn import preprocessing\n",
    "import numpy as np\n",
    "from sklearn.metrics import accuracy_score\n",
    "from sklearn.ensemble import ExtraTreesClassifier, RandomForestClassifier\n",
    "from sklearn.model_selection import train_test_split\n",
    "from sklearn.pipeline import make_pipeline, make_union\n",
    "from tpot.builtins import StackingEstimator\n",
    "from tpot import TPOTClassifier\n",
    "from sklearn.datasets import load_iris\n",
    "from sklearn.model_selection import train_test_split\n",
    "from sklearn.metrics import roc_auc_score\n",
    "from scipy import interp\n",
    "from itertools import cycle\n",
    "from sklearn import svm, datasets\n",
    "from sklearn.metrics import roc_curve, auc\n",
    "from sklearn.model_selection import StratifiedKFold\n",
    "from sklearn.metrics import average_precision_score\n",
    "from matplotlib import pyplot\n",
    "from pandas import read_csv\n",
    "from pandas import set_option\n",
    "from pandas.tools.plotting import scatter_matrix\n",
    "from sklearn.preprocessing import StandardScaler\n",
    "from sklearn.model_selection import train_test_split\n",
    "from sklearn.model_selection import KFold\n",
    "from sklearn.model_selection import cross_val_score\n",
    "from sklearn.model_selection import GridSearchCV\n",
    "from sklearn.metrics import classification_report\n",
    "from sklearn.metrics import confusion_matrix\n",
    "from sklearn.metrics import accuracy_score\n",
    "from sklearn.pipeline import Pipeline\n",
    "from sklearn.linear_model import LogisticRegression\n",
    "from sklearn.tree import DecisionTreeClassifier\n",
    "from sklearn.neighbors import KNeighborsClassifier\n",
    "from sklearn.discriminant_analysis import LinearDiscriminantAnalysis\n",
    "from sklearn.naive_bayes import GaussianNB\n",
    "from sklearn.svm import SVC\n",
    "from sklearn.ensemble import AdaBoostClassifier\n",
    "from sklearn.ensemble import GradientBoostingClassifier\n",
    "from sklearn.ensemble import RandomForestClassifier\n",
    "from sklearn.ensemble import ExtraTreesClassifier\n",
    "import matplotlib.pyplot as plt\n",
    "import seaborn as sns\n",
    "from __future__ import print_function\n",
    "import os\n",
    "import subprocess\n",
    "import pandas as pd\n",
    "import numpy as np\n",
    "from sklearn.tree import DecisionTreeClassifier, export_graphviz\n",
    "%matplotlib inline"
   ]
  },
  {
   "cell_type": "code",
   "execution_count": 2,
   "metadata": {
    "collapsed": true
   },
   "outputs": [],
   "source": [
    "surrounding_pdf = pd.read_csv('../UseCase_3_Datasets/store_surrounding_pdf_exp.csv')\n",
    "store_sales = pd.read_csv('../UseCase_3_Datasets/sales_daily_simple_sum.csv')\n",
    "sales_pdf_daily_sub = store_sales[['store_code','total_sales']]"
   ]
  },
  {
   "cell_type": "code",
   "execution_count": 3,
   "metadata": {},
   "outputs": [
    {
     "name": "stdout",
     "output_type": "stream",
     "text": [
      "Surrounding Shape (540, 181)\n",
      "Sales Shape (906, 2)\n"
     ]
    }
   ],
   "source": [
    "print(\"Surrounding Shape\",surrounding_pdf.shape)\n",
    "print(\"Sales Shape\",sales_pdf_daily_sub.shape)"
   ]
  },
  {
   "cell_type": "code",
   "execution_count": 4,
   "metadata": {},
   "outputs": [
    {
     "name": "stdout",
     "output_type": "stream",
     "text": [
      "Sales Surrounding Shape (540, 177)\n"
     ]
    }
   ],
   "source": [
    "#Join Store and Surroounding datasets\n",
    "sales_surrounding_pdf = pd.merge(sales_pdf_daily_sub,surrounding_pdf,on='store_code',how='inner')\n",
    "sales_surrounding_pdf = sales_surrounding_pdf.drop_duplicates()\n",
    "# Dropping columns that do not provide useful information for this analysis\n",
    "for i in sales_surrounding_pdf.columns:\n",
    "    if sales_surrounding_pdf[i].nunique() == 1:\n",
    "        sales_surrounding_pdf.drop(i, axis = 1, inplace = True)\n",
    "print(\"Sales Surrounding Shape\",sales_surrounding_pdf.shape)"
   ]
  },
  {
   "cell_type": "code",
   "execution_count": 5,
   "metadata": {
    "collapsed": true
   },
   "outputs": [],
   "source": [
    "# Dropping columns that do not provide useful information for this analysis\n",
    "for i in sales_surrounding_pdf.columns:\n",
    "    if sales_surrounding_pdf[i].nunique() == 1:\n",
    "        sales_surrounding_pdf.drop(i, axis = 1, inplace = True)"
   ]
  },
  {
   "cell_type": "code",
   "execution_count": 6,
   "metadata": {
    "collapsed": true,
    "scrolled": false
   },
   "outputs": [],
   "source": [
    "# #Visualization of individual attributes\n",
    "# #Histogram\n",
    "# sales_surrounding_pdf.hist(sharex=False,sharey=False,xlabelsize=0.25,ylabelsize=0.25,figsize=(20,20))\n",
    "# pyplot.show()"
   ]
  },
  {
   "cell_type": "code",
   "execution_count": 7,
   "metadata": {
    "collapsed": true,
    "scrolled": false
   },
   "outputs": [],
   "source": [
    "# sales_surrounding_pdf.plot(kind='density', subplots=True, layout=(10,18), sharex=False, legend=False,fontsize=1,\n",
    "#                           figsize=(20,20))\n",
    "# pyplot.show()"
   ]
  },
  {
   "cell_type": "code",
   "execution_count": 8,
   "metadata": {
    "collapsed": true
   },
   "outputs": [],
   "source": [
    "# fig = pyplot.figure(figsize=(15,15))\n",
    "# ax = fig.add_subplot(111)\n",
    "# cax = ax.matshow(sales_surrounding_pdf.corr(),vmin=-1, vmax=1)\n",
    "# fig.colorbar(cax)\n",
    "# pyplot.show()"
   ]
  },
  {
   "cell_type": "code",
   "execution_count": 9,
   "metadata": {
    "collapsed": true
   },
   "outputs": [],
   "source": [
    "#Create Train,Test without imputation\n",
    "#X = sales_surrounding_pdf.loc[:, sales_surrounding_pdf.columns != 'total_sales']\n",
    "#X = sales_surrounding_pdf.loc[:, sales_surrounding_pdf.columns != 'store_code']\n",
    "y = sales_surrounding_pdf['total_sales']\n",
    "X = sales_surrounding_pdf.drop(['total_sales','store_code'],axis=1)\n",
    "#X = sales_surrounding_pdf.drop('store_code',axis=1)\n",
    "\n",
    "#Divide into train and test\n",
    "validation_size = 0.30\n",
    "seed = 33\n",
    "X_train, X_test, y_train, y_test = train_test_split(X, y,test_size=validation_size,random_state=seed)"
   ]
  },
  {
   "cell_type": "code",
   "execution_count": 10,
   "metadata": {
    "scrolled": false
   },
   "outputs": [
    {
     "data": {
      "text/plain": [
       "<matplotlib.axes._subplots.AxesSubplot at 0x117179a20>"
      ]
     },
     "execution_count": 10,
     "metadata": {},
     "output_type": "execute_result"
    },
    {
     "data": {
      "image/png": "[encoded data removed]",
      "text/plain": [
       "<matplotlib.figure.Figure at 0x117144c88>"
      ]
     },
     "metadata": {},
     "output_type": "display_data"
    }
   ],
   "source": [
    "xtick_list = range(0,500000,50000)\n",
    "ytick_list = range(0,y_train.shape[0],30)\n",
    "#y_train.plot(kind='hist',subplots=True,fontsize=10,figsize=(10,10),xticks=xtick_list,yticks=ytick_list)\n",
    "y_train.hist(bins=20,figsize=(10,10),)\n",
    "# pyplot.xlabel(\"Store Sales\")\n",
    "# pyplot.show()"
   ]
  },
  {
   "cell_type": "code",
   "execution_count": 11,
   "metadata": {
    "scrolled": false
   },
   "outputs": [
    {
     "data": {
      "image/png": "[encoded data removed]",
      "text/plain": [
       "<matplotlib.figure.Figure at 0x11a787e10>"
      ]
     },
     "metadata": {},
     "output_type": "display_data"
    }
   ],
   "source": [
    "y_train[y_train.values < 50000].hist(bins=30,figsize=(10,10),)\n",
    "pyplot.xlabel(\"Store Sales\")\n",
    "pyplot.show()\n"
   ]
  },
  {
   "cell_type": "code",
   "execution_count": 12,
   "metadata": {},
   "outputs": [
    {
     "data": {
      "image/png": "[encoded data removed]",
      "text/plain": [
       "<matplotlib.figure.Figure at 0x116f56518>"
      ]
     },
     "metadata": {},
     "output_type": "display_data"
    }
   ],
   "source": [
    "xtick_list = range(0,500000,50000)\n",
    "ytick_list = range(0,y_test.shape[0],10)\n",
    "#y_test.plot(kind='hist',subplots=True,fontsize=10,figsize=(10,10),grid=True,xticks=xtick_list,yticks=ytick_list)\n",
    "y_train.hist(bins=20,figsize=(10,10))\n",
    "pyplot.xlabel(\"Store Sales\")\n",
    "pyplot.show()"
   ]
  },
  {
   "cell_type": "code",
   "execution_count": 13,
   "metadata": {
    "scrolled": false
   },
   "outputs": [
    {
     "name": "stdout",
     "output_type": "stream",
     "text": [
      "Split Point  20000\n",
      "% of 0-class in Test  8.02469135802\n",
      "% of 0-class in Train  8.46560846561\n",
      "\n",
      "\n",
      "Split Point  20500\n",
      "% of 0-class in Test  9.87654320988\n",
      "% of 0-class in Train  8.73015873016\n",
      "\n",
      "\n",
      "Split Point  21000\n",
      "% of 0-class in Test  10.4938271605\n",
      "% of 0-class in Train  9.78835978836\n",
      "\n",
      "\n",
      "Split Point  21500\n",
      "% of 0-class in Test  11.1111111111\n",
      "% of 0-class in Train  10.3174603175\n",
      "\n",
      "\n",
      "Split Point  22000\n",
      "% of 0-class in Test  11.7283950617\n",
      "% of 0-class in Train  10.8465608466\n",
      "\n",
      "\n",
      "Split Point  22500\n",
      "% of 0-class in Test  11.7283950617\n",
      "% of 0-class in Train  11.9047619048\n",
      "\n",
      "\n",
      "Split Point  23000\n",
      "% of 0-class in Test  11.7283950617\n",
      "% of 0-class in Train  12.1693121693\n",
      "\n",
      "\n",
      "Split Point  23500\n",
      "% of 0-class in Test  13.5802469136\n",
      "% of 0-class in Train  14.2857142857\n",
      "\n",
      "\n",
      "Split Point  24000\n",
      "% of 0-class in Test  13.5802469136\n",
      "% of 0-class in Train  15.6084656085\n",
      "\n",
      "\n",
      "Split Point  24500\n",
      "% of 0-class in Test  16.6666666667\n",
      "% of 0-class in Train  17.7248677249\n",
      "\n",
      "\n",
      "Split Point  25000\n",
      "% of 0-class in Test  17.9012345679\n",
      "% of 0-class in Train  19.5767195767\n",
      "\n",
      "\n",
      "Split Point  25500\n",
      "% of 0-class in Test  20.3703703704\n",
      "% of 0-class in Train  21.9576719577\n",
      "\n",
      "\n",
      "Split Point  26000\n",
      "% of 0-class in Test  21.6049382716\n",
      "% of 0-class in Train  24.0740740741\n",
      "\n",
      "\n",
      "Split Point  26500\n",
      "% of 0-class in Test  22.8395061728\n",
      "% of 0-class in Train  26.1904761905\n",
      "\n",
      "\n",
      "Split Point  27000\n",
      "% of 0-class in Test  24.0740740741\n",
      "% of 0-class in Train  28.0423280423\n",
      "\n",
      "\n",
      "Split Point  27500\n",
      "% of 0-class in Test  25.3086419753\n",
      "% of 0-class in Train  29.8941798942\n",
      "\n",
      "\n",
      "Split Point  28000\n",
      "% of 0-class in Test  26.5432098765\n",
      "% of 0-class in Train  32.5396825397\n",
      "\n",
      "\n",
      "Split Point  28500\n",
      "% of 0-class in Test  29.6296296296\n",
      "% of 0-class in Train  34.3915343915\n",
      "\n",
      "\n",
      "Split Point  29000\n",
      "% of 0-class in Test  31.4814814815\n",
      "% of 0-class in Train  36.5079365079\n",
      "\n",
      "\n",
      "Split Point  29500\n",
      "% of 0-class in Test  33.3333333333\n",
      "% of 0-class in Train  37.5661375661\n",
      "\n",
      "\n",
      "Split Point  30000\n",
      "% of 0-class in Test  34.5679012346\n",
      "% of 0-class in Train  38.6243386243\n",
      "\n",
      "\n",
      "Split Point  30500\n",
      "% of 0-class in Test  35.8024691358\n",
      "% of 0-class in Train  41.0052910053\n",
      "\n",
      "\n",
      "Split Point  31000\n",
      "% of 0-class in Test  37.6543209877\n",
      "% of 0-class in Train  43.9153439153\n",
      "\n",
      "\n",
      "Split Point  31500\n",
      "% of 0-class in Test  38.2716049383\n",
      "% of 0-class in Train  48.4126984127\n",
      "\n",
      "\n",
      "Split Point  32000\n",
      "% of 0-class in Test  38.8888888889\n",
      "% of 0-class in Train  50.5291005291\n",
      "\n",
      "\n",
      "Split Point  32500\n",
      "% of 0-class in Test  41.3580246914\n",
      "% of 0-class in Train  53.9682539683\n",
      "\n",
      "\n",
      "Split Point  33000\n",
      "% of 0-class in Test  44.4444444444\n",
      "% of 0-class in Train  55.8201058201\n",
      "\n",
      "\n",
      "Split Point  33500\n",
      "% of 0-class in Test  48.7654320988\n",
      "% of 0-class in Train  58.7301587302\n",
      "\n",
      "\n",
      "Split Point  34000\n",
      "% of 0-class in Test  49.3827160494\n",
      "% of 0-class in Train  61.1111111111\n",
      "\n",
      "\n",
      "Split Point  34500\n",
      "% of 0-class in Test  52.4691358025\n",
      "% of 0-class in Train  63.4920634921\n",
      "\n",
      "\n",
      "Split Point  35000\n",
      "% of 0-class in Test  54.3209876543\n",
      "% of 0-class in Train  65.6084656085\n",
      "\n",
      "\n",
      "Split Point  35500\n",
      "% of 0-class in Test  55.5555555556\n",
      "% of 0-class in Train  66.9312169312\n",
      "\n",
      "\n",
      "Split Point  36000\n",
      "% of 0-class in Test  58.6419753086\n",
      "% of 0-class in Train  68.253968254\n",
      "\n",
      "\n",
      "Split Point  36500\n",
      "% of 0-class in Test  61.7283950617\n",
      "% of 0-class in Train  68.7830687831\n",
      "\n",
      "\n",
      "Split Point  37000\n",
      "% of 0-class in Test  62.962962963\n",
      "% of 0-class in Train  69.8412698413\n",
      "\n",
      "\n",
      "Split Point  37500\n",
      "% of 0-class in Test  65.4320987654\n",
      "% of 0-class in Train  71.4285714286\n",
      "\n",
      "\n",
      "Split Point  38000\n",
      "% of 0-class in Test  67.9012345679\n",
      "% of 0-class in Train  72.2222222222\n",
      "\n",
      "\n",
      "Split Point  38500\n",
      "% of 0-class in Test  69.1358024691\n",
      "% of 0-class in Train  73.544973545\n",
      "\n",
      "\n",
      "Split Point  39000\n",
      "% of 0-class in Test  69.1358024691\n",
      "% of 0-class in Train  74.6031746032\n",
      "\n",
      "\n",
      "Split Point  39500\n",
      "% of 0-class in Test  70.3703703704\n",
      "% of 0-class in Train  76.1904761905\n",
      "\n",
      "\n",
      "Split Point  40000\n",
      "% of 0-class in Test  70.987654321\n",
      "% of 0-class in Train  77.5132275132\n",
      "\n",
      "\n",
      "Split Point  40500\n",
      "% of 0-class in Test  72.8395061728\n",
      "% of 0-class in Train  77.7777777778\n",
      "\n",
      "\n",
      "Split Point  41000\n",
      "% of 0-class in Test  73.4567901235\n",
      "% of 0-class in Train  79.1005291005\n",
      "\n",
      "\n",
      "Split Point  41500\n",
      "% of 0-class in Test  74.0740740741\n",
      "% of 0-class in Train  79.6296296296\n",
      "\n",
      "\n",
      "Split Point  42000\n",
      "% of 0-class in Test  75.3086419753\n",
      "% of 0-class in Train  80.1587301587\n",
      "\n",
      "\n",
      "Split Point  42500\n",
      "% of 0-class in Test  75.3086419753\n",
      "% of 0-class in Train  80.6878306878\n",
      "\n",
      "\n",
      "Split Point  43000\n",
      "% of 0-class in Test  77.1604938272\n",
      "% of 0-class in Train  81.2169312169\n",
      "\n",
      "\n",
      "Split Point  43500\n",
      "% of 0-class in Test  77.1604938272\n",
      "% of 0-class in Train  81.4814814815\n",
      "\n",
      "\n",
      "Split Point  44000\n",
      "% of 0-class in Test  77.7777777778\n",
      "% of 0-class in Train  82.5396825397\n",
      "\n",
      "\n",
      "Split Point  44500\n",
      "% of 0-class in Test  78.3950617284\n",
      "% of 0-class in Train  83.0687830688\n",
      "\n",
      "\n",
      "Split Point  45000\n",
      "% of 0-class in Test  79.6296296296\n",
      "% of 0-class in Train  83.0687830688\n",
      "\n",
      "\n",
      "Split Point  45500\n",
      "% of 0-class in Test  80.2469135802\n",
      "% of 0-class in Train  83.3333333333\n",
      "\n",
      "\n",
      "Split Point  46000\n",
      "% of 0-class in Test  80.8641975309\n",
      "% of 0-class in Train  83.3333333333\n",
      "\n",
      "\n",
      "Split Point  46500\n",
      "% of 0-class in Test  81.4814814815\n",
      "% of 0-class in Train  83.5978835979\n",
      "\n",
      "\n",
      "Split Point  47000\n",
      "% of 0-class in Test  82.0987654321\n",
      "% of 0-class in Train  84.126984127\n",
      "\n",
      "\n",
      "Split Point  47500\n",
      "% of 0-class in Test  82.7160493827\n",
      "% of 0-class in Train  84.3915343915\n",
      "\n",
      "\n",
      "Split Point  48000\n",
      "% of 0-class in Test  82.7160493827\n",
      "% of 0-class in Train  85.1851851852\n",
      "\n",
      "\n",
      "Split Point  48500\n",
      "% of 0-class in Test  82.7160493827\n",
      "% of 0-class in Train  85.1851851852\n",
      "\n",
      "\n",
      "Split Point  49000\n",
      "% of 0-class in Test  82.7160493827\n",
      "% of 0-class in Train  85.7142857143\n",
      "\n",
      "\n",
      "Split Point  49500\n",
      "% of 0-class in Test  82.7160493827\n",
      "% of 0-class in Train  86.2433862434\n",
      "\n",
      "\n",
      "Split Point  50000\n",
      "% of 0-class in Test  83.3333333333\n",
      "% of 0-class in Train  86.5079365079\n",
      "\n",
      "\n",
      "Split Point  50500\n",
      "% of 0-class in Test  83.3333333333\n",
      "% of 0-class in Train  87.037037037\n",
      "\n",
      "\n",
      "Split Point  51000\n",
      "% of 0-class in Test  83.3333333333\n",
      "% of 0-class in Train  87.3015873016\n",
      "\n",
      "\n",
      "Split Point  51500\n",
      "% of 0-class in Test  83.3333333333\n",
      "% of 0-class in Train  87.5661375661\n",
      "\n",
      "\n",
      "Split Point  52000\n",
      "% of 0-class in Test  83.3333333333\n",
      "% of 0-class in Train  87.8306878307\n",
      "\n",
      "\n",
      "Split Point  52500\n",
      "% of 0-class in Test  83.3333333333\n",
      "% of 0-class in Train  87.8306878307\n",
      "\n",
      "\n",
      "Split Point  53000\n",
      "% of 0-class in Test  83.3333333333\n",
      "% of 0-class in Train  88.0952380952\n",
      "\n",
      "\n",
      "Split Point  53500\n",
      "% of 0-class in Test  83.3333333333\n",
      "% of 0-class in Train  88.3597883598\n",
      "\n",
      "\n",
      "Split Point  54000\n",
      "% of 0-class in Test  83.3333333333\n",
      "% of 0-class in Train  88.6243386243\n",
      "\n",
      "\n",
      "Split Point  54500\n",
      "% of 0-class in Test  83.3333333333\n",
      "% of 0-class in Train  88.8888888889\n",
      "\n",
      "\n",
      "Split Point  55000\n",
      "% of 0-class in Test  83.3333333333\n",
      "% of 0-class in Train  88.8888888889\n",
      "\n",
      "\n",
      "Split Point  55500\n",
      "% of 0-class in Test  83.3333333333\n",
      "% of 0-class in Train  88.8888888889\n",
      "\n",
      "\n",
      "Split Point  56000\n",
      "% of 0-class in Test  83.950617284\n",
      "% of 0-class in Train  88.8888888889\n",
      "\n",
      "\n",
      "Split Point  56500\n",
      "% of 0-class in Test  83.950617284\n",
      "% of 0-class in Train  89.1534391534\n",
      "\n",
      "\n",
      "Split Point  57000\n",
      "% of 0-class in Test  84.5679012346\n",
      "% of 0-class in Train  89.1534391534\n",
      "\n",
      "\n",
      "Split Point  57500\n",
      "% of 0-class in Test  84.5679012346\n",
      "% of 0-class in Train  89.1534391534\n",
      "\n",
      "\n",
      "Split Point  58000\n",
      "% of 0-class in Test  84.5679012346\n",
      "% of 0-class in Train  89.1534391534\n",
      "\n",
      "\n",
      "Split Point  58500\n",
      "% of 0-class in Test  84.5679012346\n",
      "% of 0-class in Train  89.6825396825\n",
      "\n",
      "\n",
      "Split Point  59000\n",
      "% of 0-class in Test  84.5679012346\n",
      "% of 0-class in Train  89.6825396825\n",
      "\n",
      "\n",
      "Split Point  59500\n",
      "% of 0-class in Test  84.5679012346\n",
      "% of 0-class in Train  89.6825396825\n",
      "\n",
      "\n"
     ]
    }
   ],
   "source": [
    "##Find the most balanced point of the data set :\n",
    "\n",
    "for i in range (20000,60000,500):\n",
    "    y_train_sp = y_train.apply(lambda x : 1 if x >=i else 0 )\n",
    "    y_test_sp = y_test.apply(lambda x : 1 if x >=i else 0)\n",
    "    print (\"Split Point \", i)\n",
    "    print (\"% of 0-class in Test \",y_test_sp.value_counts()[0]/ (y_test_sp.value_counts()[1]+y_test_sp.value_counts()[0])*100)\n",
    "    print (\"% of 0-class in Train \",y_train_sp.value_counts()[0]/ (y_train_sp.value_counts()[1]+y_train_sp.value_counts()[0])*100)\n",
    "    print(\"\\n\")"
   ]
  },
  {
   "cell_type": "code",
   "execution_count": 14,
   "metadata": {
    "scrolled": false
   },
   "outputs": [
    {
     "data": {
      "text/plain": [
       "1    83\n",
       "0    79\n",
       "Name: total_sales, dtype: int64"
      ]
     },
     "execution_count": 14,
     "metadata": {},
     "output_type": "execute_result"
    }
   ],
   "source": [
    "#Based on the above histogram comparison threshold 50,000 is a good enough to make binary classification target\n",
    "y_train = y_train.apply(lambda x : 1 if x >=33500 else 0 )\n",
    "y_test = y_test.apply(lambda x : 1 if x >=33500 else 0)\n",
    "\n",
    "y_test.value_counts()\n",
    "#Binary Targets created."
   ]
  },
  {
   "cell_type": "code",
   "execution_count": 15,
   "metadata": {},
   "outputs": [
    {
     "data": {
      "text/plain": [
       "48.76543209876543"
      ]
     },
     "execution_count": 15,
     "metadata": {},
     "output_type": "execute_result"
    }
   ],
   "source": [
    "y_test.value_counts()[0] / (y_test.value_counts()[1]+y_test.value_counts()[0])*100"
   ]
  },
  {
   "cell_type": "code",
   "execution_count": 16,
   "metadata": {},
   "outputs": [
    {
     "data": {
      "text/plain": [
       "0    222\n",
       "1    156\n",
       "Name: total_sales, dtype: int64"
      ]
     },
     "execution_count": 16,
     "metadata": {},
     "output_type": "execute_result"
    }
   ],
   "source": [
    "y_train.value_counts()"
   ]
  },
  {
   "cell_type": "code",
   "execution_count": 17,
   "metadata": {},
   "outputs": [
    {
     "data": {
      "text/plain": [
       "58.730158730158735"
      ]
     },
     "execution_count": 17,
     "metadata": {},
     "output_type": "execute_result"
    }
   ],
   "source": [
    "y_train.value_counts()[0] / (y_train.value_counts()[1]+y_train.value_counts()[0])*100"
   ]
  },
  {
   "cell_type": "code",
   "execution_count": 18,
   "metadata": {},
   "outputs": [
    {
     "name": "stdout",
     "output_type": "stream",
     "text": [
      "LR: 0.562421 (0.083360)\n",
      "LR with L1 penalty: 0.574444 (0.085860)\n",
      "CART: 0.531854 (0.095253)\n",
      "LDA: 0.541025 (0.087526)\n",
      "KNN: 0.562402 (0.074820)\n",
      "NB: 0.554273 (0.121815)\n",
      "SVM: 0.597357 (0.087631)\n"
     ]
    }
   ],
   "source": [
    "#Find Feature Importance via various methods\n",
    "#1)Logistic Regression\n",
    "#1.1) Logistic Regression with L1 Penalty (Lasso)\n",
    "#2)Decision Tree\n",
    "\n",
    "# Spot-Check Algorithms\n",
    "models = []\n",
    "num_folds = 10\n",
    "seed = 42\n",
    "scoring = 'roc_auc'\n",
    "\n",
    "models.append(('LR', LogisticRegression()))\n",
    "models.append(('LR with L1 penalty', LogisticRegression(penalty='l1')))\n",
    "models.append(('CART', DecisionTreeClassifier()))\n",
    "models.append(('LDA', LinearDiscriminantAnalysis()))\n",
    "models.append(('KNN', KNeighborsClassifier()))\n",
    "models.append(('NB', GaussianNB()))\n",
    "models.append(('SVM', SVC()))\n",
    "import warnings\n",
    "warnings.filterwarnings('ignore')\n",
    "results = []\n",
    "names = []\n",
    "for name, model in models:\n",
    "    kfold = KFold(n_splits=num_folds, random_state=seed)\n",
    "    cv_results = cross_val_score(model, X_train, y_train, cv=kfold, scoring=scoring)\n",
    "    results.append(cv_results)\n",
    "    names.append(name)\n",
    "    msg = \"%s: %f (%f)\" % (name,cv_results.mean(),cv_results.std())\n",
    "    print(msg)"
   ]
  },
  {
   "cell_type": "code",
   "execution_count": 19,
   "metadata": {},
   "outputs": [
    {
     "data": {
      "image/png": "[encoded data removed]",
      "text/plain": [
       "<matplotlib.figure.Figure at 0x1174330f0>"
      ]
     },
     "metadata": {},
     "output_type": "display_data"
    }
   ],
   "source": [
    "# Compare Algorithms\n",
    "fig = pyplot.figure(figsize=(10,10))\n",
    "fig.suptitle('Algorithm Comparison')\n",
    "ax = fig.add_subplot(111)\n",
    "pyplot.boxplot(results)\n",
    "ax.set_xticklabels(names)\n",
    "pyplot.show()"
   ]
  },
  {
   "cell_type": "code",
   "execution_count": 20,
   "metadata": {},
   "outputs": [
    {
     "name": "stdout",
     "output_type": "stream",
     "text": [
      "Scaled LR: 0.557674 (0.065016)\n",
      "Scaled LR with L1: 0.559029 (0.074718)\n",
      "Scaled CART: 0.562771 (0.072748)\n",
      "ScaledKNN: 0.544272 (0.044799)\n",
      "ScaledNB: 0.552369 (0.121206)\n",
      "ScaledSVM: 0.605510 (0.077783)\n"
     ]
    }
   ],
   "source": [
    "pipelines = []\n",
    "pipelines.append(('Scaled LR', Pipeline([('Scaler', StandardScaler()),('LR',LogisticRegression())])))\n",
    "pipelines.append(('Scaled LR with L1', Pipeline([('Scaler', StandardScaler()),('LR with L1',LogisticRegression(penalty='l1'))])))\n",
    "pipelines.append(('Scaled CART', Pipeline([('Scaler', StandardScaler()),('CART',DecisionTreeClassifier(max_depth=5))])))\n",
    "pipelines.append(('ScaledKNN', Pipeline([('Scaler', StandardScaler()),('KNN',\n",
    "KNeighborsClassifier())])))\n",
    "pipelines.append(('ScaledNB', Pipeline([('Scaler', StandardScaler()),('NB',\n",
    "GaussianNB())])))\n",
    "pipelines.append(('ScaledSVM', Pipeline([('Scaler', StandardScaler()),('SVM', SVC())])))\n",
    "results = []\n",
    "names = []\n",
    "for name, model in pipelines:\n",
    "    kfold = KFold(n_splits=num_folds, random_state=seed)\n",
    "    cv_results = cross_val_score(model, X_train, y_train, cv=kfold, scoring=scoring)\n",
    "    results.append(cv_results)\n",
    "    names.append(name)\n",
    "    msg = \"%s: %f (%f)\" % (name, cv_results.mean(), cv_results.std())\n",
    "    print(msg)"
   ]
  },
  {
   "cell_type": "code",
   "execution_count": 21,
   "metadata": {},
   "outputs": [
    {
     "data": {
      "image/png": "[encoded data removed]",
      "text/plain": [
       "<matplotlib.figure.Figure at 0x118128588>"
      ]
     },
     "metadata": {},
     "output_type": "display_data"
    }
   ],
   "source": [
    "fig = pyplot.figure(figsize=(10,10))\n",
    "fig.suptitle('Scaled Algorithm Comparison')\n",
    "ax = fig.add_subplot(111)\n",
    "pyplot.boxplot(results)\n",
    "ax.set_xticklabels(names)\n",
    "pyplot.show()"
   ]
  },
  {
   "cell_type": "code",
   "execution_count": 22,
   "metadata": {},
   "outputs": [
    {
     "name": "stdout",
     "output_type": "stream",
     "text": [
      "AB: 0.541536 (0.055447)\n",
      "GBM: 0.603680 (0.060702)\n",
      "RF: 0.553609 (0.122390)\n",
      "ET: 0.522872 (0.102673)\n"
     ]
    }
   ],
   "source": [
    "# ensembles\n",
    "ensembles = []\n",
    "ensembles.append(('AB', AdaBoostClassifier()))\n",
    "ensembles.append(('GBM', GradientBoostingClassifier()))\n",
    "ensembles.append(('RF', RandomForestClassifier()))\n",
    "ensembles.append(('ET', ExtraTreesClassifier()))\n",
    "results = []\n",
    "names = []\n",
    "for name, model in ensembles:\n",
    "    kfold = KFold(n_splits=num_folds, random_state=seed)\n",
    "    cv_results = cross_val_score(model, X_train, y_train, cv=kfold, scoring=scoring)\n",
    "    results.append(cv_results)\n",
    "    names.append(name)\n",
    "    msg = \"%s: %f (%f)\" % (name, cv_results.mean(), cv_results.std())\n",
    "    print(msg)"
   ]
  },
  {
   "cell_type": "code",
   "execution_count": 23,
   "metadata": {},
   "outputs": [
    {
     "data": {
      "image/png": "[encoded data removed]",
      "text/plain": [
       "<matplotlib.figure.Figure at 0x118329860>"
      ]
     },
     "metadata": {},
     "output_type": "display_data"
    }
   ],
   "source": [
    "# Compare Algorithms\n",
    "fig = pyplot.figure(figsize=(10,10))\n",
    "fig.suptitle('Ensemble Algorithm Comparison')\n",
    "ax = fig.add_subplot(111)\n",
    "pyplot.boxplot(results)\n",
    "ax.set_xticklabels(names)\n",
    "pyplot.show()"
   ]
  },
  {
   "cell_type": "code",
   "execution_count": 24,
   "metadata": {
    "collapsed": true
   },
   "outputs": [],
   "source": [
    "def plot_confusion_matrix(cm, classes,\n",
    "                          normalize=False,\n",
    "                          title='Confusion matrix',\n",
    "                          cmap=plt.cm.Blues):\n",
    "    \"\"\"\n",
    "    This function prints and plots the confusion matrix.\n",
    "    Normalization can be applied by setting `normalize=True`.\n",
    "    \"\"\"\n",
    "    if normalize:\n",
    "        cm = cm.astype('float') / cm.sum(axis=1)[:, np.newaxis]\n",
    "        print(\"Normalized confusion matrix\")\n",
    "    else:\n",
    "        print('Confusion matrix, without normalization')\n",
    "\n",
    "    print(cm)\n",
    "\n",
    "    plt.imshow(cm, interpolation='nearest', cmap=cmap)\n",
    "    plt.title(title)\n",
    "    plt.colorbar()\n",
    "    tick_marks = np.arange(len(classes))\n",
    "#     plt.xticks.set_color('black')\n",
    "#     plt.yticks.set_color('black')\n",
    "    plt.xticks(tick_marks, classes, rotation=45)\n",
    "    plt.yticks(tick_marks, classes)\n",
    "\n",
    "    fmt = '.2f' if normalize else 'd'\n",
    "    thresh = cm.max() / 2.\n",
    "    for i, j in itertools.product(range(cm.shape[0]), range(cm.shape[1])):\n",
    "        plt.text(j, i, format(cm[i, j], fmt),\n",
    "                 horizontalalignment=\"center\",\n",
    "                 color=\"red\" if cm[i, j] > thresh else \"black\")\n",
    "\n",
    "    plt.tight_layout()\n",
    "    #ax.xaxis.label.set_color('red')\n",
    "    #plt.xlabel.set_color('black')\n",
    "    plt.ylabel('True label')\n",
    "    plt.xlabel('Predicted label')"
   ]
  },
  {
   "cell_type": "code",
   "execution_count": 25,
   "metadata": {
    "collapsed": true
   },
   "outputs": [],
   "source": [
    "# prepare the model\n",
    "scaler = StandardScaler().fit(X_train)\n",
    "model = DecisionTreeClassifier(max_depth=3)\n",
    "model.fit(X_train, y_train)\n",
    "\n",
    "# estimate accuracy on validation dataset\n",
    "rescaledValidationX = scaler.transform(X_test)\n",
    "predictions = model.predict(rescaledValidationX)\n",
    "\n",
    "# print(accuracy_score(y_test, predictions))\n",
    "# print(confusion_matrix(y_test, predictions))\n",
    "# print(classification_report(y_test, predictions))"
   ]
  },
  {
   "cell_type": "code",
   "execution_count": 26,
   "metadata": {},
   "outputs": [
    {
     "name": "stdout",
     "output_type": "stream",
     "text": [
      "Confusion matrix, without normalization\n",
      "[[78  1]\n",
      " [82  1]]\n",
      "Normalized confusion matrix\n",
      "[[ 0.99  0.01]\n",
      " [ 0.99  0.01]]\n"
     ]
    },
    {
     "data": {
      "image/png": "[encoded data removed]",
      "text/plain": [
       "<matplotlib.figure.Figure at 0x1170bd390>"
      ]
     },
     "metadata": {},
     "output_type": "display_data"
    },
    {
     "data": {
      "image/png": "[encoded data removed]",
      "text/plain": [
       "<matplotlib.figure.Figure at 0x1173d39b0>"
      ]
     },
     "metadata": {},
     "output_type": "display_data"
    }
   ],
   "source": [
    "import itertools\n",
    "# Compute confusion matrix\n",
    "cnf_matrix = confusion_matrix(y_test, predictions)\n",
    "class_names = ['0','1']\n",
    "np.set_printoptions(precision=2)\n",
    "\n",
    "# Plot non-normalized confusion matrix\n",
    "plt.figure()\n",
    "plot_confusion_matrix(cnf_matrix,classes=class_names,title='Confusion matrix, without normalization')\n",
    "\n",
    "# Plot normalized confusion matrix\n",
    "plt.figure()\n",
    "plot_confusion_matrix(cnf_matrix, classes=class_names, normalize=True,title='Normalized confusion matrix')\n",
    "plt.show()"
   ]
  },
  {
   "cell_type": "code",
   "execution_count": 27,
   "metadata": {
    "collapsed": true
   },
   "outputs": [],
   "source": [
    "def visualize_tree(tree,feature_names,file_name):\n",
    "    \"\"\"Create tree png using graphviz.\n",
    "    Args\n",
    "    ----\n",
    "    tree -- scikit-learn DecsisionTree.\n",
    "    feature_names -- list of feature names.\n",
    "    \"\"\"\n",
    "    with open(file_name, 'w') as f:\n",
    "        export_graphviz(tree, out_file=f,feature_names=feature_names)\n",
    "    command = [\"dot\", \"-Tpng\", \"dt.dot\", \"-o\", \"dt.png\"]\n",
    "    try:\n",
    "        subprocess.check_call(command)\n",
    "    except:\n",
    "        exit(\"Could not run dot, ie graphviz, to produce visualization\")\n",
    "visualize_tree(model, X_train.columns,\"dt_gini.txt\")"
   ]
  },
  {
   "cell_type": "code",
   "execution_count": 28,
   "metadata": {},
   "outputs": [
    {
     "name": "stdout",
     "output_type": "stream",
     "text": [
      "0.521961262773\n",
      "[[72  7]\n",
      " [72 11]]\n",
      "             precision    recall  f1-score   support\n",
      "\n",
      "          0       0.50      0.91      0.65        79\n",
      "          1       0.61      0.13      0.22        83\n",
      "\n",
      "avg / total       0.56      0.51      0.43       162\n",
      "\n"
     ]
    }
   ],
   "source": [
    "# prepare the model\n",
    "scaler = StandardScaler().fit(X_train)\n",
    "rescaledX = scaler.transform(X_train)\n",
    "model = DecisionTreeClassifier(max_depth=3,criterion='entropy')\n",
    "model.fit(rescaledX, y_train)\n",
    "\n",
    "# estimate accuracy on validation dataset\n",
    "rescaledValidationX = scaler.transform(X_test)\n",
    "predictions = model.predict(rescaledValidationX)\n",
    "\n",
    "print(roc_auc_score(y_test, predictions))\n",
    "print(confusion_matrix(y_test, predictions))\n",
    "print(classification_report(y_test, predictions))\n",
    "visualize_tree(model, X_train.columns,\"dt_entropy.txt\")"
   ]
  },
  {
   "cell_type": "code",
   "execution_count": 29,
   "metadata": {
    "collapsed": true
   },
   "outputs": [],
   "source": [
    "#Find Feature Importance with Random Forest Classifer and Extra Tress Classifier"
   ]
  },
  {
   "cell_type": "code",
   "execution_count": 30,
   "metadata": {
    "scrolled": false
   },
   "outputs": [
    {
     "name": "stdout",
     "output_type": "stream",
     "text": [
      "{'max_depth': 7, 'max_features': 'auto', 'n_estimators': 60}\n"
     ]
    }
   ],
   "source": [
    "from sklearn.grid_search import GridSearchCV\n",
    "from sklearn.datasets import make_classification\n",
    "from sklearn.ensemble import RandomForestClassifier\n",
    "\n",
    "rfc = RandomForestClassifier(n_jobs=-1,max_features= 'sqrt' ,n_estimators=50, oob_score = True) \n",
    "\n",
    "# n_estimator = list(range(10,500,10))\n",
    "# print(n_estimator)\n",
    "param_grid = { \n",
    "    'n_estimators': list(range(10,500,10)),\n",
    "    'max_features': ['auto', 'sqrt', 'log2'],\n",
    "    'max_depth' : list(range(3,9,1))\n",
    "}\n",
    "\n",
    "CV_rfc = GridSearchCV(estimator=rfc,param_grid=param_grid, cv= 5,scoring='roc_auc')\n",
    "CV_rfc.fit(X_train, y_train)\n",
    "print (CV_rfc.best_params_)"
   ]
  },
  {
   "cell_type": "code",
   "execution_count": 31,
   "metadata": {},
   "outputs": [
    {
     "name": "stdout",
     "output_type": "stream",
     "text": [
      "0.550861674546\n",
      "[[68 11]\n",
      " [63 20]]\n",
      "             precision    recall  f1-score   support\n",
      "\n",
      "          0       0.52      0.86      0.65        79\n",
      "          1       0.65      0.24      0.35        83\n",
      "\n",
      "avg / total       0.58      0.54      0.50       162\n",
      "\n"
     ]
    }
   ],
   "source": [
    "# prepare the model\n",
    "scaler = StandardScaler().fit(X_train)\n",
    "rescaledX = scaler.transform(X_train)\n",
    "model = RandomForestClassifier(n_estimators=1000,max_depth=10)\n",
    "model.fit(rescaledX, y_train)\n",
    "\n",
    "# estimate accuracy on validation dataset\n",
    "rescaledValidationX = scaler.transform(X_test)\n",
    "predictions = model.predict(rescaledValidationX)\n",
    "\n",
    "print(roc_auc_score(y_test, predictions))\n",
    "print(confusion_matrix(y_test, predictions))\n",
    "print(classification_report(y_test, predictions))"
   ]
  },
  {
   "cell_type": "code",
   "execution_count": 32,
   "metadata": {
    "scrolled": false
   },
   "outputs": [
    {
     "name": "stdout",
     "output_type": "stream",
     "text": [
      "Feature ranking:\n",
      "1. feature avr_doctor (0.027753)\n",
      "2. feature avr_store (0.026610)\n",
      "3. feature avr_restaurant (0.022909)\n",
      "4. feature avr_lodging (0.019758)\n",
      "5. feature n_doctor (0.018078)\n",
      "6. feature n_store (0.017996)\n",
      "7. feature avr_transit_station (0.016330)\n",
      "8. feature no_of_near_by_shops (0.016190)\n",
      "9. feature avr_atm (0.015191)\n",
      "10. feature avr_bus_station (0.014503)\n"
     ]
    },
    {
     "data": {
      "image/png": "[encoded data removed]",
      "text/plain": [
       "<matplotlib.figure.Figure at 0x10b22b9e8>"
      ]
     },
     "metadata": {},
     "output_type": "display_data"
    }
   ],
   "source": [
    "# Build a forest and compute the feature importances\n",
    "def visualizeFeatureImportance(model,feature_names,no_of_features):\n",
    "    forest = model\n",
    "    importances = forest.feature_importances_\n",
    "    std = np.std([tree.feature_importances_ for tree in forest.estimators_],axis=0)\n",
    "    indices = np.argsort(importances)[::-1]\n",
    "    features = no_of_features\n",
    "    # Print the feature ranking\n",
    "    print(\"Feature ranking:\")\n",
    "    for f in range(features):\n",
    "        print(\"%d. feature %s (%f)\" % (f + 1, feature_names[indices[f]], importances[indices[f]]))\n",
    "    # Plot the feature importances of the forest\n",
    "    plt.figure(figsize=(10,10))\n",
    "    plt.title(\"Feature importances\")\n",
    "    plt.bar(range(features), importances[indices[:features]],color=\"r\", yerr=std[indices[:features]], align=\"center\")\n",
    "    plt.xticks(range(features), indices[:features])\n",
    "    plt.xlim([-1,features])\n",
    "    plt.show()\n",
    "\n",
    "visualizeFeatureImportance(model,X_train.columns,10)"
   ]
  },
  {
   "cell_type": "code",
   "execution_count": 33,
   "metadata": {},
   "outputs": [
    {
     "name": "stdout",
     "output_type": "stream",
     "text": [
      "0.550861674546\n",
      "[[68 11]\n",
      " [63 20]]\n",
      "             precision    recall  f1-score   support\n",
      "\n",
      "          0       0.52      0.86      0.65        79\n",
      "          1       0.65      0.24      0.35        83\n",
      "\n",
      "avg / total       0.58      0.54      0.50       162\n",
      "\n",
      "Feature ranking:\n",
      "1. feature avr_lodging (0.017793)\n",
      "2. feature avr_doctor (0.014627)\n",
      "3. feature avr_store (0.014332)\n",
      "4. feature no_of_near_by_shops (0.013033)\n",
      "5. feature avr_atm (0.012229)\n",
      "6. feature avr_restaurant (0.012090)\n",
      "7. feature avr_shoe_store (0.011812)\n",
      "8. feature near_by_post_code (0.011494)\n",
      "9. feature n_car_dealer (0.011158)\n",
      "10. feature n_doctor (0.011041)\n"
     ]
    },
    {
     "data": {
      "image/png": "[encoded data removed]",
      "text/plain": [
       "<matplotlib.figure.Figure at 0x11812f898>"
      ]
     },
     "metadata": {},
     "output_type": "display_data"
    }
   ],
   "source": [
    "# prepare the model\n",
    "scaler = StandardScaler().fit(X_train)\n",
    "rescaledX = scaler.transform(X_train)\n",
    "model_et = ExtraTreesClassifier(n_estimators=200, max_depth=20)\n",
    "model_et.fit(rescaledX, y_train)\n",
    "\n",
    "# estimate accuracy on validation dataset\n",
    "rescaledValidationX = scaler.transform(X_test)\n",
    "predictions = model.predict(rescaledValidationX)\n",
    "\n",
    "print(roc_auc_score(y_test, predictions))\n",
    "print(confusion_matrix(y_test, predictions))\n",
    "print(classification_report(y_test, predictions))\n",
    "visualizeFeatureImportance(model_et,X_train.columns,10)"
   ]
  },
  {
   "cell_type": "code",
   "execution_count": 34,
   "metadata": {
    "scrolled": false
   },
   "outputs": [
    {
     "name": "stdout",
     "output_type": "stream",
     "text": [
      "{'C': 0.003}\n"
     ]
    }
   ],
   "source": [
    "from sklearn.grid_search import GridSearchCV\n",
    "from sklearn.datasets import make_classification\n",
    "from sklearn.ensemble import RandomForestClassifier\n",
    "\n",
    "rfc = LogisticRegression(C=0.001,penalty='l1',n_jobs=10,class_weight='balanced') \n",
    "\n",
    "\n",
    "param_grid = { \n",
    "    'C': [0.0001,0.00015,0.0015,0.002,0.003,0.004,0.005]\n",
    "}\n",
    "\n",
    "CV_rfc = GridSearchCV(estimator=rfc,param_grid=param_grid, cv= 5,scoring='roc_auc')\n",
    "CV_rfc.fit(X_train, y_train)\n",
    "print (CV_rfc.best_params_)"
   ]
  },
  {
   "cell_type": "code",
   "execution_count": 35,
   "metadata": {},
   "outputs": [
    {
     "name": "stdout",
     "output_type": "stream",
     "text": [
      "Confusion matrix, without normalization\n",
      "[[37 42]\n",
      " [34 49]]\n",
      "0.529357938081\n"
     ]
    },
    {
     "data": {
      "image/png": "[encoded data removed]",
      "text/plain": [
       "<matplotlib.figure.Figure at 0x11710af28>"
      ]
     },
     "metadata": {},
     "output_type": "display_data"
    }
   ],
   "source": [
    "lr = LogisticRegression(C=0.003,penalty='l1',n_jobs=10)\n",
    "lr.fit(X_train, y_train)\n",
    "predictions = model.predict(X_test)\n",
    "\n",
    "import itertools\n",
    "# Compute confusion matrix\n",
    "cnf_matrix = confusion_matrix(y_test, predictions)\n",
    "class_names = ['0','1']\n",
    "np.set_printoptions(precision=2)\n",
    "\n",
    "# Plot non-normalized confusion matrix\n",
    "plt.figure()\n",
    "plot_confusion_matrix(cnf_matrix,classes=class_names,title='Confusion matrix, without normalization')\n",
    "\n",
    "print(roc_auc_score(y_test, predictions))\n",
    "# # Plot normalized confusion matrix\n",
    "# plt.figure()\n",
    "# plot_confusion_matrix(cnf_matrix, classes=class_names, normalize=True,title='Normalized confusion matrix')\n",
    "# plt.show()"
   ]
  },
  {
   "cell_type": "code",
   "execution_count": 36,
   "metadata": {},
   "outputs": [
    {
     "name": "stdout",
     "output_type": "stream",
     "text": [
      "Version 0.9.0 of tpot is outdated. Version 0.9.1 was released Friday November 10, 2017.\n",
      "Warning: xgboost.XGBClassifier is not available and will not be used by TPOT.\n"
     ]
    },
    {
     "name": "stderr",
     "output_type": "stream",
     "text": [
      "Optimization Progress:  33%|███▎      | 100/300 [03:09<08:13,  2.47s/pipeline] "
     ]
    },
    {
     "name": "stdout",
     "output_type": "stream",
     "text": [
      "Generation 1 - Current best internal CV score: 0.6128120882740448\n"
     ]
    },
    {
     "name": "stderr",
     "output_type": "stream",
     "text": [
      "Optimization Progress:  50%|█████     | 150/300 [05:36<07:53,  3.16s/pipeline]"
     ]
    },
    {
     "name": "stdout",
     "output_type": "stream",
     "text": [
      "Generation 2 - Current best internal CV score: 0.6133168642951252\n"
     ]
    },
    {
     "name": "stderr",
     "output_type": "stream",
     "text": [
      "Optimization Progress:  67%|██████▋   | 200/300 [09:01<06:55,  4.15s/pipeline]"
     ]
    },
    {
     "name": "stdout",
     "output_type": "stream",
     "text": [
      "Generation 3 - Current best internal CV score: 0.6196360342555994\n"
     ]
    },
    {
     "name": "stderr",
     "output_type": "stream",
     "text": [
      "Optimization Progress:  84%|████████▎ | 251/300 [19:38<03:04,  3.76s/pipeline]   "
     ]
    },
    {
     "name": "stdout",
     "output_type": "stream",
     "text": [
      "Generation 4 - Current best internal CV score: 0.6217448945981555\n"
     ]
    },
    {
     "name": "stderr",
     "output_type": "stream",
     "text": [
      "                                                                                \r"
     ]
    },
    {
     "name": "stdout",
     "output_type": "stream",
     "text": [
      "Generation 5 - Current best internal CV score: 0.6217448945981555\n",
      "\n",
      "Best pipeline: ExtraTreesClassifier(GradientBoostingClassifier(input_matrix, learning_rate=0.01, max_depth=6, max_features=0.35, min_samples_leaf=2, min_samples_split=17, n_estimators=100, subsample=0.4), bootstrap=False, criterion=gini, max_features=1.0, min_samples_leaf=12, min_samples_split=8, n_estimators=100)\n",
      "0.539042244929\n",
      "[[49 30]\n",
      " [45 38]]\n"
     ]
    }
   ],
   "source": [
    "from tpot import TPOTClassifier\n",
    "\n",
    "# prepare the model\n",
    "model = TPOTClassifier(generations=5, population_size=50, verbosity=2,cv=10,scoring='roc_auc')\n",
    "model.fit(X_train, y_train)\n",
    "\n",
    "predictions = model.predict(X_test)\n",
    "\n",
    "print(roc_auc_score(y_test, predictions))\n",
    "print(confusion_matrix(y_test, predictions))\n"
   ]
  },
  {
   "cell_type": "code",
   "execution_count": null,
   "metadata": {
    "collapsed": true
   },
   "outputs": [],
   "source": []
  }
 ],
 "metadata": {
  "kernelspec": {
   "display_name": "Python 3",
   "language": "python",
   "name": "python3"
  },
  "language_info": {
   "codemirror_mode": {
    "name": "ipython",
    "version": 3
   },
   "file_extension": ".py",
   "mimetype": "text/x-python",
   "name": "python",
   "nbconvert_exporter": "python",
   "pygments_lexer": "ipython3",
   "version": "3.6.1"
  }
 },
 "nbformat": 4,
 "nbformat_minor": 2
}
