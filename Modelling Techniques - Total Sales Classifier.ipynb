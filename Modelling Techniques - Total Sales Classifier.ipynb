{
 "cells": [
  {
   "cell_type": "markdown",
   "metadata": {},
   "source": [
    "## Model the Target as Binary Variable - Classification Problem"
   ]
  },
  {
   "cell_type": "markdown",
   "metadata": {
    "collapsed": true
   },
   "source": [
    "#### Load Libraries"
   ]
  },
  {
   "cell_type": "code",
   "execution_count": 55,
   "metadata": {
    "collapsed": true
   },
   "outputs": [],
   "source": [
    "import pandas as pd\n",
    "pd.options.display.max_columns = 200\n",
    "pd.options.display.max_rows = 1000\n",
    "from sklearn import preprocessing\n",
    "import numpy as np\n",
    "from sklearn.metrics import accuracy_score\n",
    "from sklearn.model_selection import train_test_split\n",
    "from sklearn.pipeline import make_pipeline, make_union\n",
    "from tpot.builtins import StackingEstimator\n",
    "from tpot import TPOTClassifier\n",
    "from sklearn.datasets import load_iris\n",
    "from sklearn.metrics import roc_auc_score\n",
    "from scipy import interp\n",
    "from itertools import cycle\n",
    "from sklearn import svm, datasets\n",
    "from sklearn.metrics import roc_curve, auc\n",
    "from sklearn.model_selection import StratifiedKFold\n",
    "from sklearn.metrics import average_precision_score\n",
    "from matplotlib import pyplot\n",
    "from pandas import read_csv\n",
    "from pandas import set_option\n",
    "from pandas.tools.plotting import scatter_matrix\n",
    "from sklearn.preprocessing import StandardScaler\n",
    "from sklearn.model_selection import KFold\n",
    "from sklearn.model_selection import cross_val_score\n",
    "from sklearn.model_selection import GridSearchCV\n",
    "from sklearn.metrics import classification_report\n",
    "from sklearn.metrics import confusion_matrix\n",
    "from sklearn.pipeline import Pipeline\n",
    "from sklearn.linear_model import LogisticRegression\n",
    "from sklearn.tree import DecisionTreeClassifier\n",
    "from sklearn.neighbors import KNeighborsClassifier\n",
    "from sklearn.discriminant_analysis import LinearDiscriminantAnalysis\n",
    "from sklearn.naive_bayes import GaussianNB\n",
    "from sklearn.svm import SVC\n",
    "from sklearn.ensemble import AdaBoostClassifier\n",
    "from sklearn.ensemble import GradientBoostingClassifier\n",
    "from sklearn.ensemble import RandomForestClassifier\n",
    "from sklearn.ensemble import ExtraTreesClassifier\n",
    "import matplotlib.pyplot as plt\n",
    "import seaborn as sns\n",
    "from __future__ import print_function\n",
    "import os\n",
    "import subprocess\n",
    "from sklearn.tree import DecisionTreeClassifier, export_graphviz\n",
    "%matplotlib inline\n",
    "import warnings\n",
    "warnings.filterwarnings('ignore')"
   ]
  },
  {
   "cell_type": "markdown",
   "metadata": {},
   "source": [
    "#### Load the surrounding and sales data and join them to create a data set for learning"
   ]
  },
  {
   "cell_type": "code",
   "execution_count": 56,
   "metadata": {
    "collapsed": true
   },
   "outputs": [],
   "source": [
    "surrounding_pdf = pd.read_csv('../UseCase_3_Datasets/store_surrounding_pdf_exp.csv')\n",
    "surrounding_nf_pdf = pd.read_csv('../UseCase_3_Datasets/new_features.csv')\n",
    "\n",
    "surrounding_pdf = pd.merge(surrounding_nf_pdf,surrounding_pdf,on='store_code',how='inner')\n",
    "surrounding_pdf = surrounding_pdf.drop_duplicates()\n",
    "\n",
    "y_column = 'total_sales'\n",
    "\n",
    "# store_sales = pd.read_csv('../UseCase_3_Datasets/sales_daily_simple_sum.csv')\n",
    "# sales_pdf_daily_sub = store_sales[['store_code','total_sales']]\n",
    "\n",
    "#store_sales = pd.read_csv('../UseCase_3_Datasets/sales_per_hr.csv')\n",
    "#sales_pdf_daily_sub = store_sales[['store_code','sales_per_hr']]\n",
    "\n",
    "store_sales = pd.read_csv('../UseCase_3_Datasets/sales_per_day_period.csv')\n",
    "sales_pdf_daily_sub = store_sales[['store_code','total_sales','Morning','Afternoon','Evening','sales_pattern']]\n",
    "# sales_pdf_daily_sub = sales_pdf_daily_sub[(sales_pdf_daily_sub['sales_pattern'] == 'Evening') |\n",
    "#                                           (sales_pdf_daily_sub['sales_pattern'] == 'Afternoon')]\n",
    "sales_pdf_daily_sub = sales_pdf_daily_sub[['store_code',y_column]]\n"
   ]
  },
  {
   "cell_type": "code",
   "execution_count": 57,
   "metadata": {
    "collapsed": true,
    "scrolled": false
   },
   "outputs": [],
   "source": [
    "# # #Read other population realted information from wiki\n",
    "# pop_features_pdf = pd.read_csv('../UseCase_3_Datasets/swiss_pop_features_2.csv',sep=';',header=0)\n",
    "# pop_features_pdf.head()\n",
    "# pop_features_pdf.columns\n",
    "# pop_pdf = pd.read_csv('../UseCase_3_Datasets/swiss_pop.csv',sep=',')\n",
    "# pop_pdf.head()\n",
    "\n",
    "# # #Comnine with surrounding data using city code informartion\n",
    "# surrounding_pdf = pd.merge(pop_features_pdf,surrounding_pdf,on='city',how='inner')\n",
    "# surrounding_pdf = surrounding_pdf.drop_duplicates()\n",
    "# surrounding_pdf = pd.merge(pop_pdf,surrounding_pdf,on='city',how='inner')\n",
    "# surrounding_pdf = surrounding_pdf.drop_duplicates()\n",
    "# surrounding_pdf['pop_above_20'] = 100-surrounding_pdf['pop_under_20']\n",
    "# surrounding_pdf= surrounding_pdf.drop('cant',axis=1)\n",
    "# surrounding_pdf.head()"
   ]
  },
  {
   "cell_type": "code",
   "execution_count": 58,
   "metadata": {},
   "outputs": [
    {
     "name": "stdout",
     "output_type": "stream",
     "text": [
      "Surrounding Shape (525, 705)\n",
      "Sales Shape (905, 2)\n"
     ]
    }
   ],
   "source": [
    "print(\"Surrounding Shape\",surrounding_pdf.shape)\n",
    "print(\"Sales Shape\",sales_pdf_daily_sub.shape)"
   ]
  },
  {
   "cell_type": "markdown",
   "metadata": {},
   "source": [
    "### Data Cleaning"
   ]
  },
  {
   "cell_type": "markdown",
   "metadata": {},
   "source": [
    "#### Remove variable that have ony one unique value"
   ]
  },
  {
   "cell_type": "code",
   "execution_count": 59,
   "metadata": {},
   "outputs": [
    {
     "name": "stdout",
     "output_type": "stream",
     "text": [
      "Sales Surrounding Shape (524, 699)\n"
     ]
    }
   ],
   "source": [
    "#Join Store and Surroounding datasets\n",
    "sales_surrounding_pdf = pd.merge(sales_pdf_daily_sub,surrounding_pdf,on='store_code',how='inner')\n",
    "sales_surrounding_pdf = sales_surrounding_pdf.drop_duplicates()\n",
    "# Dropping columns that do not provide useful information for this analysis\n",
    "for i in sales_surrounding_pdf.columns:\n",
    "    if sales_surrounding_pdf[i].nunique() == 1:\n",
    "        sales_surrounding_pdf.drop(i, axis = 1, inplace = True)\n",
    "print(\"Sales Surrounding Shape\",sales_surrounding_pdf.shape)"
   ]
  },
  {
   "cell_type": "code",
   "execution_count": 60,
   "metadata": {
    "collapsed": true,
    "scrolled": false
   },
   "outputs": [],
   "source": [
    "# #Visualization of individual attributes\n",
    "# #Histogram\n",
    "# sales_surrounding_pdf.hist(sharex=False,sharey=False,xlabelsize=0.25,ylabelsize=0.25,figsize=(20,20))\n",
    "# pyplot.show()"
   ]
  },
  {
   "cell_type": "code",
   "execution_count": 61,
   "metadata": {
    "collapsed": true,
    "scrolled": false
   },
   "outputs": [],
   "source": [
    "# sales_surrounding_pdf.plot(kind='density', subplots=True, layout=(10,18), sharex=False, legend=False,fontsize=1,\n",
    "#                           figsize=(20,20))\n",
    "# pyplot.show()"
   ]
  },
  {
   "cell_type": "code",
   "execution_count": 62,
   "metadata": {
    "collapsed": true
   },
   "outputs": [],
   "source": [
    "# fig = pyplot.figure(figsize=(15,15))\n",
    "# ax = fig.add_subplot(111)\n",
    "# cax = ax.matshow(sales_surrounding_pdf.corr(),vmin=-1, vmax=1)\n",
    "# fig.colorbar(cax)\n",
    "# pyplot.show()"
   ]
  },
  {
   "cell_type": "markdown",
   "metadata": {},
   "source": [
    "#### One hot Encoding for categorical values"
   ]
  },
  {
   "cell_type": "code",
   "execution_count": 63,
   "metadata": {
    "collapsed": true,
    "scrolled": false
   },
   "outputs": [],
   "source": [
    "import math\n",
    "\n",
    "sales_surrounding_pdf_ohe = pd.get_dummies(sales_surrounding_pdf)\n",
    "#Create Train,Test without imputation\n",
    "#X = sales_surrounding_pdf.loc[:, sales_surrounding_pdf.columns != 'total_sales']\n",
    "#X = sales_surrounding_pdf.loc[:, sales_surrounding_pdf.columns != 'store_code']\n",
    "\n",
    "y = sales_surrounding_pdf_ohe[y_column].apply(lambda x : math.log(x+1))\n",
    "\n",
    "X = sales_surrounding_pdf_ohe.drop([y_column,'store_code'],axis=1)\n",
    "#X = sales_surrounding_pdf.drop('store_code',axis=1)\n",
    "\n",
    "# print(\"Shape \",X.shape)\n",
    "# print (\"Shape \",y.shape )"
   ]
  },
  {
   "cell_type": "code",
   "execution_count": 64,
   "metadata": {},
   "outputs": [
    {
     "data": {
      "image/png": "[encoded data removed]",
      "text/plain": [
       "<matplotlib.figure.Figure at 0x1174f5198>"
      ]
     },
     "metadata": {},
     "output_type": "display_data"
    }
   ],
   "source": [
    "y.plot(kind='hist',subplots=True,fontsize=10,figsize=(10,10),grid=True,)\n",
    "# y_test.hist(bins=20,figsize=(10,10))\n",
    "pyplot.axvline(x=8.35,color='red')\n",
    "pyplot.xlabel(\"Store Sales\")\n",
    "pyplot.show()"
   ]
  },
  {
   "cell_type": "markdown",
   "metadata": {},
   "source": [
    "#### Creation of Test and Train set"
   ]
  },
  {
   "cell_type": "code",
   "execution_count": 65,
   "metadata": {
    "collapsed": true
   },
   "outputs": [],
   "source": [
    "#Divide into train and test\n",
    "validation_size = 0.20\n",
    "seed = 33\n",
    "X_train, X_test, y_train, y_test = train_test_split(X, y,test_size=validation_size,random_state=seed)"
   ]
  },
  {
   "cell_type": "markdown",
   "metadata": {},
   "source": [
    "#### Target Creation\n",
    "Since we plan to make a binary target, we try to find a split point, looking at the data \n",
    "Also, the split point is created in such a way, that we do dont create a unbalanced dataset to learn and predict."
   ]
  },
  {
   "cell_type": "code",
   "execution_count": 66,
   "metadata": {
    "scrolled": false
   },
   "outputs": [
    {
     "data": {
      "text/plain": [
       "<matplotlib.axes._subplots.AxesSubplot at 0x1174ce1d0>"
      ]
     },
     "execution_count": 66,
     "metadata": {},
     "output_type": "execute_result"
    },
    {
     "data": {
      "image/png": "[encoded data removed]",
      "text/plain": [
       "<matplotlib.figure.Figure at 0x1174f53c8>"
      ]
     },
     "metadata": {},
     "output_type": "display_data"
    }
   ],
   "source": [
    "# xtick_list = range(0,500000,50000)\n",
    "# ytick_list = range(0,y_train.shape[0],30)\n",
    "# y_train.plot(kind='hist',subplots=True,fontsize=10,figsize=(10,10),xticks=xtick_list,yticks=ytick_list)\n",
    "y_train.hist(bins=30,figsize=(10,10))\n",
    "# pyplot.xlabel(\"Store Sales\")\n",
    "# pyplot.show()"
   ]
  },
  {
   "cell_type": "code",
   "execution_count": 67,
   "metadata": {
    "collapsed": true,
    "scrolled": false
   },
   "outputs": [],
   "source": [
    "# y_train[y_train.values < 8].hist(bins=30,figsize=(10,10),)\n",
    "# pyplot.xlabel(\"Store Sales\")\n",
    "# pyplot.show()"
   ]
  },
  {
   "cell_type": "code",
   "execution_count": 68,
   "metadata": {},
   "outputs": [
    {
     "data": {
      "image/png": "[encoded data removed]",
      "text/plain": [
       "<matplotlib.figure.Figure at 0x1174ceba8>"
      ]
     },
     "metadata": {},
     "output_type": "display_data"
    }
   ],
   "source": [
    "# xtick_list = range(0,500000,50000)\n",
    "# ytick_list = range(0,y_test.shape[0],10)\n",
    "#y_test.plot(kind='hist',subplots=True,fontsize=10,figsize=(10,10),grid=True,xticks=xtick_list,yticks=ytick_list)\n",
    "y_test.hist(bins=20,figsize=(10,10))\n",
    "pyplot.xlabel(\"Store Sales\")\n",
    "pyplot.show()"
   ]
  },
  {
   "cell_type": "code",
   "execution_count": 70,
   "metadata": {
    "scrolled": false
   },
   "outputs": [
    {
     "name": "stdout",
     "output_type": "stream",
     "text": [
      "Split Point  7.0\n",
      "% of 0-class in Test  19.0476190476\n",
      "% of 0-class in Train  17.661097852\n",
      "\n",
      "\n",
      "Split Point  7.15\n",
      "% of 0-class in Test  24.7619047619\n",
      "% of 0-class in Train  19.3317422434\n",
      "\n",
      "\n",
      "Split Point  7.3\n",
      "% of 0-class in Test  25.7142857143\n",
      "% of 0-class in Train  21.0023866348\n",
      "\n",
      "\n",
      "Split Point  7.45\n",
      "% of 0-class in Test  30.4761904762\n",
      "% of 0-class in Train  23.6276849642\n",
      "\n",
      "\n",
      "Split Point  7.6\n",
      "% of 0-class in Test  34.2857142857\n",
      "% of 0-class in Train  24.5823389021\n",
      "\n",
      "\n",
      "Split Point  7.75\n",
      "% of 0-class in Test  36.1904761905\n",
      "% of 0-class in Train  27.923627685\n",
      "\n",
      "\n",
      "Split Point  7.9\n",
      "% of 0-class in Test  40.9523809524\n",
      "% of 0-class in Train  31.0262529833\n",
      "\n",
      "\n",
      "Split Point  8.05\n",
      "% of 0-class in Test  43.8095238095\n",
      "% of 0-class in Train  35.5608591885\n",
      "\n",
      "\n",
      "Split Point  8.2\n",
      "% of 0-class in Test  45.7142857143\n",
      "% of 0-class in Train  38.4248210024\n",
      "\n",
      "\n",
      "Split Point  8.35\n",
      "% of 0-class in Test  49.5238095238\n",
      "% of 0-class in Train  45.8233890215\n",
      "\n",
      "\n",
      "Split Point  8.5\n",
      "% of 0-class in Test  51.4285714286\n",
      "% of 0-class in Train  49.4033412888\n",
      "\n",
      "\n",
      "Split Point  8.65\n",
      "% of 0-class in Test  55.2380952381\n",
      "% of 0-class in Train  55.369928401\n",
      "\n",
      "\n",
      "Split Point  8.8\n",
      "% of 0-class in Test  58.0952380952\n",
      "% of 0-class in Train  60.1431980907\n",
      "\n",
      "\n",
      "Split Point  8.95\n",
      "% of 0-class in Test  60.9523809524\n",
      "% of 0-class in Train  64.9164677804\n",
      "\n",
      "\n",
      "Split Point  9.1\n",
      "% of 0-class in Test  64.7619047619\n",
      "% of 0-class in Train  67.5417661098\n",
      "\n",
      "\n",
      "Split Point  9.25\n",
      "% of 0-class in Test  70.4761904762\n",
      "% of 0-class in Train  72.076372315\n",
      "\n",
      "\n",
      "Split Point  9.4\n",
      "% of 0-class in Test  73.3333333333\n",
      "% of 0-class in Train  76.3723150358\n",
      "\n",
      "\n",
      "Split Point  9.55\n",
      "% of 0-class in Test  79.0476190476\n",
      "% of 0-class in Train  77.8042959427\n",
      "\n",
      "\n",
      "Split Point  9.7\n",
      "% of 0-class in Test  81.9047619048\n",
      "% of 0-class in Train  79.9522673031\n",
      "\n",
      "\n",
      "Split Point  9.85\n",
      "% of 0-class in Test  83.8095238095\n",
      "% of 0-class in Train  82.338902148\n",
      "\n",
      "\n"
     ]
    }
   ],
   "source": [
    "#Find the most balanced point of the data set :\n",
    "\n",
    "for i in np.arange(7,10,0.15):\n",
    "    y_train_sp = y_train.apply(lambda x : 1 if x >=i else 0 )\n",
    "    y_test_sp = y_test.apply(lambda x : 1 if x >=i else 0)\n",
    "    print (\"Split Point \", i)\n",
    "    print (\"% of 0-class in Test \",y_test_sp.value_counts()[0]/ (y_test_sp.value_counts()[1]+y_test_sp.value_counts()[0])*100)\n",
    "    print (\"% of 0-class in Train \",y_train_sp.value_counts()[0]/ (y_train_sp.value_counts()[1]+y_train_sp.value_counts()[0])*100)\n",
    "    print(\"\\n\")"
   ]
  },
  {
   "cell_type": "code",
   "execution_count": 16,
   "metadata": {
    "scrolled": false
   },
   "outputs": [
    {
     "data": {
      "text/plain": [
       "1    53\n",
       "0    52\n",
       "Name: total_sales, dtype: int64"
      ]
     },
     "execution_count": 16,
     "metadata": {},
     "output_type": "execute_result"
    }
   ],
   "source": [
    "#Based on the above histogram comparison threshold 50,000 is a good enough to make binary classification target\n",
    "split_point = 8.35 \n",
    "y_train = y_train.apply(lambda x : 1 if x >=split_point else 0 )\n",
    "y_test = y_test.apply(lambda x : 1 if x >=split_point else 0)\n",
    "y = y.apply(lambda x : 1 if x >=split_point else 0)\n",
    "\n",
    "y_test.value_counts()\n",
    "#Binary Targets created."
   ]
  },
  {
   "cell_type": "code",
   "execution_count": 17,
   "metadata": {},
   "outputs": [
    {
     "data": {
      "text/plain": [
       "49.523809523809526"
      ]
     },
     "execution_count": 17,
     "metadata": {},
     "output_type": "execute_result"
    }
   ],
   "source": [
    "y_test.value_counts()[0] / (y_test.value_counts()[1]+y_test.value_counts()[0])*100"
   ]
  },
  {
   "cell_type": "code",
   "execution_count": 18,
   "metadata": {},
   "outputs": [
    {
     "data": {
      "text/plain": [
       "1    227\n",
       "0    192\n",
       "Name: total_sales, dtype: int64"
      ]
     },
     "execution_count": 18,
     "metadata": {},
     "output_type": "execute_result"
    }
   ],
   "source": [
    "y_train.value_counts()"
   ]
  },
  {
   "cell_type": "code",
   "execution_count": 19,
   "metadata": {},
   "outputs": [
    {
     "data": {
      "text/plain": [
       "45.823389021479713"
      ]
     },
     "execution_count": 19,
     "metadata": {},
     "output_type": "execute_result"
    }
   ],
   "source": [
    "y_train.value_counts()[0] / (y_train.value_counts()[1]+y_train.value_counts()[0])*100"
   ]
  },
  {
   "cell_type": "code",
   "execution_count": 20,
   "metadata": {},
   "outputs": [
    {
     "data": {
      "text/plain": [
       "pandas.core.frame.DataFrame"
      ]
     },
     "execution_count": 20,
     "metadata": {},
     "output_type": "execute_result"
    }
   ],
   "source": [
    "type(X_train)"
   ]
  },
  {
   "cell_type": "markdown",
   "metadata": {},
   "source": [
    "On the spot checks,try out some basic models and see, how they perform "
   ]
  },
  {
   "cell_type": "code",
   "execution_count": 21,
   "metadata": {
    "scrolled": false
   },
   "outputs": [
    {
     "name": "stdout",
     "output_type": "stream",
     "text": [
      "LR: 0.585009 (0.115225)\n",
      "LR with L1 penalty: 0.595242 (0.119246)\n",
      "CART: 0.569881 (0.091629)\n",
      "LDA: 0.522499 (0.093368)\n",
      "KNN: 0.554895 (0.061277)\n"
     ]
    }
   ],
   "source": [
    "#Find Feature Importance via various methods\n",
    "#1)Logistic Regression\n",
    "#1.1) Logistic Regression with L1 Penalty (Lasso)\n",
    "#2)Decision Tree\n",
    "\n",
    "# Spot-Check Algorithms\n",
    "models = []\n",
    "num_folds = 10\n",
    "seed = 42\n",
    "scoring ='roc_auc'\n",
    "\n",
    "models.append(('LR', LogisticRegression()))\n",
    "models.append(('LR with L1 penalty', LogisticRegression(penalty='l1')))\n",
    "models.append(('CART', DecisionTreeClassifier()))\n",
    "models.append(('LDA', LinearDiscriminantAnalysis()))\n",
    "models.append(('KNN', KNeighborsClassifier()))\n",
    "\n",
    "\n",
    "results = []\n",
    "names = []\n",
    "for name, model in models:\n",
    "    kfold = KFold(n_splits=num_folds, random_state=seed)\n",
    "    cv_results = cross_val_score(model, X_train, y_train, cv=kfold, scoring=scoring)\n",
    "    results.append(cv_results)\n",
    "    names.append(name)\n",
    "    msg = \"%s: %f (%f)\" % (name,cv_results.mean(),cv_results.std())\n",
    "    print(msg)"
   ]
  },
  {
   "cell_type": "code",
   "execution_count": 22,
   "metadata": {},
   "outputs": [
    {
     "data": {
      "image/png": "[encoded data removed]",
      "text/plain": [
       "<matplotlib.figure.Figure at 0x117815c88>"
      ]
     },
     "metadata": {},
     "output_type": "display_data"
    }
   ],
   "source": [
    "# Compare Algorithms\n",
    "fig = pyplot.figure(figsize=(10,10))\n",
    "fig.suptitle('Algorithm Comparison')\n",
    "ax = fig.add_subplot(111)\n",
    "pyplot.boxplot(results)\n",
    "ax.set_xticklabels(names)\n",
    "pyplot.show()"
   ]
  },
  {
   "cell_type": "code",
   "execution_count": 23,
   "metadata": {},
   "outputs": [
    {
     "name": "stdout",
     "output_type": "stream",
     "text": [
      "Scaled LR: 0.558057 (0.107658)\n",
      "Scaled LR with L1: 0.579036 (0.122296)\n",
      "Scaled CART: 0.584145 (0.096055)\n",
      "ScaledKNN: 0.571015 (0.082552)\n"
     ]
    }
   ],
   "source": [
    "pipelines = []\n",
    "pipelines.append(('Scaled LR', Pipeline([('Scaler', StandardScaler()),('LR',LogisticRegression())])))\n",
    "pipelines.append(('Scaled LR with L1', Pipeline([('Scaler', StandardScaler()),('LR with L1',LogisticRegression(penalty='l1'))])))\n",
    "pipelines.append(('Scaled CART', Pipeline([('Scaler', StandardScaler()),('CART',DecisionTreeClassifier(max_depth=5))])))\n",
    "pipelines.append(('ScaledKNN', Pipeline([('Scaler', StandardScaler()),('KNN',KNeighborsClassifier())])))\n",
    "results = []\n",
    "names = []\n",
    "for name, model in pipelines:\n",
    "    kfold = KFold(n_splits=num_folds, random_state=seed)\n",
    "    cv_results = cross_val_score(model, X_train, y_train, cv=kfold, scoring=scoring)\n",
    "    results.append(cv_results)\n",
    "    names.append(name)\n",
    "    msg = \"%s: %f (%f)\" % (name, cv_results.mean(), cv_results.std())\n",
    "    print(msg)"
   ]
  },
  {
   "cell_type": "code",
   "execution_count": 24,
   "metadata": {},
   "outputs": [
    {
     "data": {
      "image/png": "[encoded data removed]",
      "text/plain": [
       "<matplotlib.figure.Figure at 0x118959588>"
      ]
     },
     "metadata": {},
     "output_type": "display_data"
    }
   ],
   "source": [
    "fig = pyplot.figure(figsize=(10,10))\n",
    "fig.suptitle('Scaled Algorithm Comparison')\n",
    "ax = fig.add_subplot(111)\n",
    "pyplot.boxplot(results)\n",
    "ax.set_xticklabels(names)\n",
    "pyplot.show()"
   ]
  },
  {
   "cell_type": "markdown",
   "metadata": {},
   "source": [
    "Try, some ensemble model, and see their performance"
   ]
  },
  {
   "cell_type": "code",
   "execution_count": 25,
   "metadata": {},
   "outputs": [
    {
     "name": "stdout",
     "output_type": "stream",
     "text": [
      "RF: 0.609165 (0.054061)\n",
      "ET: 0.559915 (0.088540)\n"
     ]
    }
   ],
   "source": [
    "# ensembles\n",
    "ensembles = []\n",
    "\n",
    "ensembles.append(('RF', RandomForestClassifier()))\n",
    "ensembles.append(('ET', ExtraTreesClassifier()))\n",
    "results = []\n",
    "names = []\n",
    "for name, model in ensembles:\n",
    "    kfold = KFold(n_splits=num_folds, random_state=seed)\n",
    "    cv_results = cross_val_score(model, X_train, y_train, cv=kfold, scoring=scoring)\n",
    "    results.append(cv_results)\n",
    "    names.append(name)\n",
    "    msg = \"%s: %f (%f)\" % (name, cv_results.mean(), cv_results.std())\n",
    "    print(msg)"
   ]
  },
  {
   "cell_type": "code",
   "execution_count": 26,
   "metadata": {},
   "outputs": [
    {
     "data": {
      "image/png": "[encoded data removed]",
      "text/plain": [
       "<matplotlib.figure.Figure at 0x11731e550>"
      ]
     },
     "metadata": {},
     "output_type": "display_data"
    }
   ],
   "source": [
    "# Compare Algorithms\n",
    "fig = pyplot.figure(figsize=(10,10))\n",
    "fig.suptitle('Ensemble Algorithm Comparison')\n",
    "ax = fig.add_subplot(111)\n",
    "pyplot.boxplot(results)\n",
    "ax.set_xticklabels(names)\n",
    "pyplot.show()"
   ]
  },
  {
   "cell_type": "code",
   "execution_count": 27,
   "metadata": {
    "collapsed": true
   },
   "outputs": [],
   "source": [
    "def plot_confusion_matrix(cm, classes,\n",
    "                          normalize=False,\n",
    "                          title='Confusion matrix',\n",
    "                          cmap=plt.cm.Blues):\n",
    "    \"\"\"\n",
    "    This function prints and plots the confusion matrix.\n",
    "    Normalization can be applied by setting `normalize=True`.\n",
    "    \"\"\"\n",
    "    if normalize:\n",
    "        cm = cm.astype('float') / cm.sum(axis=1)[:, np.newaxis]\n",
    "        print(\"Normalized confusion matrix\")\n",
    "    else:\n",
    "        print('Confusion matrix, without normalization')\n",
    "\n",
    "    print(cm)\n",
    "\n",
    "    plt.imshow(cm, interpolation='nearest', cmap=cmap)\n",
    "    plt.title(title)\n",
    "    plt.colorbar()\n",
    "    tick_marks = np.arange(len(classes))\n",
    "#     plt.xticks.set_color('black')\n",
    "#     plt.yticks.set_color('black')\n",
    "    plt.xticks(tick_marks, classes, rotation=45)\n",
    "    plt.yticks(tick_marks, classes)\n",
    "\n",
    "    fmt = '.2f' if normalize else 'd'\n",
    "    thresh = cm.max() / 2.\n",
    "    for i, j in itertools.product(range(cm.shape[0]), range(cm.shape[1])):\n",
    "        plt.text(j, i, format(cm[i, j], fmt),\n",
    "                 horizontalalignment=\"center\",\n",
    "                 color=\"red\" if cm[i, j] > thresh else \"black\")\n",
    "\n",
    "    plt.tight_layout()\n",
    "    #ax.xaxis.label.set_color('red')\n",
    "    #plt.xlabel.set_color('black')\n",
    "    plt.ylabel('True label')\n",
    "    plt.xlabel('Predicted label')\n",
    "    \n",
    "def visualize_tree(tree,feature_names,file_name):\n",
    "    \"\"\"Create tree png using graphviz.\n",
    "    Args\n",
    "    ----\n",
    "    tree -- scikit-learn DecsisionTree.\n",
    "    feature_names -- list of feature names.\n",
    "    \"\"\"\n",
    "    with open(file_name, 'w') as f:\n",
    "        export_graphviz(tree, out_file=f,feature_names=feature_names)\n",
    "    command = [\"dot\", \"-Tpng\", \"dt.dot\", \"-o\", \"dt.png\"]\n",
    "    try:\n",
    "        subprocess.check_call(command)\n",
    "    except:\n",
    "        exit(\"Could not run dot, ie graphviz, to produce visualization\")"
   ]
  },
  {
   "cell_type": "markdown",
   "metadata": {},
   "source": [
    "Since our goal is interpret-ability of our features, we will stick to models like Logistic regression, Decision Tree. Ensemble methods too can be used, since they provide a feature importance indication .\n",
    "\n",
    "In the below cells, we try out various algorithms. Use grid search to best tune the hyper parameters and using  cross - validation, to ensure we do not over fit the training data."
   ]
  },
  {
   "cell_type": "code",
   "execution_count": 28,
   "metadata": {},
   "outputs": [
    {
     "name": "stdout",
     "output_type": "stream",
     "text": [
      "{'criterion': 'entropy', 'max_depth': 7, 'max_features': 'auto', 'min_samples_split': 15}\n",
      "0.6139105139599397\n",
      "Train ROC-AUC : 0.862805157856\n",
      "Test ROC_AUC : 0.549528301887\n"
     ]
    }
   ],
   "source": [
    "from sklearn.grid_search import GridSearchCV\n",
    "from sklearn.datasets import make_classification\n",
    "from sklearn.ensemble import RandomForestClassifier\n",
    "\n",
    "seed = 13\n",
    "dtcf = DecisionTreeClassifier(max_depth=1,random_state=seed) \n",
    "\n",
    "# n_estimator = list(range(10,500,10))\n",
    "#print(dtcf.get_params)\n",
    "param_grid = { \n",
    "    \n",
    "    'max_depth': list(range(1,10,3)),\n",
    "    'max_features': ['auto', 'sqrt', 'log2'],\n",
    "    'min_samples_split' : list(range(2,20,1)),\n",
    "     'criterion':['entropy','gini']\n",
    "}\n",
    "\n",
    "CV_dtcf = GridSearchCV(estimator=dtcf,param_grid=param_grid, cv= 5,scoring='roc_auc')\n",
    "CV_dtcf.fit(X_train, y_train)\n",
    "\n",
    "print (CV_dtcf.best_params_)\n",
    "print (CV_dtcf.best_score_)\n",
    "\n",
    "\n",
    "predictions_train = CV_dtcf.best_estimator_.predict_proba(X_train)[:,1]\n",
    "print(\"Train ROC-AUC :\",roc_auc_score(y_train, predictions_train))\n",
    "predictions = CV_dtcf.best_estimator_.predict_proba(X_test)[:,1]\n",
    "print(\"Test ROC_AUC :\",roc_auc_score(y_test, predictions))\n",
    "visualize_tree(CV_dtcf.best_estimator_, X_train.columns,\"dt_cv.txt\")\n"
   ]
  },
  {
   "cell_type": "code",
   "execution_count": 29,
   "metadata": {},
   "outputs": [
    {
     "name": "stdout",
     "output_type": "stream",
     "text": [
      "Train ROC-AUC : 0.743254405286\n",
      "Test ROC_AUC : 0.693214804064\n"
     ]
    }
   ],
   "source": [
    "seed=13\n",
    "model = DecisionTreeClassifier(max_depth=3,criterion='entropy',random_state=seed)\n",
    "model.fit(X_train, y_train)\n",
    "#estimate on train data\n",
    "predictions_train = model.predict_proba(X_train)[:,1]\n",
    "print(\"Train ROC-AUC :\",roc_auc_score(y_train, predictions_train))\n",
    "predictions = model.predict_proba(X_test)[:,1]\n",
    "print(\"Test ROC_AUC :\",roc_auc_score(y_test, predictions))\n",
    "visualize_tree(model, X_train.columns,\"dt_entropy.txt\")"
   ]
  },
  {
   "cell_type": "code",
   "execution_count": 30,
   "metadata": {
    "collapsed": true
   },
   "outputs": [],
   "source": [
    "#Find Feature Importance with Random Forest Classifer and Extra Tress Classifier"
   ]
  },
  {
   "cell_type": "code",
   "execution_count": 31,
   "metadata": {
    "collapsed": true,
    "scrolled": false
   },
   "outputs": [],
   "source": [
    "# from sklearn.grid_search import GridSearchCV\n",
    "# from sklearn.datasets import make_classification\n",
    "# from sklearn.ensemble import RandomForestClassifier\n",
    "\n",
    "# rfc = RandomForestClassifier(n_jobs=-1,max_features= 'sqrt' ,n_estimators=50, oob_score = True) \n",
    "\n",
    "# # n_estimator = list(range(10,500,10))\n",
    "# # print(n_estimator)\n",
    "# param_grid = { \n",
    "#     'n_estimators': list(range(10,500,10)),\n",
    "#     'max_features': ['auto', 'sqrt', 'log2'],\n",
    "#     'max_depth' : list(range(3,9,1))\n",
    "# }\n",
    "\n",
    "# CV_rfc = GridSearchCV(estimator=rfc,param_grid=param_grid, cv= 5,scoring='roc_auc')\n",
    "# CV_rfc.fit(X_train, y_train)\n",
    "# print (CV_rfc.best_params_)"
   ]
  },
  {
   "cell_type": "code",
   "execution_count": 32,
   "metadata": {
    "collapsed": true
   },
   "outputs": [],
   "source": [
    "# Build a forest and compute the feature importances\n",
    "def visualizeFeatureImportance(model,feature_names,no_of_features):\n",
    "    forest = model\n",
    "    importances = forest.feature_importances_\n",
    "    std = np.std([tree.feature_importances_ for tree in forest.estimators_],axis=0)\n",
    "    indices = np.argsort(importances)[::-1]\n",
    "    features = no_of_features\n",
    "    # Print the feature ranking\n",
    "    print(\"Feature ranking:\")\n",
    "    for f in range(features):\n",
    "        print(\"%d. feature %s (%f)\" % (f + 1, feature_names[indices[f]], importances[indices[f]]))\n",
    "    # Plot the feature importances of the forest\n",
    "    plt.figure(figsize=(10,10))\n",
    "    plt.title(\"Feature importances\")\n",
    "    plt.bar(range(features), importances[indices[:features]],color=\"r\", yerr=std[indices[:features]], align=\"center\")\n",
    "    plt.xticks(range(features), indices[:features])\n",
    "    plt.xlim([-1,features])\n",
    "    plt.show()"
   ]
  },
  {
   "cell_type": "code",
   "execution_count": 33,
   "metadata": {},
   "outputs": [
    {
     "name": "stdout",
     "output_type": "stream",
     "text": [
      "Train ROC-AUC : 0.702780837004\n",
      "Test ROC-AUC : 0.589259796807\n",
      "Feature ranking:\n",
      "1. feature avr_university (0.068264)\n",
      "2. feature avr_travel_agency (0.067630)\n",
      "3. feature rating_dentist (0.065132)\n",
      "4. feature n_rating_per_entity_store_spa (0.062952)\n",
      "5. feature n_review (0.056685)\n",
      "6. feature entity_per_store_jewelry_store (0.053597)\n",
      "7. feature total_user_rating_restaurant (0.053468)\n",
      "8. feature n_bakery (0.050825)\n",
      "9. feature avr_spa (0.049250)\n",
      "10. feature rating_per_entity_store_post_office (0.044837)\n"
     ]
    },
    {
     "data": {
      "image/png": "[encoded data removed]",
      "text/plain": [
       "<matplotlib.figure.Figure at 0x116c68a58>"
      ]
     },
     "metadata": {},
     "output_type": "display_data"
    }
   ],
   "source": [
    "seed = 19\n",
    "rf_clf = RandomForestClassifier(n_estimators=5,max_depth=3,random_state=seed,max_features='sqrt')\n",
    "rf_clf.fit(X_train,y_train)\n",
    "predictions_train = rf_clf.predict(X_train)\n",
    "print(\"Train ROC-AUC :\",roc_auc_score(y_train, predictions_train))\n",
    "# estimate accuracy on validation dataset\n",
    "\n",
    "predictions = rf_clf.predict(X_test)\n",
    "print(\"Test ROC-AUC :\",roc_auc_score(y_test, predictions))\n",
    "visualizeFeatureImportance(rf_clf,X_train.columns,10)"
   ]
  },
  {
   "cell_type": "code",
   "execution_count": 34,
   "metadata": {},
   "outputs": [
    {
     "name": "stdout",
     "output_type": "stream",
     "text": [
      "Train AUC : 0.743931259178\n",
      "Test AUC : 0.647677793904\n",
      "Feature ranking:\n",
      "1. feature entity_per_store_gym (0.101984)\n",
      "2. feature rating_per_entity_store_physiotherapist (0.087518)\n",
      "3. feature city_GR (0.071863)\n",
      "4. feature rating_dentist (0.060138)\n",
      "5. feature entity_per_store_jewelry_store (0.054807)\n",
      "6. feature rating_home_goods_store (0.054117)\n",
      "7. feature entity_per_store_bar (0.050996)\n",
      "8. feature avr_gym (0.040799)\n",
      "9. feature avr_electrician (0.039407)\n",
      "10. feature n_store (0.038358)\n"
     ]
    },
    {
     "data": {
      "image/png": "[encoded data removed]",
      "text/plain": [
       "<matplotlib.figure.Figure at 0x1171fa320>"
      ]
     },
     "metadata": {},
     "output_type": "display_data"
    }
   ],
   "source": [
    "# prepare the model\n",
    "\n",
    "seed = 17\n",
    "\n",
    "model_et = ExtraTreesClassifier(n_estimators=5,max_depth=3,bootstrap=True,max_features='sqrt',random_state=seed)\n",
    "model_et.fit(X_train, y_train)\n",
    "\n",
    "predictions_train = model_et.predict_proba(X_train)[:,1]\n",
    "print(\"Train AUC :\",roc_auc_score(y_train,predictions_train))\n",
    "\n",
    "predictions = model_et.predict_proba(X_test)[:,1]\n",
    "print(\"Test AUC :\",roc_auc_score(y_test,predictions))\n",
    "\n",
    "visualizeFeatureImportance(model_et,X_train.columns,10)"
   ]
  },
  {
   "cell_type": "code",
   "execution_count": 35,
   "metadata": {
    "scrolled": false
   },
   "outputs": [
    {
     "name": "stdout",
     "output_type": "stream",
     "text": [
      "{'C': 10}\n"
     ]
    }
   ],
   "source": [
    "from sklearn.grid_search import GridSearchCV,RandomizedSearchCV\n",
    "from sklearn.datasets import make_classification\n",
    "from sklearn.ensemble import RandomForestClassifier\n",
    "from sklearn.preprocessing import Normalizer\n",
    "\n",
    "validation_size = 0.30\n",
    "seed = 13\n",
    "X_train, X_test, y_train, y_test = train_test_split(X,y,test_size=validation_size,random_state=seed)\n",
    "\n",
    "scaler = Normalizer().fit(X_train)\n",
    "normalizedX = scaler.transform(X_train)\n",
    "\n",
    "lr = LogisticRegression(C=1,n_jobs=10,penalty='l1') \n",
    "param_grid = { 'C': np.arange(1,100,1)}\n",
    "\n",
    "CV_lr = RandomizedSearchCV(estimator=lr,param_distributions=param_grid, cv=10,scoring='roc_auc',random_state=seed)\n",
    "CV_lr.fit(normalizedX, y_train)\n",
    "print (CV_lr.best_params_)"
   ]
  },
  {
   "cell_type": "code",
   "execution_count": 36,
   "metadata": {},
   "outputs": [
    {
     "name": "stdout",
     "output_type": "stream",
     "text": [
      "Train AUC : 0.835678210678\n",
      "Test ROC_AUC : 0.596598202824\n"
     ]
    }
   ],
   "source": [
    "lr = CV_lr.best_estimator_\n",
    "lr.fit(normalizedX, y_train)\n",
    "\n",
    "predictions_train = lr.predict_proba(normalizedX)[:,1]\n",
    "print(\"Train AUC :\",roc_auc_score(y_train,predictions_train))\n",
    "\n",
    "normalizedX_test = scaler.transform(X_test)\n",
    "predictions = lr.predict_proba(normalizedX_test)[:,1]\n",
    "\n",
    "print(\"Test ROC_AUC :\",roc_auc_score(y_test, predictions))"
   ]
  },
  {
   "cell_type": "code",
   "execution_count": 37,
   "metadata": {
    "collapsed": true
   },
   "outputs": [],
   "source": [
    "# from tpot import TPOTClassifier\n",
    "\n",
    "# # prepare the model\n",
    "# model = TPOTClassifier(generations=5, population_size=50, verbosity=2,cv=10,scoring='roc_auc')\n",
    "# model.fit(X_train, y_train)\n",
    "\n",
    "# predictions = model.predict(X_test)\n",
    "\n",
    "# print(roc_auc_score(y_test, predictions))\n",
    "# print(confusion_matrix(y_test, predictions))\n"
   ]
  },
  {
   "cell_type": "markdown",
   "metadata": {},
   "source": [
    "Sci-kit learn provide facilities from feature selection to improve estimators accuracy scores or to boost their performance on very high-dimensional datasets.\n",
    "\n",
    "We compute the ANOVA F-value for the data, using the SelectKBest methods and use these as inputs to various algorithms. "
   ]
  },
  {
   "cell_type": "code",
   "execution_count": 38,
   "metadata": {
    "scrolled": false
   },
   "outputs": [
    {
     "name": "stdout",
     "output_type": "stream",
     "text": [
      "['total_user_rating_department_store', 'total_user_rating_shopping_mall', 'n_rating_per_entity_store_cafe', 'n_rating_per_entity_store_city_hall', 'n_rating_per_entity_store_department_store', 'n_rating_per_entity_store_electronics_store', 'n_rating_per_entity_store_home_goods_store', 'n_rating_per_entity_store_liquor_store', 'n_rating_per_entity_store_meal_takeaway', 'n_rating_per_entity_store_park', 'n_rating_per_entity_store_restaurant', 'n_rating_per_entity_store_shopping_mall', 'n_rating_per_entity_store_subway_station', 'n_rating_per_entity_store_train_station', 'n_review'] \n",
      "\n",
      "['total_user_rating_beauty_salon', 'total_user_rating_doctor', 'total_user_rating_hair_care', 'rating_insurance_agency', 'rating_spa', 'n_rating_per_entity_store_doctor', 'n_rating_per_entity_store_hair_care', 'rating_per_entity_store_dentist', 'rating_per_entity_store_hair_care', 'n_pharmacy', 'n_meal_takeaway', 'n_store', 'n_gym', 'avr_insurance_agency', 'n_review'] \n",
      "\n",
      "['total_user_rating_gym', 'nf_enity_store_id_lawyer', 'nf_enity_store_id_moving_company', 'nf_enity_store_id_post_office', 'entity_per_store_bakery', 'entity_per_store_physiotherapist', 'n_rating_per_entity_store_atm', 'n_rating_per_entity_store_book_store', 'n_rating_per_entity_store_bus_station', 'n_rating_per_entity_store_dentist', 'n_rating_per_entity_store_hair_care', 'n_hair_care', 'n_car_repair', 'avr_lawyer', 'city_VD'] \n",
      "\n"
     ]
    }
   ],
   "source": [
    "from sklearn.datasets import load_iris\n",
    "from sklearn.feature_selection import SelectKBest\n",
    "from sklearn.feature_selection import chi2, f_classif, mutual_info_classif\n",
    "import pandas as pd\n",
    "\n",
    "\n",
    "selector = SelectKBest(chi2, k=15)\n",
    "selector.fit(X_train, y_train)\n",
    "\n",
    "X_new = selector.transform(X)\n",
    "X_new.shape\n",
    "X.columns[selector.get_support(indices=True)]\n",
    "chi2_list = X.columns[selector.get_support(indices=True)].tolist()\n",
    "print(chi2_list,\"\\n\")\n",
    "\n",
    "    \n",
    "selector = SelectKBest(f_classif, k=15)\n",
    "selector.fit(X, y)\n",
    "X_new = selector.transform(X)\n",
    "X_new.shape\n",
    "X.columns[selector.get_support(indices=True)]\n",
    "f_classif_list = X.columns[selector.get_support(indices=True)].tolist()\n",
    "print(f_classif_list,\"\\n\")\n",
    "    \n",
    "selector = SelectKBest(mutual_info_classif, k=15)\n",
    "selector.fit(X, y)\n",
    "X_new = selector.transform(X)\n",
    "X_new.shape\n",
    "X.columns[selector.get_support(indices=True)]\n",
    "mic_list  = X.columns[selector.get_support(indices=True)].tolist()\n",
    "print(mic_list,\"\\n\")\n",
    "    "
   ]
  },
  {
   "cell_type": "code",
   "execution_count": 39,
   "metadata": {},
   "outputs": [
    {
     "name": "stdout",
     "output_type": "stream",
     "text": [
      "Shape  (524, 15)\n",
      "Shape  (524,)\n",
      "{'min_samples_split': 2, 'max_features': 'auto', 'max_depth': 2, 'criterion': 'gini'}\n",
      "Train ROC-AUC : 0.684856630824\n",
      "Test ROC-AUC : 0.612948803191\n"
     ]
    }
   ],
   "source": [
    "#First Level of segregation using f_classif_list\n",
    "X_sub = X[X.columns.intersection(f_classif_list)]\n",
    "y_sub = y\n",
    "\n",
    "print(\"Shape \",X_sub.shape)\n",
    "print (\"Shape \",y.shape )\n",
    "\n",
    "\n",
    "#Divide \n",
    "validation_size = 0.30\n",
    "seed = 19\n",
    "\n",
    "X_train, X_test, y_train, y_test = train_test_split(X_sub,y_sub,test_size=validation_size,random_state=seed)\n",
    "\n",
    "dtcf = DecisionTreeClassifier(max_depth=2,random_state=seed) \n",
    "\n",
    "\n",
    "param_grid = { \n",
    "    \n",
    "    'max_depth': list(range(2,10,1)),\n",
    "    'max_features': ['auto', 'sqrt', 'log2'],\n",
    "    'min_samples_split' : list(range(2,20,1)),\n",
    "     'criterion':['entropy','gini']\n",
    "}\n",
    "\n",
    "CV_dtcf = RandomizedSearchCV(estimator=dtcf,param_distributions=param_grid, cv= 5,scoring='roc_auc',\n",
    "                             random_state=seed)\n",
    "CV_dtcf.fit(X_train, y_train)\n",
    "\n",
    "print (CV_dtcf.best_params_)\n",
    "#print (CV_dtcf.best_score_)\n",
    "\n",
    "\n",
    "predictions_train = CV_dtcf.best_estimator_.fit(X_train, y_train).predict_proba(X_train)[:,1]\n",
    "print(\"Train ROC-AUC :\",roc_auc_score(y_train, predictions_train))\n",
    "\n",
    "predictions = CV_dtcf.best_estimator_.predict_proba(X_test)[:,1]\n",
    "print(\"Test ROC-AUC :\",roc_auc_score(y_test, predictions))\n",
    "\n",
    "visualize_tree(CV_dtcf.best_estimator_,X_train.columns,\"dt_f_classif_sub.txt\")"
   ]
  },
  {
   "cell_type": "code",
   "execution_count": 40,
   "metadata": {
    "scrolled": false
   },
   "outputs": [
    {
     "name": "stdout",
     "output_type": "stream",
     "text": [
      "{'min_samples_split': 8, 'max_features': 'sqrt', 'max_depth': 2, 'criterion': 'gini'}\n",
      "Train ROC-AUC : 0.689337349398\n",
      "Test ROC-AUC : 0.621794871795\n"
     ]
    }
   ],
   "source": [
    "#Overall data set \n",
    "validation_size = 0.30\n",
    "seed = 17\n",
    "\n",
    "X_train, X_test, y_train, y_test = train_test_split(X,y,test_size=validation_size,random_state=seed)\n",
    "\n",
    "dtcf = DecisionTreeClassifier(max_depth=2,random_state=seed) \n",
    "\n",
    "\n",
    "param_grid = { \n",
    "    \n",
    "    'max_depth': list(range(2,10,1)),\n",
    "    'max_features': ['auto', 'sqrt', 'log2'],\n",
    "    'min_samples_split' : list(range(3,10,1)),\n",
    "     'criterion':['entropy','gini']\n",
    "}\n",
    "\n",
    "CV_dtcf = RandomizedSearchCV(estimator=dtcf,param_distributions=param_grid, cv= 5,scoring='roc_auc',random_state=seed)\n",
    "CV_dtcf.fit(X_train, y_train)\n",
    "\n",
    "print (CV_dtcf.best_params_)\n",
    "#print (CV_dtcf.best_score_)\n",
    "\n",
    "predictions_train = CV_dtcf.best_estimator_.fit(X_train, y_train).predict_proba(X_train)[:,1]\n",
    "print(\"Train ROC-AUC :\",roc_auc_score(y_train, predictions_train))\n",
    "\n",
    "# estimate accuracy on validation dataset\n",
    "predictions = CV_dtcf.best_estimator_.predict_proba(X_test)[:,1]\n",
    "print(\"Test ROC-AUC :\" , roc_auc_score(y_test, predictions))\n",
    "\n",
    "visualize_tree(CV_dtcf.best_estimator_,X_train.columns,\"dt_all_data.txt\")"
   ]
  },
  {
   "cell_type": "code",
   "execution_count": 41,
   "metadata": {
    "collapsed": true
   },
   "outputs": [],
   "source": [
    "# {criterion': 'gini', 'max_depth': 4, 'max_features': 'auto', 'min_samples_split': 15}\n",
    "# {'criterion': 'gini', 'max_depth': 8, 'max_features': 'log2', 'min_samples_split': 4}\n",
    "# {'criterion': 'gini', 'max_depth': 4, 'max_features': 'auto', 'min_samples_split': 11}"
   ]
  },
  {
   "cell_type": "code",
   "execution_count": 42,
   "metadata": {},
   "outputs": [
    {
     "name": "stdout",
     "output_type": "stream",
     "text": [
      "Shape  (524, 15)\n",
      "Shape  (524,)\n",
      "{'bootstrap': True, 'criterion': 'gini', 'max_depth': 3, 'max_features': 'sqrt', 'min_samples_leaf': 3, 'min_samples_split': 6, 'n_estimators': 340}\n",
      "Train ROC-AUC : 0.717025089606\n",
      "Test ROC-AUC : 0.635638297872\n",
      "Feature ranking:\n",
      "1. feature n_rating_per_entity_store_hair_care (0.134679)\n",
      "2. feature rating_per_entity_store_hair_care (0.112787)\n",
      "3. feature total_user_rating_hair_care (0.107634)\n",
      "4. feature total_user_rating_beauty_salon (0.097016)\n",
      "5. feature n_review (0.087926)\n",
      "6. feature n_gym (0.081033)\n",
      "7. feature total_user_rating_doctor (0.075441)\n",
      "8. feature rating_per_entity_store_dentist (0.065631)\n",
      "9. feature n_store (0.055898)\n",
      "10. feature n_rating_per_entity_store_doctor (0.051693)\n"
     ]
    },
    {
     "data": {
      "image/png": "[encoded data removed]",
      "text/plain": [
       "<matplotlib.figure.Figure at 0x119420358>"
      ]
     },
     "metadata": {},
     "output_type": "display_data"
    },
    {
     "name": "stdout",
     "output_type": "stream",
     "text": [
      "{'bootstrap': True, 'criterion': 'gini', 'max_depth': 5, 'max_features': 'sqrt', 'min_samples_leaf': 10, 'min_samples_split': 10, 'n_estimators': 300}\n",
      "Train ROC-AUC : 0.664157706093\n",
      "Test ROC-AUC : 0.625664893617\n",
      "Feature ranking:\n",
      "1. feature n_store (0.121911)\n",
      "2. feature rating_spa (0.092009)\n",
      "3. feature n_rating_per_entity_store_hair_care (0.085802)\n",
      "4. feature rating_per_entity_store_hair_care (0.083289)\n",
      "5. feature n_gym (0.070521)\n",
      "6. feature rating_per_entity_store_dentist (0.068568)\n",
      "7. feature n_meal_takeaway (0.058343)\n",
      "8. feature total_user_rating_beauty_salon (0.057051)\n",
      "9. feature total_user_rating_hair_care (0.053321)\n",
      "10. feature n_pharmacy (0.051112)\n"
     ]
    },
    {
     "data": {
      "image/png": "[encoded data removed]",
      "text/plain": [
       "<matplotlib.figure.Figure at 0x116caed68>"
      ]
     },
     "metadata": {},
     "output_type": "display_data"
    }
   ],
   "source": [
    "#ensemble_input_col = list(set().union(chi2_list,f_classif_list,mic_list))\n",
    "ensemble_input_col = list(set().union(f_classif_list))\n",
    "\n",
    "X_sub = X[X.columns.intersection(ensemble_input_col)]\n",
    "y_sub = y\n",
    "\n",
    "\n",
    "print(\"Shape \",X_sub.shape)\n",
    "print (\"Shape \",y.shape )\n",
    "\n",
    "\n",
    "#Divide \n",
    "validation_size = 0.30\n",
    "seed = 29\n",
    "X_train, X_test, y_train, y_test = train_test_split(X_sub,y_sub,test_size=validation_size,random_state=seed)\n",
    "\n",
    "\n",
    "from sklearn.grid_search import GridSearchCV, RandomizedSearchCV\n",
    "from sklearn.datasets import make_classification\n",
    "from sklearn.ensemble import RandomForestClassifier\n",
    "from scipy.stats import randint as sp_randint\n",
    "\n",
    "rfc = RandomForestClassifier(n_jobs=-1) \n",
    "\n",
    "# n_estimator = list(range(10,500,10))\n",
    "# print(n_estimator)\n",
    "param_grid = { \n",
    "    'n_estimators': list(range(10,500,10)),\n",
    "    'max_features': ['auto', 'sqrt', 'log2'],\n",
    "    'max_depth' : list(range(3,9,1)),\n",
    "    \"min_samples_split\": sp_randint(2, 11),\n",
    "    \"min_samples_leaf\": sp_randint(2, 11),\n",
    "    \"bootstrap\": [True, False],\n",
    "    \"criterion\": [\"gini\", \"entropy\"]\n",
    "}\n",
    "\n",
    "CV_rfc = RandomizedSearchCV(estimator=rfc,param_distributions=param_grid,cv= 5,scoring='roc_auc')\n",
    "CV_rfc.fit(X_train, y_train)\n",
    "print (CV_rfc.best_params_)\n",
    "\n",
    "seed = 29\n",
    "rf_clf = CV_rfc.best_estimator_\n",
    "\n",
    "rf_clf.fit(X_train,y_train)\n",
    "predictions_train = rf_clf.predict(X_train)\n",
    "print(\"Train ROC-AUC :\",roc_auc_score(y_train, predictions_train))\n",
    "# estimate accuracy on validation dataset\n",
    "predictions = rf_clf.predict(X_test)\n",
    "print(\"Test ROC-AUC :\",roc_auc_score(y_test, predictions))\n",
    "visualizeFeatureImportance(rf_clf,X_train.columns,10)\n",
    "\n",
    "et_clf = ExtraTreesClassifier(n_jobs=-1) \n",
    "\n",
    "# n_estimator = list(range(10,500,10))\n",
    "# print(n_estimator)\n",
    "param_grid = { \n",
    "    'n_estimators': list(range(10,500,10)),\n",
    "    'max_features': ['auto', 'sqrt', 'log2'],\n",
    "    'max_depth' : list(range(3,9,1)),\n",
    "    \"min_samples_split\": sp_randint(2, 11),\n",
    "    \"min_samples_leaf\": sp_randint(2, 11),\n",
    "    \"bootstrap\": [True, False],\n",
    "    \"criterion\": [\"gini\", \"entropy\"]\n",
    "}\n",
    "\n",
    "CV_et_clf = RandomizedSearchCV(estimator=et_clf,param_distributions=param_grid,cv= 5,scoring='roc_auc')\n",
    "CV_et_clf.fit(X_train, y_train)\n",
    "print (CV_et_clf.best_params_)\n",
    "\n",
    "\n",
    "seed = 29\n",
    "et_clf = CV_et_clf.best_estimator_\n",
    "et_clf.fit(X_train,y_train)\n",
    "predictions_train = et_clf.predict(X_train)\n",
    "print(\"Train ROC-AUC :\",roc_auc_score(y_train, predictions_train))\n",
    "# estimate accuracy on validation dataset\n",
    "predictions = et_clf.predict(X_test)\n",
    "print(\"Test ROC-AUC :\",roc_auc_score(y_test, predictions))\n",
    "visualizeFeatureImportance(et_clf,X_train.columns,10)\n"
   ]
  },
  {
   "cell_type": "code",
   "execution_count": 43,
   "metadata": {
    "scrolled": false
   },
   "outputs": [
    {
     "name": "stdout",
     "output_type": "stream",
     "text": [
      "{'alpha': 0.11}\n",
      "Train AUC : 0.831991557365\n",
      "Test ROC_AUC : 0.594456016664\n",
      "0.11\n",
      "Features survied : 53\n",
      "{'bootstrap': False, 'criterion': 'gini', 'max_depth': 4, 'max_features': 'sqrt', 'min_samples_leaf': 5, 'min_samples_split': 6, 'n_estimators': 440}\n",
      "Train ROC-AUC : 0.815770609319\n",
      "Test ROC-AUC : 0.602227393617\n",
      "Feature ranking:\n",
      "1. feature rating_per_entity_store_hair_care (0.087757)\n",
      "2. feature n_rating_per_entity_store_dentist (0.071842)\n",
      "3. feature n_doctor (0.064616)\n",
      "4. feature total_user_rating_bar (0.058096)\n",
      "5. feature no_of_near_by_shops (0.052166)\n",
      "6. feature n_rating_per_entity_store_transit_station (0.046086)\n",
      "7. feature n_rating_per_entity_store_gym (0.038931)\n",
      "8. feature n_review (0.037952)\n",
      "9. feature n_clothing_store (0.033279)\n",
      "10. feature n_rating_per_entity_store_store (0.031652)\n"
     ]
    },
    {
     "data": {
      "image/png": "[encoded data removed]",
      "text/plain": [
       "<matplotlib.figure.Figure at 0x1177c3080>"
      ]
     },
     "metadata": {},
     "output_type": "display_data"
    },
    {
     "name": "stdout",
     "output_type": "stream",
     "text": [
      "{'bootstrap': True, 'criterion': 'gini', 'max_depth': 6, 'max_features': 'log2', 'min_samples_leaf': 3, 'min_samples_split': 2, 'n_estimators': 340}\n",
      "Train ROC-AUC : 0.717025089606\n",
      "Test ROC-AUC : 0.635970744681\n",
      "Feature ranking:\n",
      "1. feature n_store (0.060951)\n",
      "2. feature rating_per_entity_store_hair_care (0.059762)\n",
      "3. feature n_doctor (0.049991)\n",
      "4. feature rating_per_entity_store_pharmacy (0.048338)\n",
      "5. feature rating_per_entity_store_spa (0.045181)\n",
      "6. feature n_rating_per_entity_store_dentist (0.042097)\n",
      "7. feature no_of_near_by_shops (0.037869)\n",
      "8. feature n_clothing_store (0.031111)\n",
      "9. feature n_review (0.029542)\n",
      "10. feature total_user_rating_lodging (0.026820)\n"
     ]
    },
    {
     "data": {
      "image/png": "[encoded data removed]",
      "text/plain": [
       "<matplotlib.figure.Figure at 0x117318278>"
      ]
     },
     "metadata": {},
     "output_type": "display_data"
    }
   ],
   "source": [
    "#Lasso Regression for variable selection and Random forest for feature imporatnce .\n",
    "\n",
    "validation_size = 0.30\n",
    "seed = 23\n",
    "\n",
    "X_train, X_test, y_train, y_test = train_test_split(X,y,test_size=validation_size,random_state=seed)\n",
    "\n",
    "from sklearn import linear_model\n",
    "ls_clf = linear_model.Lasso(alpha=0.01,selection='random')\n",
    "param_grid = { 'alpha': np.arange(0.1,1,0.01)}\n",
    "\n",
    "\n",
    "CV_lr = GridSearchCV(estimator=ls_clf,param_grid=param_grid, cv=10,scoring='roc_auc')\n",
    "CV_lr.fit(X_train, y_train)\n",
    "print (CV_lr.best_params_)\n",
    "\n",
    "\n",
    "CV_lr.best_estimator_.fit(X_train,y_train)\n",
    "predictions_train = CV_lr.best_estimator_.predict(X_train)\n",
    "print(\"Train AUC :\",roc_auc_score(y_train,predictions_train))\n",
    "predictions = CV_lr.best_estimator_.predict(X_test)\n",
    "print(\"Test ROC_AUC :\",roc_auc_score(y_test, predictions))\n",
    "# print (len(CV_lr.best_estimator_.coef_))\n",
    "# print (len(X.columns))\n",
    "print (CV_lr.best_estimator_.alpha)\n",
    "\n",
    "lasso_survival_list = []\n",
    "for i in range(0,len(X.columns)):\n",
    "    if CV_lr.best_estimator_.coef_[i]!=0:\n",
    "        lasso_survival_list.append(X.columns[i])\n",
    "print (\"Features survied :\",len(lasso_survival_list))\n",
    "\n",
    "#Subselect the data using the variables survived from Lasso\n",
    "X_sub = X[X.columns.intersection(lasso_survival_list)]\n",
    "y_sub = y\n",
    "\n",
    "#Divide \n",
    "validation_size = 0.30\n",
    "seed = 29\n",
    "X_train, X_test, y_train, y_test = train_test_split(X_sub,y_sub,test_size=validation_size,random_state=seed)\n",
    "\n",
    "\n",
    "from sklearn.grid_search import GridSearchCV, RandomizedSearchCV\n",
    "from sklearn.datasets import make_classification\n",
    "from sklearn.ensemble import RandomForestClassifier\n",
    "from scipy.stats import randint as sp_randint\n",
    "\n",
    "rfc = RandomForestClassifier(n_jobs=-1) \n",
    "\n",
    "# n_estimator = list(range(10,500,10))\n",
    "# print(n_estimator)\n",
    "param_grid = { \n",
    "    'n_estimators': list(range(10,500,10)),\n",
    "    'max_features': ['auto', 'sqrt', 'log2'],\n",
    "    'max_depth' : list(range(3,9,1)),\n",
    "    \"min_samples_split\": sp_randint(2, 11),\n",
    "    \"min_samples_leaf\": sp_randint(2, 11),\n",
    "    \"bootstrap\": [True, False],\n",
    "    \"criterion\": [\"gini\", \"entropy\"]\n",
    "}\n",
    "\n",
    "CV_rfc = RandomizedSearchCV(estimator=rfc,param_distributions=param_grid,cv= 5,scoring='roc_auc')\n",
    "CV_rfc.fit(X_train, y_train)\n",
    "print (CV_rfc.best_params_)\n",
    "\n",
    "seed = 29\n",
    "rf_clf = CV_rfc.best_estimator_\n",
    "\n",
    "rf_clf.fit(X_train,y_train)\n",
    "predictions_train = rf_clf.predict(X_train)\n",
    "print(\"Train ROC-AUC :\",roc_auc_score(y_train, predictions_train))\n",
    "# estimate accuracy on validation dataset\n",
    "predictions = rf_clf.predict(X_test)\n",
    "print(\"Test ROC-AUC :\",roc_auc_score(y_test, predictions))\n",
    "visualizeFeatureImportance(rf_clf,X_train.columns,10)\n",
    "\n",
    "et_clf = ExtraTreesClassifier(n_jobs=-1) \n",
    "\n",
    "# n_estimator = list(range(10,500,10))\n",
    "# print(n_estimator)\n",
    "param_grid = { \n",
    "    'n_estimators': list(range(10,500,10)),\n",
    "    'max_features': ['auto', 'sqrt', 'log2'],\n",
    "    'max_depth' : list(range(3,9,1)),\n",
    "    \"min_samples_split\": sp_randint(2, 11),\n",
    "    \"min_samples_leaf\": sp_randint(2, 11),\n",
    "    \"bootstrap\": [True, False],\n",
    "    \"criterion\": [\"gini\", \"entropy\"]\n",
    "}\n",
    "\n",
    "CV_et_clf = RandomizedSearchCV(estimator=et_clf,param_distributions=param_grid,cv= 5,scoring='roc_auc')\n",
    "CV_et_clf.fit(X_train, y_train)\n",
    "print (CV_et_clf.best_params_)\n",
    "\n",
    "\n",
    "seed = 29\n",
    "et_clf = CV_et_clf.best_estimator_\n",
    "et_clf.fit(X_train,y_train)\n",
    "predictions_train = et_clf.predict(X_train)\n",
    "print(\"Train ROC-AUC :\",roc_auc_score(y_train, predictions_train))\n",
    "# estimate accuracy on validation dataset\n",
    "predictions = et_clf.predict(X_test)\n",
    "print(\"Test ROC-AUC :\",roc_auc_score(y_test, predictions))\n",
    "visualizeFeatureImportance(et_clf,X_train.columns,10)\n"
   ]
  },
  {
   "cell_type": "code",
   "execution_count": 44,
   "metadata": {
    "scrolled": false
   },
   "outputs": [
    {
     "name": "stdout",
     "output_type": "stream",
     "text": [
      "{'C': 98}\n",
      "Train AUC : 0.984139784946\n",
      "Test AUC : 0.506981382979\n",
      "731\n",
      "98\n",
      "1\n",
      "Features survived for RF : 150\n",
      "{'bootstrap': True, 'criterion': 'gini', 'max_depth': 4, 'max_features': 'sqrt', 'min_samples_leaf': 3, 'min_samples_split': 7, 'n_estimators': 90}\n",
      "Train ROC-AUC : 0.826344086022\n",
      "Test ROC-AUC : 0.628490691489\n",
      "Feature ranking:\n",
      "1. feature n_rating_per_entity_store_beauty_salon (0.059801)\n",
      "2. feature total_user_rating_hair_care (0.039942)\n",
      "3. feature nf_enity_store_id_hair_care (0.039157)\n",
      "4. feature n_rating_per_entity_store_dentist (0.030645)\n",
      "5. feature n_real_estate_agency (0.028476)\n",
      "6. feature n_rating_per_entity_store_gym (0.027127)\n",
      "7. feature total_user_rating_bar (0.018932)\n",
      "8. feature rating_per_entity_store_beauty_salon (0.018916)\n",
      "9. feature rating_pharmacy (0.017914)\n",
      "10. feature n_gym (0.017903)\n"
     ]
    },
    {
     "data": {
      "image/png": "[encoded data removed]",
      "text/plain": [
       "<matplotlib.figure.Figure at 0x1172fc160>"
      ]
     },
     "metadata": {},
     "output_type": "display_data"
    },
    {
     "name": "stdout",
     "output_type": "stream",
     "text": [
      "{'bootstrap': False, 'criterion': 'entropy', 'max_depth': 4, 'max_features': 'log2', 'min_samples_leaf': 3, 'min_samples_split': 10, 'n_estimators': 310}\n",
      "Train ROC-AUC : 0.760573476703\n",
      "Test ROC-AUC : 0.601894946809\n",
      "Feature ranking:\n",
      "1. feature city_VD (0.046003)\n",
      "2. feature n_rating_per_entity_store_dentist (0.033989)\n",
      "3. feature n_gym (0.032241)\n",
      "4. feature avr_pharmacy (0.027409)\n",
      "5. feature rating_per_entity_store_beauty_salon (0.024877)\n",
      "6. feature avr_gym (0.023118)\n",
      "7. feature avr_beauty_salon (0.022947)\n",
      "8. feature n_rating_per_entity_store_pharmacy (0.021137)\n",
      "9. feature rating_per_entity_store_hair_care (0.020487)\n",
      "10. feature n_store (0.019985)\n"
     ]
    },
    {
     "data": {
      "image/png": "[encoded data removed]",
      "text/plain": [
       "<matplotlib.figure.Figure at 0x117756f28>"
      ]
     },
     "metadata": {},
     "output_type": "display_data"
    }
   ],
   "source": [
    "#Logistic Regression with L1 Penalty for variable selection and Random forest for feature imporatnce .\n",
    "\n",
    "validation_size = 0.30\n",
    "seed = 29\n",
    "X_train, X_test, y_train, y_test = train_test_split(X,y,test_size=validation_size,random_state=seed)\n",
    "\n",
    "from sklearn import linear_model\n",
    "\n",
    "scaler = Normalizer().fit(X_train)\n",
    "normalizedX = scaler.transform(X_train)\n",
    "lr = LogisticRegression(C=1,n_jobs=10,penalty='l1') \n",
    "param_grid = { 'C': np.arange(1,100,1)}\n",
    "CV_lr = RandomizedSearchCV(estimator=lr,param_distributions=param_grid, cv=10,scoring='roc_auc')\n",
    "CV_lr.fit(normalizedX, y_train)\n",
    "print (CV_lr.best_params_)\n",
    "lr = CV_lr.best_estimator_\n",
    "lr.fit(normalizedX, y_train)\n",
    "\n",
    "predictions_train = lr.predict_proba(normalizedX)[:,1]\n",
    "print(\"Train AUC :\",roc_auc_score(y_train,predictions_train))\n",
    "\n",
    "normalizedX_test = scaler.transform(X_test)\n",
    "predictions = lr.predict_proba(normalizedX_test)[:,1]\n",
    "print(\"Test AUC :\",roc_auc_score(y_test,predictions))\n",
    "\n",
    "print (len(X.columns))\n",
    "print (lr.C)\n",
    "print (len(lr.coef_))\n",
    "\n",
    "survival_list = []\n",
    "\n",
    "for i in range(0,len(X.columns)):\n",
    "    if lr.coef_[:,i]!=0:\n",
    "        survival_list.append(X.columns[i])\n",
    "print (\"Features survived for RF :\",len(survival_list))\n",
    "\n",
    "#Subselect the data using the variables survived from Lasso\n",
    "X_sub = X[X.columns.intersection(survival_list)]\n",
    "y_sub = y\n",
    "\n",
    "#Divide \n",
    "validation_size = 0.30\n",
    "seed = 29\n",
    "X_train, X_test, y_train, y_test = train_test_split(X_sub,y_sub,test_size=validation_size,random_state=seed)\n",
    "\n",
    "\n",
    "from sklearn.grid_search import GridSearchCV\n",
    "from sklearn.datasets import make_classification\n",
    "from sklearn.ensemble import RandomForestClassifier\n",
    "\n",
    "rfc = RandomForestClassifier(n_jobs=-1) \n",
    "\n",
    "# n_estimator = list(range(10,500,10))\n",
    "# print(n_estimator)\n",
    "param_grid = { \n",
    "    'n_estimators': list(range(10,100,10)),\n",
    "    'max_features': ['auto', 'sqrt', 'log2'],\n",
    "    'max_depth' : list(range(3,5,1)),\n",
    "    \"min_samples_split\": sp_randint(2, 11),\n",
    "    \"min_samples_leaf\": sp_randint(2, 11),\n",
    "    \"bootstrap\": [True, False],\n",
    "    \"criterion\": [\"gini\", \"entropy\"]\n",
    "}\n",
    "\n",
    "CV_rfc = RandomizedSearchCV(estimator=rfc,param_distributions=param_grid,cv= 5,scoring='roc_auc',random_state=seed)\n",
    "CV_rfc.fit(X_train, y_train)\n",
    "print (CV_rfc.best_params_)\n",
    "\n",
    "rf_clf = CV_rfc.best_estimator_\n",
    "rf_clf.fit(X_train,y_train)\n",
    "predictions_train = rf_clf.predict(X_train)\n",
    "print(\"Train ROC-AUC :\",roc_auc_score(y_train, predictions_train))\n",
    "# estimate accuracy on validation dataset\n",
    "predictions = rf_clf.predict(X_test)\n",
    "print(\"Test ROC-AUC :\",roc_auc_score(y_test, predictions))\n",
    "visualizeFeatureImportance(rf_clf,X_train.columns,10)\n",
    "\n",
    "\n",
    "#Randomised search for ET Classifier\n",
    "\n",
    "et_clf = ExtraTreesClassifier(n_jobs=-1) \n",
    "\n",
    "# n_estimator = list(range(10,500,10))\n",
    "# print(n_estimator)\n",
    "param_grid = { \n",
    "    'n_estimators': list(range(10,500,10)),\n",
    "    'max_features': ['auto', 'sqrt', 'log2'],\n",
    "    'max_depth' : list(range(3,5,1)),\n",
    "    \"min_samples_split\": sp_randint(2, 11),\n",
    "    \"min_samples_leaf\": sp_randint(2, 11),\n",
    "    \"bootstrap\": [True, False],\n",
    "    \"criterion\": [\"gini\", \"entropy\"]\n",
    "}\n",
    "\n",
    "CV_et_clf = RandomizedSearchCV(estimator=et_clf,param_distributions=param_grid,cv= 5,scoring='roc_auc',\n",
    "                               random_state=seed)\n",
    "CV_et_clf.fit(X_train, y_train)\n",
    "print (CV_et_clf.best_params_)\n",
    "\n",
    "\n",
    "seed = 29\n",
    "et_clf = CV_et_clf.best_estimator_\n",
    "et_clf.fit(X_train,y_train)\n",
    "predictions_train = et_clf.predict(X_train)\n",
    "print(\"Train ROC-AUC :\",roc_auc_score(y_train, predictions_train))\n",
    "# estimate accuracy on validation dataset\n",
    "predictions = et_clf.predict(X_test)\n",
    "print(\"Test ROC-AUC :\",roc_auc_score(y_test, predictions))\n",
    "visualizeFeatureImportance(et_clf,X_train.columns,10)"
   ]
  },
  {
   "cell_type": "code",
   "execution_count": 45,
   "metadata": {
    "collapsed": true,
    "scrolled": false
   },
   "outputs": [],
   "source": [
    "# effect_list = []\n",
    "# for i in range(0,len(X.columns)):\n",
    "#     if lr.coef_[:,i]!=0:\n",
    "#         effect_list.append(X.columns[i]+str(lr.coef_[:,i]))\n",
    "# print (\"LR feature co-efficient :\",effect_list)"
   ]
  },
  {
   "cell_type": "code",
   "execution_count": 46,
   "metadata": {},
   "outputs": [
    {
     "name": "stdout",
     "output_type": "stream",
     "text": [
      "Train Accuracy : 0.75956284153\n",
      "Test Accuracy : 0.588607594937\n"
     ]
    }
   ],
   "source": [
    "print(\"Train Accuracy :\",accuracy_score(y_train, predictions_train))\n",
    "# estimate accuracy on validation dataset\n",
    "predictions = et_clf.predict(X_test)\n",
    "print(\"Test Accuracy :\",accuracy_score(y_test, predictions))"
   ]
  },
  {
   "cell_type": "code",
   "execution_count": 47,
   "metadata": {},
   "outputs": [],
   "source": [
    "# target_names = ['class 0', 'class 1']\n",
    "# print(classification_report(y_test, predictions, target_names=target_names))"
   ]
  },
  {
   "cell_type": "code",
   "execution_count": 48,
   "metadata": {},
   "outputs": [],
   "source": [
    "# tn, fp, fn, tp = confusion_matrix(y_test, predictions).ravel()"
   ]
  },
  {
   "cell_type": "code",
   "execution_count": 49,
   "metadata": {},
   "outputs": [],
   "source": [
    "# tn, fp, fn, tp"
   ]
  },
  {
   "cell_type": "code",
   "execution_count": 50,
   "metadata": {},
   "outputs": [],
   "source": [
    "import numpy as np\n",
    "import matplotlib.pyplot as plt\n",
    "from sklearn.naive_bayes import GaussianNB\n",
    "from sklearn.svm import SVC\n",
    "from sklearn.datasets import load_digits\n",
    "from sklearn.model_selection import learning_curve\n",
    "from sklearn.model_selection import ShuffleSplit\n",
    "\n",
    "\n",
    "def plot_learning_curve(estimator, title, X, y, ylim=None, cv=None,\n",
    "                        n_jobs=1, train_sizes=np.linspace(.1, 1.0, 5)):\n",
    "    \"\"\"\n",
    "    Generate a simple plot of the test and training learning curve.\n",
    "\n",
    "    Parameters\n",
    "    ----------\n",
    "    estimator : object type that implements the \"fit\" and \"predict\" methods\n",
    "        An object of that type which is cloned for each validation.\n",
    "\n",
    "    title : string\n",
    "        Title for the chart.\n",
    "\n",
    "    X : array-like, shape (n_samples, n_features)\n",
    "        Training vector, where n_samples is the number of samples and\n",
    "        n_features is the number of features.\n",
    "\n",
    "    y : array-like, shape (n_samples) or (n_samples, n_features), optional\n",
    "        Target relative to X for classification or regression;\n",
    "        None for unsupervised learning.\n",
    "\n",
    "    ylim : tuple, shape (ymin, ymax), optional\n",
    "        Defines minimum and maximum yvalues plotted.\n",
    "\n",
    "    cv : int, cross-validation generator or an iterable, optional\n",
    "        Determines the cross-validation splitting strategy.\n",
    "        Possible inputs for cv are:\n",
    "          - None, to use the default 3-fold cross-validation,\n",
    "          - integer, to specify the number of folds.\n",
    "          - An object to be used as a cross-validation generator.\n",
    "          - An iterable yielding train/test splits.\n",
    "\n",
    "        For integer/None inputs, if ``y`` is binary or multiclass,\n",
    "        :class:`StratifiedKFold` used. If the estimator is not a classifier\n",
    "        or if ``y`` is neither binary nor multiclass, :class:`KFold` is used.\n",
    "\n",
    "        Refer :ref:`User Guide <cross_validation>` for the various\n",
    "        cross-validators that can be used here.\n",
    "\n",
    "    n_jobs : integer, optional\n",
    "        Number of jobs to run in parallel (default 1).\n",
    "    \"\"\"\n",
    "    plt.figure(figsize=(10,10))\n",
    "    plt.title(title)\n",
    "    if ylim is not None:\n",
    "        plt.ylim(*ylim)\n",
    "    plt.xlabel(\"Training examples\")\n",
    "    plt.ylabel(\"Score\")\n",
    "    train_sizes, train_scores, test_scores = learning_curve(\n",
    "        estimator, X, y, cv=cv, n_jobs=n_jobs, train_sizes=train_sizes)\n",
    "    train_scores_mean = np.mean(train_scores, axis=1)\n",
    "    train_scores_std = np.std(train_scores, axis=1)\n",
    "    test_scores_mean = np.mean(test_scores, axis=1)\n",
    "    test_scores_std = np.std(test_scores, axis=1)\n",
    "    plt.grid()\n",
    "\n",
    "    plt.fill_between(train_sizes, train_scores_mean - train_scores_std,\n",
    "                     train_scores_mean + train_scores_std, alpha=0.1,\n",
    "                     color=\"r\")\n",
    "    plt.fill_between(train_sizes, test_scores_mean - test_scores_std,\n",
    "                     test_scores_mean + test_scores_std, alpha=0.1, color=\"g\")\n",
    "    plt.plot(train_sizes, train_scores_mean, 'o-', color=\"r\",\n",
    "             label=\"Training score\")\n",
    "    plt.plot(train_sizes, test_scores_mean, 'o-', color=\"g\",\n",
    "             label=\"Cross-validation score\")\n",
    "\n",
    "    plt.legend(loc=\"best\")\n",
    "    return plt\n"
   ]
  },
  {
   "cell_type": "code",
   "execution_count": 51,
   "metadata": {
    "scrolled": false
   },
   "outputs": [
    {
     "data": {
      "image/png": "[encoded data removed]",
      "text/plain": [
       "<matplotlib.figure.Figure at 0x10af50588>"
      ]
     },
     "metadata": {},
     "output_type": "display_data"
    }
   ],
   "source": [
    "title = \"Learning Curves (Extra Tress Classifier)\"\n",
    "# Cross validation with 100 iterations to get smoother mean test and train\n",
    "# score curves, each time with 20% data randomly selected as a validation set.\n",
    "cv = ShuffleSplit(n_splits=50,test_size=0.3, random_state=0)\n",
    "estimator = et_clf\n",
    "plot_learning_curve(estimator, title, X, y, ylim=(0.5, 1.01), cv=cv, n_jobs=4)\n",
    "plt.show()"
   ]
  },
  {
   "cell_type": "code",
   "execution_count": 52,
   "metadata": {},
   "outputs": [
    {
     "data": {
      "image/png": "[encoded data removed]",
      "text/plain": [
       "<matplotlib.figure.Figure at 0x10af50d68>"
      ]
     },
     "metadata": {},
     "output_type": "display_data"
    }
   ],
   "source": [
    "title = \"Learning Curves (Random Tress Classifier)\"\n",
    "# Cross validation with 100 iterations to get smoother mean test and train\n",
    "# score curves, each time with 20% data randomly selected as a validation set.\n",
    "cv = ShuffleSplit(n_splits=50,test_size=0.3, random_state=0)\n",
    "estimator = rf_clf\n",
    "plot_learning_curve(estimator, title, X, y, ylim=(0.5, 1.01), cv=cv)\n",
    "plt.show()"
   ]
  },
  {
   "cell_type": "code",
   "execution_count": 53,
   "metadata": {},
   "outputs": [
    {
     "data": {
      "image/png": "[encoded data removed]",
      "text/plain": [
       "<matplotlib.figure.Figure at 0x117020d30>"
      ]
     },
     "metadata": {},
     "output_type": "display_data"
    }
   ],
   "source": [
    "title = \"Learning Curves (Decision Tree Classifier)\"\n",
    "# Cross validation with 100 iterations to get smoother mean test and train\n",
    "# score curves, each time with 20% data randomly selected as a validation set.\n",
    "cv = ShuffleSplit(n_splits=50,test_size=0.3, random_state=0)\n",
    "estimator = CV_dtcf.best_estimator_\n",
    "plot_learning_curve(estimator, title, X, y, ylim=(0.5, 1.01), cv=cv)\n",
    "plt.show()"
   ]
  },
  {
   "cell_type": "code",
   "execution_count": 54,
   "metadata": {},
   "outputs": [],
   "source": [
    "# title = \"Learning Curves (Logistic Regression Classifier)\"\n",
    "# # Cross validation with 100 iterations to get smoother mean test and train\n",
    "# # score curves, each time with 20% data randomly selected as a validation set.\n",
    "# cv = ShuffleSplit(n_splits=10,test_size=0.3, random_state=0)\n",
    "# estimator = CV_lr.best_estimator_\n",
    "# plot_learning_curve(estimator, title, X, y, ylim=(0.5, 1.01),cv=cv)\n",
    "# plt.show()"
   ]
  },
  {
   "cell_type": "code",
   "execution_count": null,
   "metadata": {
    "collapsed": true
   },
   "outputs": [],
   "source": []
  }
 ],
 "metadata": {
  "kernelspec": {
   "display_name": "Python 3",
   "language": "python",
   "name": "python3"
  },
  "language_info": {
   "codemirror_mode": {
    "name": "ipython",
    "version": 3
   },
   "file_extension": ".py",
   "mimetype": "text/x-python",
   "name": "python",
   "nbconvert_exporter": "python",
   "pygments_lexer": "ipython3",
   "version": "3.6.1"
  }
 },
 "nbformat": 4,
 "nbformat_minor": 2
}
