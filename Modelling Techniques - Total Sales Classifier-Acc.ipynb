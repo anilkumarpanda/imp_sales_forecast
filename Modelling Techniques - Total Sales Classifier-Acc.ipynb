{
 "cells": [
  {
   "cell_type": "markdown",
   "metadata": {},
   "source": [
    "## Model the Target as Binary Variable - Classification Problem"
   ]
  },
  {
   "cell_type": "markdown",
   "metadata": {
    "collapsed": true
   },
   "source": [
    "#### Load Libraries"
   ]
  },
  {
   "cell_type": "code",
   "execution_count": 1,
   "metadata": {
    "collapsed": true
   },
   "outputs": [],
   "source": [
    "import pandas as pd\n",
    "pd.options.display.max_columns = 200\n",
    "pd.options.display.max_rows = 1000\n",
    "from sklearn import preprocessing\n",
    "import numpy as np\n",
    "from sklearn.metrics import accuracy_score\n",
    "from sklearn.model_selection import train_test_split\n",
    "from sklearn.pipeline import make_pipeline, make_union\n",
    "from tpot.builtins import StackingEstimator\n",
    "from tpot import TPOTClassifier\n",
    "from sklearn.datasets import load_iris\n",
    "from sklearn.metrics import accuracy_score\n",
    "from scipy import interp\n",
    "from itertools import cycle\n",
    "from sklearn import svm, datasets\n",
    "from sklearn.metrics import roc_curve, auc\n",
    "from sklearn.model_selection import StratifiedKFold\n",
    "from sklearn.metrics import average_precision_score\n",
    "from matplotlib import pyplot\n",
    "from pandas import read_csv\n",
    "from pandas import set_option\n",
    "from pandas.tools.plotting import scatter_matrix\n",
    "from sklearn.preprocessing import StandardScaler\n",
    "from sklearn.model_selection import KFold\n",
    "from sklearn.model_selection import cross_val_score\n",
    "from sklearn.model_selection import GridSearchCV\n",
    "from sklearn.metrics import classification_report\n",
    "from sklearn.metrics import confusion_matrix\n",
    "from sklearn.pipeline import Pipeline\n",
    "from sklearn.linear_model import LogisticRegression\n",
    "from sklearn.tree import DecisionTreeClassifier\n",
    "from sklearn.neighbors import KNeighborsClassifier\n",
    "from sklearn.discriminant_analysis import LinearDiscriminantAnalysis\n",
    "from sklearn.naive_bayes import GaussianNB\n",
    "from sklearn.svm import SVC\n",
    "from sklearn.ensemble import AdaBoostClassifier\n",
    "from sklearn.ensemble import GradientBoostingClassifier\n",
    "from sklearn.ensemble import RandomForestClassifier\n",
    "from sklearn.ensemble import ExtraTreesClassifier\n",
    "import matplotlib.pyplot as plt\n",
    "import seaborn as sns\n",
    "from __future__ import print_function\n",
    "import os\n",
    "import subprocess\n",
    "from sklearn.tree import DecisionTreeClassifier, export_graphviz\n",
    "%matplotlib inline\n",
    "import warnings\n",
    "warnings.filterwarnings('ignore')"
   ]
  },
  {
   "cell_type": "markdown",
   "metadata": {},
   "source": [
    "#### Load the surrounding and sales data and join them to create a data set for learning"
   ]
  },
  {
   "cell_type": "code",
   "execution_count": 2,
   "metadata": {
    "collapsed": true
   },
   "outputs": [],
   "source": [
    "surrounding_pdf = pd.read_csv('../UseCase_3_Datasets/store_surrounding_pdf_exp.csv')\n",
    "surrounding_nf_pdf = pd.read_csv('../UseCase_3_Datasets/new_features.csv')\n",
    "\n",
    "surrounding_pdf = pd.merge(surrounding_nf_pdf,surrounding_pdf,on='store_code',how='inner')\n",
    "surrounding_pdf = surrounding_pdf.drop_duplicates()\n",
    "\n",
    "y_column = 'total_sales'\n",
    "\n",
    "# store_sales = pd.read_csv('../UseCase_3_Datasets/sales_daily_simple_sum.csv')\n",
    "# sales_pdf_daily_sub = store_sales[['store_code','total_sales']]\n",
    "\n",
    "#store_sales = pd.read_csv('../UseCase_3_Datasets/sales_per_hr.csv')\n",
    "#sales_pdf_daily_sub = store_sales[['store_code','sales_per_hr']]\n",
    "\n",
    "store_sales = pd.read_csv('../UseCase_3_Datasets/sales_per_day_period.csv')\n",
    "sales_pdf_daily_sub = store_sales[['store_code','total_sales','Morning','Afternoon','Evening','sales_pattern']]\n",
    "# sales_pdf_daily_sub = sales_pdf_daily_sub[(sales_pdf_daily_sub['sales_pattern'] == 'Evening') |\n",
    "#                                           (sales_pdf_daily_sub['sales_pattern'] == 'Afternoon')]\n",
    "sales_pdf_daily_sub = sales_pdf_daily_sub[['store_code',y_column]]\n"
   ]
  },
  {
   "cell_type": "code",
   "execution_count": 3,
   "metadata": {
    "collapsed": true,
    "scrolled": false
   },
   "outputs": [],
   "source": [
    "# # #Read other population realted information from wiki\n",
    "# pop_features_pdf = pd.read_csv('../UseCase_3_Datasets/swiss_pop_features_2.csv',sep=';',header=0)\n",
    "# pop_features_pdf.head()\n",
    "# pop_features_pdf.columns\n",
    "# pop_pdf = pd.read_csv('../UseCase_3_Datasets/swiss_pop.csv',sep=',')\n",
    "# pop_pdf.head()\n",
    "\n",
    "# # #Comnine with surrounding data using city code informartion\n",
    "# surrounding_pdf = pd.merge(pop_features_pdf,surrounding_pdf,on='city',how='inner')\n",
    "# surrounding_pdf = surrounding_pdf.drop_duplicates()\n",
    "# surrounding_pdf = pd.merge(pop_pdf,surrounding_pdf,on='city',how='inner')\n",
    "# surrounding_pdf = surrounding_pdf.drop_duplicates()\n",
    "# surrounding_pdf['pop_above_20'] = 100-surrounding_pdf['pop_under_20']\n",
    "# surrounding_pdf= surrounding_pdf.drop('cant',axis=1)\n",
    "# surrounding_pdf.head()"
   ]
  },
  {
   "cell_type": "code",
   "execution_count": 4,
   "metadata": {},
   "outputs": [
    {
     "name": "stdout",
     "output_type": "stream",
     "text": [
      "Surrounding Shape (525, 705)\n",
      "Sales Shape (905, 2)\n"
     ]
    }
   ],
   "source": [
    "print(\"Surrounding Shape\",surrounding_pdf.shape)\n",
    "print(\"Sales Shape\",sales_pdf_daily_sub.shape)"
   ]
  },
  {
   "cell_type": "markdown",
   "metadata": {},
   "source": [
    "### Data Cleaning"
   ]
  },
  {
   "cell_type": "markdown",
   "metadata": {},
   "source": [
    "#### Remove variable that have ony one unique value"
   ]
  },
  {
   "cell_type": "code",
   "execution_count": 5,
   "metadata": {},
   "outputs": [
    {
     "name": "stdout",
     "output_type": "stream",
     "text": [
      "Sales Surrounding Shape (524, 699)\n"
     ]
    }
   ],
   "source": [
    "#Join Store and Surroounding datasets\n",
    "sales_surrounding_pdf = pd.merge(sales_pdf_daily_sub,surrounding_pdf,on='store_code',how='inner')\n",
    "sales_surrounding_pdf = sales_surrounding_pdf.drop_duplicates()\n",
    "# Dropping columns that do not provide useful information for this analysis\n",
    "for i in sales_surrounding_pdf.columns:\n",
    "    if sales_surrounding_pdf[i].nunique() == 1:\n",
    "        sales_surrounding_pdf.drop(i, axis = 1, inplace = True)\n",
    "print(\"Sales Surrounding Shape\",sales_surrounding_pdf.shape)"
   ]
  },
  {
   "cell_type": "code",
   "execution_count": 6,
   "metadata": {
    "collapsed": true,
    "scrolled": false
   },
   "outputs": [],
   "source": [
    "# #Visualization of individual attributes\n",
    "# #Histogram\n",
    "# sales_surrounding_pdf.hist(sharex=False,sharey=False,xlabelsize=0.25,ylabelsize=0.25,figsize=(20,20))\n",
    "# pyplot.show()"
   ]
  },
  {
   "cell_type": "code",
   "execution_count": 7,
   "metadata": {
    "collapsed": true,
    "scrolled": false
   },
   "outputs": [],
   "source": [
    "# sales_surrounding_pdf.plot(kind='density', subplots=True, layout=(10,18), sharex=False, legend=False,fontsize=1,\n",
    "#                           figsize=(20,20))\n",
    "# pyplot.show()"
   ]
  },
  {
   "cell_type": "code",
   "execution_count": 8,
   "metadata": {
    "collapsed": true
   },
   "outputs": [],
   "source": [
    "# fig = pyplot.figure(figsize=(15,15))\n",
    "# ax = fig.add_subplot(111)\n",
    "# cax = ax.matshow(sales_surrounding_pdf.corr(),vmin=-1, vmax=1)\n",
    "# fig.colorbar(cax)\n",
    "# pyplot.show()"
   ]
  },
  {
   "cell_type": "markdown",
   "metadata": {},
   "source": [
    "#### One hot Encoding for categorical values"
   ]
  },
  {
   "cell_type": "code",
   "execution_count": 9,
   "metadata": {
    "collapsed": true,
    "scrolled": false
   },
   "outputs": [],
   "source": [
    "import math\n",
    "\n",
    "sales_surrounding_pdf_ohe = pd.get_dummies(sales_surrounding_pdf)\n",
    "#Create Train,Test without imputation\n",
    "#X = sales_surrounding_pdf.loc[:, sales_surrounding_pdf.columns != 'total_sales']\n",
    "#X = sales_surrounding_pdf.loc[:, sales_surrounding_pdf.columns != 'store_code']\n",
    "\n",
    "y = sales_surrounding_pdf_ohe[y_column].apply(lambda x : math.log(x+1))\n",
    "\n",
    "X = sales_surrounding_pdf_ohe.drop([y_column,'store_code'],axis=1)\n",
    "#X = sales_surrounding_pdf.drop('store_code',axis=1)\n",
    "\n",
    "# print(\"Shape \",X.shape)\n",
    "# print (\"Shape \",y.shape )"
   ]
  },
  {
   "cell_type": "code",
   "execution_count": 10,
   "metadata": {},
   "outputs": [
    {
     "data": {
      "image/png": "[encoded data removed]",
      "text/plain": [
       "<matplotlib.figure.Figure at 0x10b456400>"
      ]
     },
     "metadata": {},
     "output_type": "display_data"
    }
   ],
   "source": [
    "y.plot(kind='hist',subplots=True,fontsize=10,figsize=(10,10),grid=True,)\n",
    "# y_test.hist(bins=20,figsize=(10,10))\n",
    "pyplot.axvline(x=8.35,color='red')\n",
    "pyplot.xlabel(\"Store Sales\")\n",
    "pyplot.show()"
   ]
  },
  {
   "cell_type": "markdown",
   "metadata": {},
   "source": [
    "#### Creation of Test and Train set"
   ]
  },
  {
   "cell_type": "code",
   "execution_count": 11,
   "metadata": {
    "collapsed": true
   },
   "outputs": [],
   "source": [
    "#Divide into train and test\n",
    "validation_size = 0.20\n",
    "seed = 33\n",
    "X_train, X_test, y_train, y_test = train_test_split(X, y,test_size=validation_size,random_state=seed)"
   ]
  },
  {
   "cell_type": "markdown",
   "metadata": {},
   "source": [
    "#### Target Creation\n",
    "Since we plan to make a binary target, we try to find a split point, looking at the data \n",
    "Also, the split point is created in such a way, that we do dont create a unbalanced dataset to learn and predict."
   ]
  },
  {
   "cell_type": "code",
   "execution_count": 12,
   "metadata": {
    "scrolled": false
   },
   "outputs": [
    {
     "data": {
      "text/plain": [
       "<matplotlib.axes._subplots.AxesSubplot at 0x116a356a0>"
      ]
     },
     "execution_count": 12,
     "metadata": {},
     "output_type": "execute_result"
    },
    {
     "data": {
      "image/png": "[encoded data removed]",
      "text/plain": [
       "<matplotlib.figure.Figure at 0x10a547ef0>"
      ]
     },
     "metadata": {},
     "output_type": "display_data"
    }
   ],
   "source": [
    "# xtick_list = range(0,500000,50000)\n",
    "# ytick_list = range(0,y_train.shape[0],30)\n",
    "# y_train.plot(kind='hist',subplots=True,fontsize=10,figsize=(10,10),xticks=xtick_list,yticks=ytick_list)\n",
    "y_train.hist(bins=30,figsize=(10,10))\n",
    "# pyplot.xlabel(\"Store Sales\")\n",
    "# pyplot.show()"
   ]
  },
  {
   "cell_type": "code",
   "execution_count": 13,
   "metadata": {
    "collapsed": true,
    "scrolled": false
   },
   "outputs": [],
   "source": [
    "# y_train[y_train.values < 8].hist(bins=30,figsize=(10,10),)\n",
    "# pyplot.xlabel(\"Store Sales\")\n",
    "# pyplot.show()"
   ]
  },
  {
   "cell_type": "code",
   "execution_count": 14,
   "metadata": {},
   "outputs": [
    {
     "data": {
      "image/png": "[encoded data removed]",
      "text/plain": [
       "<matplotlib.figure.Figure at 0x10a547be0>"
      ]
     },
     "metadata": {},
     "output_type": "display_data"
    }
   ],
   "source": [
    "# xtick_list = range(0,500000,50000)\n",
    "# ytick_list = range(0,y_test.shape[0],10)\n",
    "#y_test.plot(kind='hist',subplots=True,fontsize=10,figsize=(10,10),grid=True,xticks=xtick_list,yticks=ytick_list)\n",
    "y_test.hist(bins=20,figsize=(10,10))\n",
    "pyplot.xlabel(\"Store Sales\")\n",
    "pyplot.show()"
   ]
  },
  {
   "cell_type": "code",
   "execution_count": 15,
   "metadata": {
    "collapsed": true,
    "scrolled": false
   },
   "outputs": [],
   "source": [
    "#Find the most balanced point of the data set :\n",
    "\n",
    "# for i in np.arange(7,10,0.15):\n",
    "#     y_train_sp = y_train.apply(lambda x : 1 if x >=i else 0 )\n",
    "#     y_test_sp = y_test.apply(lambda x : 1 if x >=i else 0)\n",
    "#     print (\"Split Point \", i)\n",
    "#     print (\"% of 0-class in Test \",y_test_sp.value_counts()[0]/ (y_test_sp.value_counts()[1]+y_test_sp.value_counts()[0])*100)\n",
    "#     print (\"% of 0-class in Train \",y_train_sp.value_counts()[0]/ (y_train_sp.value_counts()[1]+y_train_sp.value_counts()[0])*100)\n",
    "#     print(\"\\n\")"
   ]
  },
  {
   "cell_type": "code",
   "execution_count": 16,
   "metadata": {
    "scrolled": false
   },
   "outputs": [
    {
     "data": {
      "text/plain": [
       "1    53\n",
       "0    52\n",
       "Name: total_sales, dtype: int64"
      ]
     },
     "execution_count": 16,
     "metadata": {},
     "output_type": "execute_result"
    }
   ],
   "source": [
    "#Based on the above histogram comparison threshold 50,000 is a good enough to make binary classification target\n",
    "split_point = 8.35 \n",
    "y_train = y_train.apply(lambda x : 1 if x >=split_point else 0 )\n",
    "y_test = y_test.apply(lambda x : 1 if x >=split_point else 0)\n",
    "y = y.apply(lambda x : 1 if x >=split_point else 0)\n",
    "\n",
    "y_test.value_counts()\n",
    "#Binary Targets created."
   ]
  },
  {
   "cell_type": "code",
   "execution_count": 17,
   "metadata": {},
   "outputs": [
    {
     "data": {
      "text/plain": [
       "49.523809523809526"
      ]
     },
     "execution_count": 17,
     "metadata": {},
     "output_type": "execute_result"
    }
   ],
   "source": [
    "y_test.value_counts()[0] / (y_test.value_counts()[1]+y_test.value_counts()[0])*100"
   ]
  },
  {
   "cell_type": "code",
   "execution_count": 18,
   "metadata": {},
   "outputs": [
    {
     "data": {
      "text/plain": [
       "1    227\n",
       "0    192\n",
       "Name: total_sales, dtype: int64"
      ]
     },
     "execution_count": 18,
     "metadata": {},
     "output_type": "execute_result"
    }
   ],
   "source": [
    "y_train.value_counts()"
   ]
  },
  {
   "cell_type": "code",
   "execution_count": 19,
   "metadata": {},
   "outputs": [
    {
     "data": {
      "text/plain": [
       "45.823389021479713"
      ]
     },
     "execution_count": 19,
     "metadata": {},
     "output_type": "execute_result"
    }
   ],
   "source": [
    "y_train.value_counts()[0] / (y_train.value_counts()[1]+y_train.value_counts()[0])*100"
   ]
  },
  {
   "cell_type": "code",
   "execution_count": 20,
   "metadata": {},
   "outputs": [
    {
     "data": {
      "text/plain": [
       "pandas.core.frame.DataFrame"
      ]
     },
     "execution_count": 20,
     "metadata": {},
     "output_type": "execute_result"
    }
   ],
   "source": [
    "type(X_train)"
   ]
  },
  {
   "cell_type": "markdown",
   "metadata": {},
   "source": [
    "On the spot checks,try out some basic models and see, how they perform "
   ]
  },
  {
   "cell_type": "code",
   "execution_count": 21,
   "metadata": {
    "scrolled": false
   },
   "outputs": [
    {
     "name": "stdout",
     "output_type": "stream",
     "text": [
      "LR: 0.558130 (0.072706)\n",
      "LR with L1 penalty: 0.584321 (0.097134)\n",
      "CART: 0.553252 (0.092741)\n",
      "LDA: 0.524739 (0.098011)\n",
      "KNN: 0.548839 (0.069899)\n"
     ]
    }
   ],
   "source": [
    "#Find Feature Importance via various methods\n",
    "#1)Logistic Regression\n",
    "#1.1) Logistic Regression with L1 Penalty (Lasso)\n",
    "#2)Decision Tree\n",
    "\n",
    "# Spot-Check Algorithms\n",
    "models = []\n",
    "num_folds = 10\n",
    "seed = 42\n",
    "scoring ='accuracy'\n",
    "\n",
    "models.append(('LR', LogisticRegression()))\n",
    "models.append(('LR with L1 penalty', LogisticRegression(penalty='l1')))\n",
    "models.append(('CART', DecisionTreeClassifier()))\n",
    "models.append(('LDA', LinearDiscriminantAnalysis()))\n",
    "models.append(('KNN', KNeighborsClassifier()))\n",
    "\n",
    "\n",
    "results = []\n",
    "names = []\n",
    "for name, model in models:\n",
    "    kfold = KFold(n_splits=num_folds, random_state=seed)\n",
    "    cv_results = cross_val_score(model, X_train, y_train, cv=kfold, scoring=scoring)\n",
    "    results.append(cv_results)\n",
    "    names.append(name)\n",
    "    msg = \"%s: %f (%f)\" % (name,cv_results.mean(),cv_results.std())\n",
    "    print(msg)"
   ]
  },
  {
   "cell_type": "code",
   "execution_count": 22,
   "metadata": {},
   "outputs": [
    {
     "data": {
      "image/png": "[encoded data removed]",
      "text/plain": [
       "<matplotlib.figure.Figure at 0x10a1a9cf8>"
      ]
     },
     "metadata": {},
     "output_type": "display_data"
    }
   ],
   "source": [
    "# Compare Algorithms\n",
    "fig = pyplot.figure(figsize=(10,10))\n",
    "fig.suptitle('Algorithm Comparison')\n",
    "ax = fig.add_subplot(111)\n",
    "pyplot.boxplot(results)\n",
    "ax.set_xticklabels(names)\n",
    "pyplot.show()"
   ]
  },
  {
   "cell_type": "code",
   "execution_count": 23,
   "metadata": {},
   "outputs": [
    {
     "name": "stdout",
     "output_type": "stream",
     "text": [
      "Scaled LR: 0.536643 (0.064578)\n",
      "Scaled LR with L1: 0.550813 (0.096653)\n",
      "Scaled CART: 0.572532 (0.075126)\n",
      "ScaledKNN: 0.532056 (0.054935)\n"
     ]
    }
   ],
   "source": [
    "pipelines = []\n",
    "pipelines.append(('Scaled LR', Pipeline([('Scaler', StandardScaler()),('LR',LogisticRegression())])))\n",
    "pipelines.append(('Scaled LR with L1', Pipeline([('Scaler', StandardScaler()),('LR with L1',LogisticRegression(penalty='l1'))])))\n",
    "pipelines.append(('Scaled CART', Pipeline([('Scaler', StandardScaler()),('CART',DecisionTreeClassifier(max_depth=5))])))\n",
    "pipelines.append(('ScaledKNN', Pipeline([('Scaler', StandardScaler()),('KNN',KNeighborsClassifier())])))\n",
    "results = []\n",
    "names = []\n",
    "for name, model in pipelines:\n",
    "    kfold = KFold(n_splits=num_folds, random_state=seed)\n",
    "    cv_results = cross_val_score(model, X_train, y_train, cv=kfold, scoring=scoring)\n",
    "    results.append(cv_results)\n",
    "    names.append(name)\n",
    "    msg = \"%s: %f (%f)\" % (name, cv_results.mean(), cv_results.std())\n",
    "    print(msg)"
   ]
  },
  {
   "cell_type": "code",
   "execution_count": 24,
   "metadata": {},
   "outputs": [
    {
     "data": {
      "image/png": "[encoded data removed]",
      "text/plain": [
       "<matplotlib.figure.Figure at 0x1165a26d8>"
      ]
     },
     "metadata": {},
     "output_type": "display_data"
    }
   ],
   "source": [
    "fig = pyplot.figure(figsize=(10,10))\n",
    "fig.suptitle('Scaled Algorithm Comparison')\n",
    "ax = fig.add_subplot(111)\n",
    "pyplot.boxplot(results)\n",
    "ax.set_xticklabels(names)\n",
    "pyplot.show()"
   ]
  },
  {
   "cell_type": "markdown",
   "metadata": {},
   "source": [
    "Try, some ensemble model, and see their performance"
   ]
  },
  {
   "cell_type": "code",
   "execution_count": 25,
   "metadata": {},
   "outputs": [
    {
     "name": "stdout",
     "output_type": "stream",
     "text": [
      "RF: 0.572706 (0.058376)\n",
      "ET: 0.577584 (0.057180)\n"
     ]
    }
   ],
   "source": [
    "# ensembles\n",
    "ensembles = []\n",
    "\n",
    "ensembles.append(('RF', RandomForestClassifier()))\n",
    "ensembles.append(('ET', ExtraTreesClassifier()))\n",
    "results = []\n",
    "names = []\n",
    "for name, model in ensembles:\n",
    "    kfold = KFold(n_splits=num_folds, random_state=seed)\n",
    "    cv_results = cross_val_score(model, X_train, y_train, cv=kfold, scoring=scoring)\n",
    "    results.append(cv_results)\n",
    "    names.append(name)\n",
    "    msg = \"%s: %f (%f)\" % (name, cv_results.mean(), cv_results.std())\n",
    "    print(msg)"
   ]
  },
  {
   "cell_type": "code",
   "execution_count": 26,
   "metadata": {},
   "outputs": [
    {
     "data": {
      "image/png": "[encoded data removed]",
      "text/plain": [
       "<matplotlib.figure.Figure at 0x1183b71d0>"
      ]
     },
     "metadata": {},
     "output_type": "display_data"
    }
   ],
   "source": [
    "# Compare Algorithms\n",
    "fig = pyplot.figure(figsize=(10,10))\n",
    "fig.suptitle('Ensemble Algorithm Comparison')\n",
    "ax = fig.add_subplot(111)\n",
    "pyplot.boxplot(results)\n",
    "ax.set_xticklabels(names)\n",
    "pyplot.show()"
   ]
  },
  {
   "cell_type": "code",
   "execution_count": 27,
   "metadata": {
    "collapsed": true
   },
   "outputs": [],
   "source": [
    "def plot_confusion_matrix(cm, classes,\n",
    "                          normalize=False,\n",
    "                          title='Confusion matrix',\n",
    "                          cmap=plt.cm.Blues):\n",
    "    \"\"\"\n",
    "    This function prints and plots the confusion matrix.\n",
    "    Normalization can be applied by setting `normalize=True`.\n",
    "    \"\"\"\n",
    "    if normalize:\n",
    "        cm = cm.astype('float') / cm.sum(axis=1)[:, np.newaxis]\n",
    "        print(\"Normalized confusion matrix\")\n",
    "    else:\n",
    "        print('Confusion matrix, without normalization')\n",
    "\n",
    "    print(cm)\n",
    "\n",
    "    plt.imshow(cm, interpolation='nearest', cmap=cmap)\n",
    "    plt.title(title)\n",
    "    plt.colorbar()\n",
    "    tick_marks = np.arange(len(classes))\n",
    "#     plt.xticks.set_color('black')\n",
    "#     plt.yticks.set_color('black')\n",
    "    plt.xticks(tick_marks, classes, rotation=45)\n",
    "    plt.yticks(tick_marks, classes)\n",
    "\n",
    "    fmt = '.2f' if normalize else 'd'\n",
    "    thresh = cm.max() / 2.\n",
    "    for i, j in itertools.product(range(cm.shape[0]), range(cm.shape[1])):\n",
    "        plt.text(j, i, format(cm[i, j], fmt),\n",
    "                 horizontalalignment=\"center\",\n",
    "                 color=\"red\" if cm[i, j] > thresh else \"black\")\n",
    "\n",
    "    plt.tight_layout()\n",
    "    #ax.xaxis.label.set_color('red')\n",
    "    #plt.xlabel.set_color('black')\n",
    "    plt.ylabel('True label')\n",
    "    plt.xlabel('Predicted label')\n",
    "    \n",
    "def visualize_tree(tree,feature_names,file_name):\n",
    "    \"\"\"Create tree png using graphviz.\n",
    "    Args\n",
    "    ----\n",
    "    tree -- scikit-learn DecsisionTree.\n",
    "    feature_names -- list of feature names.\n",
    "    \"\"\"\n",
    "    with open(file_name, 'w') as f:\n",
    "        export_graphviz(tree, out_file=f,feature_names=feature_names)\n",
    "    command = [\"dot\", \"-Tpng\", \"dt.dot\", \"-o\", \"dt.png\"]\n",
    "    try:\n",
    "        subprocess.check_call(command)\n",
    "    except:\n",
    "        exit(\"Could not run dot, ie graphviz, to produce visualization\")"
   ]
  },
  {
   "cell_type": "markdown",
   "metadata": {},
   "source": [
    "Since our goal is interpret-ability of our features, we will stick to models like Logistic regression, Decision Tree. Ensemble methods too can be used, since they provide a feature importance indication .\n",
    "\n",
    "In the below cells, we try out various algorithms. Use grid search to best tune the hyper parameters and using  cross - validation, to ensure we do not over fit the training data."
   ]
  },
  {
   "cell_type": "code",
   "execution_count": 28,
   "metadata": {},
   "outputs": [
    {
     "name": "stdout",
     "output_type": "stream",
     "text": [
      "{'criterion': 'entropy', 'max_depth': 7, 'max_features': 'auto', 'min_samples_split': 15}\n",
      "0.60381861575179\n",
      "Train Accuracy : 0.766109785203\n",
      "Test Accuracy : 0.52380952381\n"
     ]
    }
   ],
   "source": [
    "from sklearn.grid_search import GridSearchCV\n",
    "from sklearn.datasets import make_classification\n",
    "from sklearn.ensemble import RandomForestClassifier\n",
    "\n",
    "seed = 13\n",
    "dtcf = DecisionTreeClassifier(max_depth=1,random_state=seed) \n",
    "\n",
    "# n_estimator = list(range(10,500,10))\n",
    "#print(dtcf.get_params)\n",
    "param_grid = { \n",
    "    \n",
    "    'max_depth': list(range(1,10,3)),\n",
    "    'max_features': ['auto', 'sqrt', 'log2'],\n",
    "    'min_samples_split' : list(range(2,20,1)),\n",
    "    'criterion':['entropy','gini']\n",
    "}\n",
    "\n",
    "CV_dtcf = GridSearchCV(estimator=dtcf,param_grid=param_grid, cv= 5,scoring='accuracy')\n",
    "CV_dtcf.fit(X_train, y_train)\n",
    "\n",
    "print (CV_dtcf.best_params_)\n",
    "print (CV_dtcf.best_score_)\n",
    "\n",
    "\n",
    "predictions_train = CV_dtcf.best_estimator_.predict(X_train)\n",
    "print(\"Train Accuracy :\",accuracy_score(y_train, predictions_train))\n",
    "predictions = CV_dtcf.best_estimator_.predict(X_test)\n",
    "print(\"Test Accuracy :\",accuracy_score(y_test, predictions))\n",
    "#visualize_tree(CV_dtcf.best_estimator_, X_train.columns,\"dt_cv.txt\")"
   ]
  },
  {
   "cell_type": "code",
   "execution_count": 29,
   "metadata": {},
   "outputs": [
    {
     "name": "stdout",
     "output_type": "stream",
     "text": [
      "Train Accuracy: 0.663484486874\n",
      "Test Accuracy : 0.6\n"
     ]
    }
   ],
   "source": [
    "seed=13\n",
    "model = DecisionTreeClassifier(max_depth=3,criterion='entropy',random_state=seed)\n",
    "model.fit(X_train, y_train)\n",
    "#estimate on train data\n",
    "predictions_train = model.predict(X_train)\n",
    "print(\"Train Accuracy:\",accuracy_score(y_train, predictions_train))\n",
    "predictions = model.predict(X_test)\n",
    "print(\"Test Accuracy :\",accuracy_score(y_test, predictions))\n",
    "#visualize_tree(model, X_train.columns,\"dt_entropy.txt\")"
   ]
  },
  {
   "cell_type": "code",
   "execution_count": 30,
   "metadata": {
    "collapsed": true
   },
   "outputs": [],
   "source": [
    "#Find Feature Importance with Random Forest Classifer and Extra Tress Classifier"
   ]
  },
  {
   "cell_type": "code",
   "execution_count": 31,
   "metadata": {
    "collapsed": true,
    "scrolled": false
   },
   "outputs": [],
   "source": [
    "# from sklearn.grid_search import GridSearchCV\n",
    "# from sklearn.datasets import make_classification\n",
    "# from sklearn.ensemble import RandomForestClassifier\n",
    "\n",
    "# rfc = RandomForestClassifier(n_jobs=-1,max_features= 'sqrt' ,n_estimators=50, oob_score = True) \n",
    "\n",
    "# # n_estimator = list(range(10,500,10))\n",
    "# # print(n_estimator)\n",
    "# param_grid = { \n",
    "#     'n_estimators': list(range(10,500,10)),\n",
    "#     'max_features': ['auto', 'sqrt', 'log2'],\n",
    "#     'max_depth' : list(range(3,9,1))\n",
    "# }\n",
    "\n",
    "# CV_rfc = GridSearchCV(estimator=rfc,param_grid=param_grid, cv= 5,scoring='accuracy')\n",
    "# CV_rfc.fit(X_train, y_train)\n",
    "# print (CV_rfc.best_params_)"
   ]
  },
  {
   "cell_type": "code",
   "execution_count": 32,
   "metadata": {
    "collapsed": true
   },
   "outputs": [],
   "source": [
    "# Build a forest and compute the feature importances\n",
    "def visualizeFeatureImportance(model,feature_names,no_of_features):\n",
    "    forest = model\n",
    "    importances = forest.feature_importances_\n",
    "    std = np.std([tree.feature_importances_ for tree in forest.estimators_],axis=0)\n",
    "    indices = np.argsort(importances)[::-1]\n",
    "    features = no_of_features\n",
    "    # Print the feature ranking\n",
    "    print(\"Feature ranking:\")\n",
    "    for f in range(features):\n",
    "        print(\"%d. feature %s (%f)\" % (f + 1, feature_names[indices[f]], importances[indices[f]]))\n",
    "    # Plot the feature importances of the forest\n",
    "    plt.figure(figsize=(10,10))\n",
    "    plt.title(\"Feature importances\")\n",
    "    plt.bar(range(features), importances[indices[:features]],color=\"r\", yerr=std[indices[:features]], align=\"center\")\n",
    "    plt.xticks(range(features), indices[:features])\n",
    "    plt.xlim([-1,features])\n",
    "    plt.show()"
   ]
  },
  {
   "cell_type": "code",
   "execution_count": 33,
   "metadata": {},
   "outputs": [
    {
     "name": "stdout",
     "output_type": "stream",
     "text": [
      "Train Accuracy : 0.704057279236\n",
      "Test Accuracy : 0.590476190476\n",
      "Feature ranking:\n",
      "1. feature avr_university (0.068264)\n",
      "2. feature avr_travel_agency (0.067630)\n",
      "3. feature rating_dentist (0.065132)\n",
      "4. feature n_rating_per_entity_store_spa (0.062952)\n",
      "5. feature n_review (0.056685)\n",
      "6. feature entity_per_store_jewelry_store (0.053597)\n",
      "7. feature total_user_rating_restaurant (0.053468)\n",
      "8. feature n_bakery (0.050825)\n",
      "9. feature avr_spa (0.049250)\n",
      "10. feature rating_per_entity_store_post_office (0.044837)\n"
     ]
    },
    {
     "data": {
      "image/png": "[encoded data removed]",
      "text/plain": [
       "<matplotlib.figure.Figure at 0x1165ad978>"
      ]
     },
     "metadata": {},
     "output_type": "display_data"
    }
   ],
   "source": [
    "seed = 19\n",
    "rf_clf = RandomForestClassifier(n_estimators=5,max_depth=3,random_state=seed,max_features='sqrt')\n",
    "rf_clf.fit(X_train,y_train)\n",
    "predictions_train = rf_clf.predict(X_train)\n",
    "print(\"Train Accuracy :\",accuracy_score(y_train, predictions_train))\n",
    "# estimate accuracy on validation dataset\n",
    "\n",
    "predictions = rf_clf.predict(X_test)\n",
    "print(\"Test Accuracy :\",accuracy_score(y_test, predictions))\n",
    "visualizeFeatureImportance(rf_clf,X_train.columns,10)"
   ]
  },
  {
   "cell_type": "code",
   "execution_count": 34,
   "metadata": {},
   "outputs": [
    {
     "name": "stdout",
     "output_type": "stream",
     "text": [
      "Train Accuracy : 0.665871121718\n",
      "Test Accuracy : 0.638095238095\n",
      "Feature ranking:\n",
      "1. feature entity_per_store_gym (0.101984)\n",
      "2. feature rating_per_entity_store_physiotherapist (0.087518)\n",
      "3. feature city_GR (0.071863)\n",
      "4. feature rating_dentist (0.060138)\n",
      "5. feature entity_per_store_jewelry_store (0.054807)\n",
      "6. feature rating_home_goods_store (0.054117)\n",
      "7. feature entity_per_store_bar (0.050996)\n",
      "8. feature avr_gym (0.040799)\n",
      "9. feature avr_electrician (0.039407)\n",
      "10. feature n_store (0.038358)\n"
     ]
    },
    {
     "data": {
      "image/png": "[encoded data removed]",
      "text/plain": [
       "<matplotlib.figure.Figure at 0x11839ebe0>"
      ]
     },
     "metadata": {},
     "output_type": "display_data"
    }
   ],
   "source": [
    "# prepare the model\n",
    "\n",
    "seed = 17\n",
    "\n",
    "model_et = ExtraTreesClassifier(n_estimators=5,max_depth=3,bootstrap=True,max_features='sqrt',random_state=seed)\n",
    "model_et.fit(X_train, y_train)\n",
    "\n",
    "predictions_train = model_et.predict(X_train)\n",
    "print(\"Train Accuracy :\",accuracy_score(y_train,predictions_train))\n",
    "\n",
    "predictions = model_et.predict(X_test)\n",
    "print(\"Test Accuracy :\",accuracy_score(y_test,predictions))\n",
    "\n",
    "visualizeFeatureImportance(model_et,X_train.columns,10)"
   ]
  },
  {
   "cell_type": "code",
   "execution_count": 35,
   "metadata": {
    "scrolled": false
   },
   "outputs": [
    {
     "name": "stdout",
     "output_type": "stream",
     "text": [
      "{'C': 32}\n"
     ]
    }
   ],
   "source": [
    "from sklearn.grid_search import GridSearchCV,RandomizedSearchCV\n",
    "from sklearn.datasets import make_classification\n",
    "from sklearn.ensemble import RandomForestClassifier\n",
    "from sklearn.preprocessing import Normalizer\n",
    "\n",
    "validation_size = 0.30\n",
    "seed = 13\n",
    "X_train, X_test, y_train, y_test = train_test_split(X,y,test_size=validation_size,random_state=seed)\n",
    "\n",
    "scaler = Normalizer().fit(X_train)\n",
    "normalizedX = scaler.transform(X_train)\n",
    "\n",
    "lr = LogisticRegression(C=1,n_jobs=10,penalty='l1') \n",
    "param_grid = { 'C': np.arange(1,100,1)}\n",
    "\n",
    "CV_lr = RandomizedSearchCV(estimator=lr,param_distributions=param_grid, cv=10,scoring='accuracy',random_state=seed)\n",
    "CV_lr.fit(normalizedX, y_train)\n",
    "print (CV_lr.best_params_)"
   ]
  },
  {
   "cell_type": "code",
   "execution_count": 36,
   "metadata": {},
   "outputs": [
    {
     "name": "stdout",
     "output_type": "stream",
     "text": [
      "Train AUC : 0.860655737705\n",
      "Test ROC_AUC : 0.607594936709\n"
     ]
    }
   ],
   "source": [
    "lr = CV_lr.best_estimator_\n",
    "lr.fit(normalizedX, y_train)\n",
    "\n",
    "predictions_train = lr.predict(normalizedX)\n",
    "print(\"Train AUC :\",accuracy_score(y_train,predictions_train))\n",
    "\n",
    "normalizedX_test = scaler.transform(X_test)\n",
    "predictions = lr.predict(normalizedX_test)\n",
    "\n",
    "print(\"Test ROC_AUC :\",accuracy_score(y_test, predictions))"
   ]
  },
  {
   "cell_type": "code",
   "execution_count": 37,
   "metadata": {
    "collapsed": true
   },
   "outputs": [],
   "source": [
    "# from tpot import TPOTClassifier\n",
    "\n",
    "# # prepare the model\n",
    "# model = TPOTClassifier(generations=5, population_size=50, verbosity=2,cv=10,scoring='accuracy')\n",
    "# model.fit(X_train, y_train)\n",
    "\n",
    "# predictions = model.predict(X_test)\n",
    "\n",
    "# print(accuracy_score(y_test, predictions))\n",
    "# print(confusion_matrix(y_test, predictions))\n"
   ]
  },
  {
   "cell_type": "markdown",
   "metadata": {},
   "source": [
    "Sci-kit learn provide facilities from feature selection to improve estimators accuracy scores or to boost their performance on very high-dimensional datasets.\n",
    "\n",
    "We compute the ANOVA F-value for the data, using the SelectKBest methods and use these as inputs to various algorithms. "
   ]
  },
  {
   "cell_type": "code",
   "execution_count": 38,
   "metadata": {
    "scrolled": false
   },
   "outputs": [
    {
     "name": "stdout",
     "output_type": "stream",
     "text": [
      "['total_user_rating_department_store', 'total_user_rating_shopping_mall', 'n_rating_per_entity_store_cafe', 'n_rating_per_entity_store_city_hall', 'n_rating_per_entity_store_department_store', 'n_rating_per_entity_store_electronics_store', 'n_rating_per_entity_store_home_goods_store', 'n_rating_per_entity_store_liquor_store', 'n_rating_per_entity_store_meal_takeaway', 'n_rating_per_entity_store_park', 'n_rating_per_entity_store_restaurant', 'n_rating_per_entity_store_shopping_mall', 'n_rating_per_entity_store_subway_station', 'n_rating_per_entity_store_train_station', 'n_review'] \n",
      "\n",
      "['total_user_rating_beauty_salon', 'total_user_rating_doctor', 'total_user_rating_hair_care', 'rating_insurance_agency', 'rating_spa', 'n_rating_per_entity_store_doctor', 'n_rating_per_entity_store_hair_care', 'rating_per_entity_store_dentist', 'rating_per_entity_store_hair_care', 'n_pharmacy', 'n_meal_takeaway', 'n_store', 'n_gym', 'avr_insurance_agency', 'n_review'] \n",
      "\n",
      "['total_user_rating_airport', 'rating_mosque', 'rating_spa', 'nf_enity_store_id_bakery', 'nf_enity_store_id_dentist', 'nf_enity_store_id_doctor', 'entity_per_store_bakery', 'entity_per_store_real_estate_agency', 'n_rating_per_entity_store_dentist', 'n_rating_per_entity_store_hair_care', 'rating_per_entity_store_dentist', 'rating_per_entity_store_real_estate_agency', 'rating_per_entity_store_roofing_contractor', 'rating_per_entity_store_stadium', 'near_by_post_code'] \n",
      "\n"
     ]
    }
   ],
   "source": [
    "from sklearn.datasets import load_iris\n",
    "from sklearn.feature_selection import SelectKBest\n",
    "from sklearn.feature_selection import chi2, f_classif, mutual_info_classif\n",
    "import pandas as pd\n",
    "\n",
    "\n",
    "selector = SelectKBest(chi2, k=15)\n",
    "selector.fit(X_train, y_train)\n",
    "\n",
    "X_new = selector.transform(X)\n",
    "X_new.shape\n",
    "X.columns[selector.get_support(indices=True)]\n",
    "chi2_list = X.columns[selector.get_support(indices=True)].tolist()\n",
    "print(chi2_list,\"\\n\")\n",
    "\n",
    "    \n",
    "selector = SelectKBest(f_classif, k=15)\n",
    "selector.fit(X, y)\n",
    "X_new = selector.transform(X)\n",
    "X_new.shape\n",
    "X.columns[selector.get_support(indices=True)]\n",
    "f_classif_list = X.columns[selector.get_support(indices=True)].tolist()\n",
    "print(f_classif_list,\"\\n\")\n",
    "    \n",
    "selector = SelectKBest(mutual_info_classif, k=15)\n",
    "selector.fit(X, y)\n",
    "X_new = selector.transform(X)\n",
    "X_new.shape\n",
    "X.columns[selector.get_support(indices=True)]\n",
    "mic_list  = X.columns[selector.get_support(indices=True)].tolist()\n",
    "print(mic_list,\"\\n\")\n",
    "    "
   ]
  },
  {
   "cell_type": "code",
   "execution_count": 39,
   "metadata": {},
   "outputs": [
    {
     "name": "stdout",
     "output_type": "stream",
     "text": [
      "Shape  (524, 15)\n",
      "Shape  (524,)\n",
      "{'min_samples_split': 2, 'max_features': 'auto', 'max_depth': 2, 'criterion': 'gini'}\n",
      "Train ROC-AUC : 0.66393442623\n",
      "Test ROC-AUC : 0.582278481013\n"
     ]
    }
   ],
   "source": [
    "#First Level of segregation using f_classif_list\n",
    "X_sub = X[X.columns.intersection(f_classif_list)]\n",
    "y_sub = y\n",
    "\n",
    "print(\"Shape \",X_sub.shape)\n",
    "print (\"Shape \",y.shape )\n",
    "\n",
    "\n",
    "#Divide \n",
    "validation_size = 0.30\n",
    "seed = 19\n",
    "\n",
    "X_train, X_test, y_train, y_test = train_test_split(X_sub,y_sub,test_size=validation_size,random_state=seed)\n",
    "\n",
    "dtcf = DecisionTreeClassifier(max_depth=2,random_state=seed) \n",
    "\n",
    "\n",
    "param_grid = { \n",
    "    \n",
    "    'max_depth': list(range(2,10,1)),\n",
    "    'max_features': ['auto', 'sqrt', 'log2'],\n",
    "    'min_samples_split' : list(range(2,20,1)),\n",
    "     'criterion':['entropy','gini']\n",
    "}\n",
    "\n",
    "CV_dtcf = RandomizedSearchCV(estimator=dtcf,param_distributions=param_grid, cv= 5,scoring='accuracy',\n",
    "                             random_state=seed)\n",
    "CV_dtcf.fit(X_train, y_train)\n",
    "\n",
    "print (CV_dtcf.best_params_)\n",
    "#print (CV_dtcf.best_score_)\n",
    "\n",
    "\n",
    "predictions_train = CV_dtcf.best_estimator_.fit(X_train, y_train).predict(X_train)\n",
    "print(\"Train ROC-AUC :\",accuracy_score(y_train, predictions_train))\n",
    "\n",
    "predictions = CV_dtcf.best_estimator_.predict(X_test)\n",
    "print(\"Test ROC-AUC :\",accuracy_score(y_test, predictions))\n",
    "\n",
    "visualize_tree(CV_dtcf.best_estimator_,X_train.columns,\"dt_f_classif_sub.txt\")"
   ]
  },
  {
   "cell_type": "code",
   "execution_count": 40,
   "metadata": {
    "scrolled": false
   },
   "outputs": [
    {
     "name": "stdout",
     "output_type": "stream",
     "text": [
      "{'min_samples_split': 8, 'max_features': 'sqrt', 'max_depth': 2, 'criterion': 'gini'}\n",
      "Train ROC-AUC : 0.66393442623\n",
      "Test ROC-AUC : 0.582278481013\n"
     ]
    }
   ],
   "source": [
    "#Overall data set \n",
    "validation_size = 0.30\n",
    "seed = 17\n",
    "\n",
    "X_train, X_test, y_train, y_test = train_test_split(X,y,test_size=validation_size,random_state=seed)\n",
    "\n",
    "dtcf = DecisionTreeClassifier(max_depth=2,random_state=seed) \n",
    "\n",
    "\n",
    "param_grid = { \n",
    "    \n",
    "    'max_depth': list(range(2,10,1)),\n",
    "    'max_features': ['auto', 'sqrt', 'log2'],\n",
    "    'min_samples_split' : list(range(3,10,1)),\n",
    "     'criterion':['entropy','gini']\n",
    "}\n",
    "\n",
    "CV_dtcf = RandomizedSearchCV(estimator=dtcf,param_distributions=param_grid, cv= 5,scoring='accuracy',random_state=seed)\n",
    "CV_dtcf.fit(X_train, y_train)\n",
    "\n",
    "print (CV_dtcf.best_params_)\n",
    "#print (CV_dtcf.best_score_)\n",
    "\n",
    "predictions_train = CV_dtcf.best_estimator_.fit(X_train, y_train).predict(X_train)\n",
    "print(\"Train ROC-AUC :\",accuracy_score(y_train, predictions_train))\n",
    "\n",
    "# estimate accuracy on validation dataset\n",
    "predictions = CV_dtcf.best_estimator_.predict(X_test)\n",
    "print(\"Test ROC-AUC :\" , accuracy_score(y_test, predictions))\n",
    "\n",
    "#visualize_tree(CV_dtcf.best_estimator_,X_train.columns,\"dt_all_data.txt\")"
   ]
  },
  {
   "cell_type": "code",
   "execution_count": 41,
   "metadata": {
    "collapsed": true
   },
   "outputs": [],
   "source": [
    "# {criterion': 'gini', 'max_depth': 4, 'max_features': 'auto', 'min_samples_split': 15}\n",
    "# {'criterion': 'gini', 'max_depth': 8, 'max_features': 'log2', 'min_samples_split': 4}\n",
    "# {'criterion': 'gini', 'max_depth': 4, 'max_features': 'auto', 'min_samples_split': 11}"
   ]
  },
  {
   "cell_type": "code",
   "execution_count": 42,
   "metadata": {},
   "outputs": [
    {
     "name": "stdout",
     "output_type": "stream",
     "text": [
      "Shape  (524, 15)\n",
      "Shape  (524,)\n",
      "{'bootstrap': True, 'criterion': 'gini', 'max_depth': 4, 'max_features': 'log2', 'min_samples_leaf': 2, 'min_samples_split': 5, 'n_estimators': 120}\n",
      "Train ROC-AUC : 0.751366120219\n",
      "Test ROC-AUC : 0.626582278481\n",
      "Feature ranking:\n",
      "1. feature n_rating_per_entity_store_hair_care (0.127220)\n",
      "2. feature rating_per_entity_store_hair_care (0.124074)\n",
      "3. feature n_review (0.111491)\n",
      "4. feature total_user_rating_beauty_salon (0.106131)\n",
      "5. feature total_user_rating_hair_care (0.093970)\n",
      "6. feature total_user_rating_doctor (0.070935)\n",
      "7. feature n_gym (0.059260)\n",
      "8. feature n_rating_per_entity_store_doctor (0.058390)\n",
      "9. feature rating_per_entity_store_dentist (0.051387)\n",
      "10. feature n_store (0.049642)\n"
     ]
    },
    {
     "data": {
      "image/png": "[encoded data removed]",
      "text/plain": [
       "<matplotlib.figure.Figure at 0x11864cbe0>"
      ]
     },
     "metadata": {},
     "output_type": "display_data"
    },
    {
     "name": "stdout",
     "output_type": "stream",
     "text": [
      "{'bootstrap': False, 'criterion': 'gini', 'max_depth': 7, 'max_features': 'sqrt', 'min_samples_leaf': 2, 'min_samples_split': 10, 'n_estimators': 120}\n",
      "Train ROC-AUC : 0.762295081967\n",
      "Test ROC-AUC : 0.645569620253\n",
      "Feature ranking:\n",
      "1. feature n_rating_per_entity_store_hair_care (0.104607)\n",
      "2. feature total_user_rating_beauty_salon (0.089619)\n",
      "3. feature n_gym (0.086716)\n",
      "4. feature rating_per_entity_store_hair_care (0.085269)\n",
      "5. feature rating_per_entity_store_dentist (0.073897)\n",
      "6. feature n_meal_takeaway (0.065604)\n",
      "7. feature n_pharmacy (0.065014)\n",
      "8. feature total_user_rating_hair_care (0.063987)\n",
      "9. feature rating_spa (0.063491)\n",
      "10. feature n_store (0.063353)\n"
     ]
    },
    {
     "data": {
      "image/png": "[encoded data removed]",
      "text/plain": [
       "<matplotlib.figure.Figure at 0x116a7fc50>"
      ]
     },
     "metadata": {},
     "output_type": "display_data"
    }
   ],
   "source": [
    "#ensemble_input_col = list(set().union(chi2_list,f_classif_list,mic_list))\n",
    "ensemble_input_col = list(set().union(f_classif_list))\n",
    "\n",
    "X_sub = X[X.columns.intersection(ensemble_input_col)]\n",
    "y_sub = y\n",
    "\n",
    "\n",
    "print(\"Shape \",X_sub.shape)\n",
    "print (\"Shape \",y.shape )\n",
    "\n",
    "\n",
    "#Divide \n",
    "validation_size = 0.30\n",
    "seed = 29\n",
    "X_train, X_test, y_train, y_test = train_test_split(X_sub,y_sub,test_size=validation_size,random_state=seed)\n",
    "\n",
    "\n",
    "from sklearn.grid_search import GridSearchCV, RandomizedSearchCV\n",
    "from sklearn.datasets import make_classification\n",
    "from sklearn.ensemble import RandomForestClassifier\n",
    "from scipy.stats import randint as sp_randint\n",
    "\n",
    "rfc = RandomForestClassifier(n_jobs=-1) \n",
    "\n",
    "# n_estimator = list(range(10,500,10))\n",
    "# print(n_estimator)\n",
    "param_grid = { \n",
    "    'n_estimators': list(range(10,500,10)),\n",
    "    'max_features': ['auto', 'sqrt', 'log2'],\n",
    "    'max_depth' : list(range(3,9,1)),\n",
    "    \"min_samples_split\": sp_randint(2, 11),\n",
    "    \"min_samples_leaf\": sp_randint(2, 11),\n",
    "    \"bootstrap\": [True, False],\n",
    "    \"criterion\": [\"gini\", \"entropy\"]\n",
    "}\n",
    "\n",
    "CV_rfc = RandomizedSearchCV(estimator=rfc,param_distributions=param_grid,cv= 5,scoring='accuracy')\n",
    "CV_rfc.fit(X_train, y_train)\n",
    "print (CV_rfc.best_params_)\n",
    "\n",
    "seed = 29\n",
    "rf_clf = CV_rfc.best_estimator_\n",
    "\n",
    "rf_clf.fit(X_train,y_train)\n",
    "predictions_train = rf_clf.predict(X_train)\n",
    "print(\"Train ROC-AUC :\",accuracy_score(y_train, predictions_train))\n",
    "# estimate accuracy on validation dataset\n",
    "predictions = rf_clf.predict(X_test)\n",
    "print(\"Test ROC-AUC :\",accuracy_score(y_test, predictions))\n",
    "visualizeFeatureImportance(rf_clf,X_train.columns,10)\n",
    "\n",
    "et_clf = ExtraTreesClassifier(n_jobs=-1) \n",
    "\n",
    "# n_estimator = list(range(10,500,10))\n",
    "# print(n_estimator)\n",
    "param_grid = { \n",
    "    'n_estimators': list(range(10,500,10)),\n",
    "    'max_features': ['auto', 'sqrt', 'log2'],\n",
    "    'max_depth' : list(range(3,9,1)),\n",
    "    \"min_samples_split\": sp_randint(2, 11),\n",
    "    \"min_samples_leaf\": sp_randint(2, 11),\n",
    "    \"bootstrap\": [True, False],\n",
    "    \"criterion\": [\"gini\", \"entropy\"]\n",
    "}\n",
    "\n",
    "CV_et_clf = RandomizedSearchCV(estimator=et_clf,param_distributions=param_grid,cv= 5,scoring='accuracy')\n",
    "CV_et_clf.fit(X_train, y_train)\n",
    "print (CV_et_clf.best_params_)\n",
    "\n",
    "\n",
    "seed = 29\n",
    "et_clf = CV_et_clf.best_estimator_\n",
    "et_clf.fit(X_train,y_train)\n",
    "predictions_train = et_clf.predict(X_train)\n",
    "print(\"Train ROC-AUC :\",accuracy_score(y_train, predictions_train))\n",
    "# estimate accuracy on validation dataset\n",
    "predictions = et_clf.predict(X_test)\n",
    "print(\"Test ROC-AUC :\",accuracy_score(y_test, predictions))\n",
    "visualizeFeatureImportance(et_clf,X_train.columns,10)\n"
   ]
  },
  {
   "cell_type": "code",
   "execution_count": 43,
   "metadata": {
    "scrolled": false
   },
   "outputs": [],
   "source": [
    "# #Lasso Regression for variable selection and Random forest for feature imporatnce .\n",
    "\n",
    "# validation_size = 0.30\n",
    "# seed = 23\n",
    "\n",
    "# X_train, X_test, y_train, y_test = train_test_split(X,y,test_size=validation_size,random_state=seed)\n",
    "\n",
    "# from sklearn import linear_model\n",
    "# ls_clf = linear_model.Lasso(alpha=0.01,selection='random')\n",
    "# param_grid = { 'alpha': np.arange(0.1,1,0.01)}\n",
    "\n",
    "\n",
    "# CV_lr = GridSearchCV(estimator=ls_clf,param_grid=param_grid, cv=10,scoring='accuracy')\n",
    "# CV_lr.fit(X_train, y_train)\n",
    "# print (CV_lr.best_params_)\n",
    "\n",
    "\n",
    "# CV_lr.best_estimator_.fit(X_train,y_train)\n",
    "# predictions_train = CV_lr.best_estimator_.predict(X_train)\n",
    "# print(\"Train AUC :\",accuracy_score(y_train,predictions_train))\n",
    "# predictions = CV_lr.best_estimator_.predict(X_test)\n",
    "# print(\"Test ROC_AUC :\",accuracy_score(y_test, predictions))\n",
    "# # print (len(CV_lr.best_estimator_.coef_))\n",
    "# # print (len(X.columns))\n",
    "# print (CV_lr.best_estimator_.alpha)\n",
    "\n",
    "# lasso_survival_list = []\n",
    "# for i in range(0,len(X.columns)):\n",
    "#     if CV_lr.best_estimator_.coef_[i]!=0:\n",
    "#         lasso_survival_list.append(X.columns[i])\n",
    "# print (\"Features survied :\",len(lasso_survival_list))\n",
    "\n",
    "# #Subselect the data using the variables survived from Lasso\n",
    "# X_sub = X[X.columns.intersection(lasso_survival_list)]\n",
    "# y_sub = y\n",
    "\n",
    "# #Divide \n",
    "# validation_size = 0.30\n",
    "# seed = 29\n",
    "# X_train, X_test, y_train, y_test = train_test_split(X_sub,y_sub,test_size=validation_size,random_state=seed)\n",
    "\n",
    "\n",
    "# from sklearn.grid_search import GridSearchCV, RandomizedSearchCV\n",
    "# from sklearn.datasets import make_classification\n",
    "# from sklearn.ensemble import RandomForestClassifier\n",
    "# from scipy.stats import randint as sp_randint\n",
    "\n",
    "# rfc = RandomForestClassifier(n_jobs=-1) \n",
    "\n",
    "# # n_estimator = list(range(10,500,10))\n",
    "# # print(n_estimator)\n",
    "# param_grid = { \n",
    "#     'n_estimators': list(range(10,500,10)),\n",
    "#     'max_features': ['auto', 'sqrt', 'log2'],\n",
    "#     'max_depth' : list(range(3,9,1)),\n",
    "#     \"min_samples_split\": sp_randint(2, 11),\n",
    "#     \"min_samples_leaf\": sp_randint(2, 11),\n",
    "#     \"bootstrap\": [True, False],\n",
    "#     \"criterion\": [\"gini\", \"entropy\"]\n",
    "# }\n",
    "\n",
    "# CV_rfc = RandomizedSearchCV(estimator=rfc,param_distributions=param_grid,cv= 5,scoring='accuracy')\n",
    "# CV_rfc.fit(X_train, y_train)\n",
    "# print (CV_rfc.best_params_)\n",
    "\n",
    "# seed = 29\n",
    "# rf_clf = CV_rfc.best_estimator_\n",
    "\n",
    "# rf_clf.fit(X_train,y_train)\n",
    "# predictions_train = rf_clf.predict(X_train)\n",
    "# print(\"Train ROC-AUC :\",accuracy_score(y_train, predictions_train))\n",
    "# # estimate accuracy on validation dataset\n",
    "# predictions = rf_clf.predict(X_test)\n",
    "# print(\"Test ROC-AUC :\",accuracy_score(y_test, predictions))\n",
    "# visualizeFeatureImportance(rf_clf,X_train.columns,10)\n",
    "\n",
    "# et_clf = ExtraTreesClassifier(n_jobs=-1) \n",
    "\n",
    "# # n_estimator = list(range(10,500,10))\n",
    "# # print(n_estimator)\n",
    "# param_grid = { \n",
    "#     'n_estimators': list(range(10,500,10)),\n",
    "#     'max_features': ['auto', 'sqrt', 'log2'],\n",
    "#     'max_depth' : list(range(3,9,1)),\n",
    "#     \"min_samples_split\": sp_randint(2, 11),\n",
    "#     \"min_samples_leaf\": sp_randint(2, 11),\n",
    "#     \"bootstrap\": [True, False],\n",
    "#     \"criterion\": [\"gini\", \"entropy\"]\n",
    "# }\n",
    "\n",
    "# CV_et_clf = RandomizedSearchCV(estimator=et_clf,param_distributions=param_grid,cv= 5,scoring='accuracy')\n",
    "# CV_et_clf.fit(X_train, y_train)\n",
    "# print (CV_et_clf.best_params_)\n",
    "\n",
    "\n",
    "# seed = 29\n",
    "# et_clf = CV_et_clf.best_estimator_\n",
    "# et_clf.fit(X_train,y_train)\n",
    "# predictions_train = et_clf.predict(X_train)\n",
    "# print(\"Train ROC-AUC :\",accuracy_score(y_train, predictions_train))\n",
    "# # estimate accuracy on validation dataset\n",
    "# predictions = et_clf.predict(X_test)\n",
    "# print(\"Test ROC-AUC :\",accuracy_score(y_test, predictions))\n",
    "# visualizeFeatureImportance(et_clf,X_train.columns,10)\n"
   ]
  },
  {
   "cell_type": "code",
   "execution_count": 44,
   "metadata": {
    "scrolled": false
   },
   "outputs": [
    {
     "name": "stdout",
     "output_type": "stream",
     "text": [
      "{'C': 31}\n",
      "Train AUC : 0.844262295082\n",
      "Test AUC : 0.563291139241\n",
      "731\n",
      "31\n",
      "1\n",
      "Features survived for RF : 113\n",
      "{'bootstrap': True, 'criterion': 'gini', 'max_depth': 4, 'max_features': 'auto', 'min_samples_leaf': 9, 'min_samples_split': 7, 'n_estimators': 40}\n",
      "Train ROC-AUC : 0.773224043716\n",
      "Test ROC-AUC : 0.620253164557\n",
      "Feature ranking:\n",
      "1. feature n_real_estate_agency (0.083152)\n",
      "2. feature rating_per_entity_store_hair_care (0.056252)\n",
      "3. feature n_rating_per_entity_store_doctor (0.048038)\n",
      "4. feature n_dentist (0.036236)\n",
      "5. feature no_of_near_by_shops (0.036137)\n",
      "6. feature total_user_rating_restaurant (0.027834)\n",
      "7. feature n_rating_per_entity_store_dentist (0.026062)\n",
      "8. feature n_rating_per_entity_store_gym (0.022586)\n",
      "9. feature avr_store (0.022175)\n",
      "10. feature n_rating_per_entity_store_transit_station (0.021461)\n"
     ]
    },
    {
     "data": {
      "image/png": "[encoded data removed]",
      "text/plain": [
       "<matplotlib.figure.Figure at 0x1186f0390>"
      ]
     },
     "metadata": {},
     "output_type": "display_data"
    },
    {
     "name": "stdout",
     "output_type": "stream",
     "text": [
      "{'bootstrap': True, 'criterion': 'entropy', 'max_depth': 4, 'max_features': 'sqrt', 'min_samples_leaf': 2, 'min_samples_split': 6, 'n_estimators': 210}\n",
      "Train ROC-AUC : 0.732240437158\n",
      "Test ROC-AUC : 0.582278481013\n",
      "Feature ranking:\n",
      "1. feature n_store (0.040005)\n",
      "2. feature rating_per_entity_store_hair_care (0.035218)\n",
      "3. feature avr_beauty_salon (0.031644)\n",
      "4. feature n_dentist (0.026967)\n",
      "5. feature n_real_estate_agency (0.024823)\n",
      "6. feature no_of_near_by_shops (0.023518)\n",
      "7. feature n_rating_per_entity_store_pharmacy (0.022439)\n",
      "8. feature n_rating_per_entity_store_dentist (0.021454)\n",
      "9. feature n_parking (0.018965)\n",
      "10. feature n_review (0.017472)\n"
     ]
    },
    {
     "data": {
      "image/png": "[encoded data removed]",
      "text/plain": [
       "<matplotlib.figure.Figure at 0x10a1a1e48>"
      ]
     },
     "metadata": {},
     "output_type": "display_data"
    }
   ],
   "source": [
    "#Logistic Regression with L1 Penalty for variable selection and Random forest for feature imporatnce .\n",
    "\n",
    "validation_size = 0.30\n",
    "seed = 29\n",
    "X_train, X_test, y_train, y_test = train_test_split(X,y,test_size=validation_size,random_state=seed)\n",
    "\n",
    "from sklearn import linear_model\n",
    "\n",
    "scaler = Normalizer().fit(X_train)\n",
    "normalizedX = scaler.transform(X_train)\n",
    "lr = LogisticRegression(C=1,n_jobs=10,penalty='l1') \n",
    "param_grid = { 'C': np.arange(1,100,1)}\n",
    "CV_lr = RandomizedSearchCV(estimator=lr,param_distributions=param_grid, cv=10,scoring='accuracy')\n",
    "CV_lr.fit(normalizedX, y_train)\n",
    "print (CV_lr.best_params_)\n",
    "lr = CV_lr.best_estimator_\n",
    "lr.fit(normalizedX, y_train)\n",
    "\n",
    "predictions_train = lr.predict(normalizedX)\n",
    "print(\"Train AUC :\",accuracy_score(y_train,predictions_train))\n",
    "\n",
    "normalizedX_test = scaler.transform(X_test)\n",
    "predictions = lr.predict(normalizedX_test)\n",
    "print(\"Test AUC :\",accuracy_score(y_test,predictions))\n",
    "\n",
    "print (len(X.columns))\n",
    "print (lr.C)\n",
    "print (len(lr.coef_))\n",
    "\n",
    "survival_list = []\n",
    "\n",
    "for i in range(0,len(X.columns)):\n",
    "    if lr.coef_[:,i]!=0:\n",
    "        survival_list.append(X.columns[i])\n",
    "print (\"Features survived for RF :\",len(survival_list))\n",
    "\n",
    "#Subselect the data using the variables survived from Lasso\n",
    "X_sub = X[X.columns.intersection(survival_list)]\n",
    "y_sub = y\n",
    "\n",
    "#Divide \n",
    "validation_size = 0.30\n",
    "seed = 29\n",
    "X_train, X_test, y_train, y_test = train_test_split(X_sub,y_sub,test_size=validation_size,random_state=seed)\n",
    "\n",
    "\n",
    "from sklearn.grid_search import GridSearchCV\n",
    "from sklearn.datasets import make_classification\n",
    "from sklearn.ensemble import RandomForestClassifier\n",
    "\n",
    "rfc = RandomForestClassifier(n_jobs=-1) \n",
    "\n",
    "# n_estimator = list(range(10,500,10))\n",
    "# print(n_estimator)\n",
    "param_grid = { \n",
    "    'n_estimators': list(range(10,100,10)),\n",
    "    'max_features': ['auto', 'sqrt', 'log2'],\n",
    "    'max_depth' : list(range(3,5,1)),\n",
    "    \"min_samples_split\": sp_randint(2, 11),\n",
    "    \"min_samples_leaf\": sp_randint(2, 11),\n",
    "    \"bootstrap\": [True, False],\n",
    "    \"criterion\": [\"gini\", \"entropy\"]\n",
    "}\n",
    "\n",
    "CV_rfc = RandomizedSearchCV(estimator=rfc,param_distributions=param_grid,cv= 5,scoring='accuracy',random_state=seed)\n",
    "CV_rfc.fit(X_train, y_train)\n",
    "print (CV_rfc.best_params_)\n",
    "\n",
    "rf_clf = CV_rfc.best_estimator_\n",
    "rf_clf.fit(X_train,y_train)\n",
    "predictions_train = rf_clf.predict(X_train)\n",
    "print(\"Train ROC-AUC :\",accuracy_score(y_train, predictions_train))\n",
    "# estimate accuracy on validation dataset\n",
    "predictions = rf_clf.predict(X_test)\n",
    "print(\"Test ROC-AUC :\",accuracy_score(y_test, predictions))\n",
    "visualizeFeatureImportance(rf_clf,X_train.columns,10)\n",
    "\n",
    "\n",
    "#Randomised search for ET Classifier\n",
    "\n",
    "et_clf = ExtraTreesClassifier(n_jobs=-1) \n",
    "\n",
    "# n_estimator = list(range(10,500,10))\n",
    "# print(n_estimator)\n",
    "param_grid = { \n",
    "    'n_estimators': list(range(10,500,10)),\n",
    "    'max_features': ['auto', 'sqrt', 'log2'],\n",
    "    'max_depth' : list(range(3,5,1)),\n",
    "    \"min_samples_split\": sp_randint(2, 11),\n",
    "    \"min_samples_leaf\": sp_randint(2, 11),\n",
    "    \"bootstrap\": [True, False],\n",
    "    \"criterion\": [\"gini\", \"entropy\"]\n",
    "}\n",
    "\n",
    "CV_et_clf = RandomizedSearchCV(estimator=et_clf,param_distributions=param_grid,cv= 5,scoring='accuracy',\n",
    "                               random_state=seed)\n",
    "CV_et_clf.fit(X_train, y_train)\n",
    "print (CV_et_clf.best_params_)\n",
    "\n",
    "\n",
    "seed = 29\n",
    "et_clf = CV_et_clf.best_estimator_\n",
    "et_clf.fit(X_train,y_train)\n",
    "predictions_train = et_clf.predict(X_train)\n",
    "print(\"Train ROC-AUC :\",accuracy_score(y_train, predictions_train))\n",
    "# estimate accuracy on validation dataset\n",
    "predictions = et_clf.predict(X_test)\n",
    "print(\"Test ROC-AUC :\",accuracy_score(y_test, predictions))\n",
    "visualizeFeatureImportance(et_clf,X_train.columns,10)"
   ]
  },
  {
   "cell_type": "code",
   "execution_count": 45,
   "metadata": {
    "collapsed": true,
    "scrolled": false
   },
   "outputs": [],
   "source": [
    "# effect_list = []\n",
    "# for i in range(0,len(X.columns)):\n",
    "#     if lr.coef_[:,i]!=0:\n",
    "#         effect_list.append(X.columns[i]+str(lr.coef_[:,i]))\n",
    "# print (\"LR feature co-efficient :\",effect_list)"
   ]
  },
  {
   "cell_type": "code",
   "execution_count": 46,
   "metadata": {},
   "outputs": [
    {
     "name": "stdout",
     "output_type": "stream",
     "text": [
      "Train Accuracy : 0.732240437158\n",
      "Test Accuracy : 0.582278481013\n"
     ]
    }
   ],
   "source": [
    "print(\"Train Accuracy :\",accuracy_score(y_train, predictions_train))\n",
    "# estimate accuracy on validation dataset\n",
    "predictions = et_clf.predict(X_test)\n",
    "print(\"Test Accuracy :\",accuracy_score(y_test, predictions))"
   ]
  },
  {
   "cell_type": "code",
   "execution_count": 47,
   "metadata": {
    "collapsed": true
   },
   "outputs": [],
   "source": [
    "# target_names = ['class 0', 'class 1']\n",
    "# print(classification_report(y_test, predictions, target_names=target_names))"
   ]
  },
  {
   "cell_type": "code",
   "execution_count": 48,
   "metadata": {
    "collapsed": true
   },
   "outputs": [],
   "source": [
    "# tn, fp, fn, tp = confusion_matrix(y_test, predictions).ravel()"
   ]
  },
  {
   "cell_type": "code",
   "execution_count": 49,
   "metadata": {},
   "outputs": [],
   "source": [
    "# tn, fp, fn, tp"
   ]
  },
  {
   "cell_type": "code",
   "execution_count": null,
   "metadata": {
    "collapsed": true
   },
   "outputs": [],
   "source": []
  },
  {
   "cell_type": "code",
   "execution_count": null,
   "metadata": {
    "collapsed": true,
    "scrolled": false
   },
   "outputs": [],
   "source": []
  },
  {
   "cell_type": "code",
   "execution_count": null,
   "metadata": {
    "collapsed": true
   },
   "outputs": [],
   "source": []
  }
 ],
 "metadata": {
  "kernelspec": {
   "display_name": "Python 3",
   "language": "python",
   "name": "python3"
  },
  "language_info": {
   "codemirror_mode": {
    "name": "ipython",
    "version": 3
   },
   "file_extension": ".py",
   "mimetype": "text/x-python",
   "name": "python",
   "nbconvert_exporter": "python",
   "pygments_lexer": "ipython3",
   "version": "3.6.1"
  }
 },
 "nbformat": 4,
 "nbformat_minor": 2
}
