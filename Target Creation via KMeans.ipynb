{
 "cells": [
  {
   "cell_type": "markdown",
   "metadata": {},
   "source": [
    "## Creating Target using KMeans"
   ]
  },
  {
   "cell_type": "markdown",
   "metadata": {},
   "source": [
    "#### Load Libraries"
   ]
  },
  {
   "cell_type": "code",
   "execution_count": 1,
   "metadata": {
    "collapsed": true
   },
   "outputs": [],
   "source": [
    "import pandas as pd\n",
    "from time import time\n",
    "import math\n",
    "import numpy as np\n",
    "import matplotlib.pyplot as plt\n",
    "from scipy.stats import randint as sp_randint\n",
    "from sklearn import metrics\n",
    "from sklearn.cluster import KMeans\n",
    "from sklearn.datasets import load_digits\n",
    "from sklearn.decomposition import PCA\n",
    "from sklearn.preprocessing import scale\n",
    "from sklearn.model_selection import train_test_split\n",
    "import pandas as pd\n",
    "pd.options.display.max_columns = 200\n",
    "pd.options.display.max_rows = 1000\n",
    "import pandas as pd\n",
    "from sklearn import preprocessing\n",
    "import numpy as np\n",
    "from sklearn.metrics import accuracy_score\n",
    "from sklearn.ensemble import ExtraTreesClassifier, RandomForestClassifier\n",
    "from sklearn.model_selection import train_test_split\n",
    "from sklearn.pipeline import make_pipeline, make_union\n",
    "from tpot.builtins import StackingEstimator\n",
    "from tpot import TPOTClassifier\n",
    "from sklearn.datasets import load_iris\n",
    "from sklearn.model_selection import train_test_split\n",
    "from sklearn.metrics import roc_auc_score\n",
    "from scipy import interp\n",
    "from itertools import cycle\n",
    "from sklearn import svm, datasets\n",
    "from sklearn.metrics import roc_curve, auc\n",
    "from sklearn.model_selection import StratifiedKFold\n",
    "from sklearn.metrics import average_precision_score\n",
    "from matplotlib import pyplot\n",
    "from pandas import read_csv\n",
    "from pandas import set_option\n",
    "from pandas.tools.plotting import scatter_matrix\n",
    "from sklearn.preprocessing import StandardScaler\n",
    "from sklearn.model_selection import train_test_split\n",
    "from sklearn.model_selection import KFold\n",
    "from sklearn.model_selection import cross_val_score\n",
    "from sklearn.model_selection import GridSearchCV\n",
    "from sklearn.metrics import classification_report\n",
    "from sklearn.metrics import confusion_matrix\n",
    "from sklearn.metrics import accuracy_score\n",
    "from sklearn.pipeline import Pipeline\n",
    "from sklearn.linear_model import LogisticRegression\n",
    "from sklearn.tree import DecisionTreeClassifier\n",
    "from sklearn.neighbors import KNeighborsClassifier\n",
    "from sklearn.discriminant_analysis import LinearDiscriminantAnalysis\n",
    "from sklearn.naive_bayes import GaussianNB\n",
    "from sklearn.svm import SVC\n",
    "from sklearn.ensemble import AdaBoostClassifier\n",
    "from sklearn.ensemble import GradientBoostingClassifier\n",
    "from sklearn.ensemble import RandomForestClassifier\n",
    "from sklearn.ensemble import ExtraTreesClassifier\n",
    "import matplotlib.pyplot as plt\n",
    "import seaborn as sns\n",
    "from __future__ import print_function\n",
    "import os\n",
    "import subprocess\n",
    "import pandas as pd\n",
    "import numpy as np\n",
    "from sklearn.tree import DecisionTreeClassifier, export_graphviz\n",
    "%matplotlib inline\n",
    "import warnings\n",
    "warnings.filterwarnings('ignore')"
   ]
  },
  {
   "cell_type": "markdown",
   "metadata": {},
   "source": [
    "#### Create a target variable based on results of k-means clustering , and use it as target for classification"
   ]
  },
  {
   "cell_type": "code",
   "execution_count": 2,
   "metadata": {},
   "outputs": [],
   "source": [
    "#Load Target data :\n",
    "surrounding_pdf = pd.read_csv('../UseCase_3_Datasets/store_surrounding_pdf_exp.csv')\n",
    "store_sales = pd.read_csv('../UseCase_3_Datasets/sales_per_day_period.csv')\n",
    "\n",
    "#print(store_sales.shape)\n",
    "sales_pdf_daily_sub = store_sales[store_sales['store_code'].isin(surrounding_pdf['store_code'])]\n",
    "\n",
    "#print(sales_pdf_daily_sub.shape)\n"
   ]
  },
  {
   "cell_type": "code",
   "execution_count": 3,
   "metadata": {},
   "outputs": [
    {
     "data": {
      "text/html": [
       "<div>\n",
       "<style>\n",
       "    .dataframe thead tr:only-child th {\n",
       "        text-align: right;\n",
       "    }\n",
       "\n",
       "    .dataframe thead th {\n",
       "        text-align: left;\n",
       "    }\n",
       "\n",
       "    .dataframe tbody tr th {\n",
       "        vertical-align: top;\n",
       "    }\n",
       "</style>\n",
       "<table border=\"1\" class=\"dataframe\">\n",
       "  <thead>\n",
       "    <tr style=\"text-align: right;\">\n",
       "      <th></th>\n",
       "      <th>store_code</th>\n",
       "      <th>Morning</th>\n",
       "      <th>Afternoon</th>\n",
       "      <th>Evening</th>\n",
       "      <th>Night</th>\n",
       "      <th>total_sales</th>\n",
       "      <th>sales_per_hr</th>\n",
       "    </tr>\n",
       "  </thead>\n",
       "  <tbody>\n",
       "    <tr>\n",
       "      <th>count</th>\n",
       "      <td>535.000000</td>\n",
       "      <td>535.000000</td>\n",
       "      <td>535.000000</td>\n",
       "      <td>535.000000</td>\n",
       "      <td>535.000000</td>\n",
       "      <td>535.000000</td>\n",
       "      <td>535.000000</td>\n",
       "    </tr>\n",
       "    <tr>\n",
       "      <th>mean</th>\n",
       "      <td>23927.063551</td>\n",
       "      <td>0.425017</td>\n",
       "      <td>0.363575</td>\n",
       "      <td>0.209691</td>\n",
       "      <td>0.000787</td>\n",
       "      <td>17157.981308</td>\n",
       "      <td>0.934005</td>\n",
       "    </tr>\n",
       "    <tr>\n",
       "      <th>std</th>\n",
       "      <td>8202.167720</td>\n",
       "      <td>0.175939</td>\n",
       "      <td>0.165440</td>\n",
       "      <td>0.151145</td>\n",
       "      <td>0.007231</td>\n",
       "      <td>42598.216246</td>\n",
       "      <td>0.856830</td>\n",
       "    </tr>\n",
       "    <tr>\n",
       "      <th>min</th>\n",
       "      <td>282.000000</td>\n",
       "      <td>0.000000</td>\n",
       "      <td>0.000000</td>\n",
       "      <td>0.000000</td>\n",
       "      <td>0.000000</td>\n",
       "      <td>30.000000</td>\n",
       "      <td>0.006077</td>\n",
       "    </tr>\n",
       "    <tr>\n",
       "      <th>25%</th>\n",
       "      <td>19810.000000</td>\n",
       "      <td>0.324516</td>\n",
       "      <td>0.271525</td>\n",
       "      <td>0.105219</td>\n",
       "      <td>0.000000</td>\n",
       "      <td>1800.000000</td>\n",
       "      <td>0.311671</td>\n",
       "    </tr>\n",
       "    <tr>\n",
       "      <th>50%</th>\n",
       "      <td>25270.000000</td>\n",
       "      <td>0.419094</td>\n",
       "      <td>0.348522</td>\n",
       "      <td>0.191001</td>\n",
       "      <td>0.000000</td>\n",
       "      <td>5010.000000</td>\n",
       "      <td>0.702047</td>\n",
       "    </tr>\n",
       "    <tr>\n",
       "      <th>75%</th>\n",
       "      <td>30000.500000</td>\n",
       "      <td>0.520912</td>\n",
       "      <td>0.439825</td>\n",
       "      <td>0.283424</td>\n",
       "      <td>0.000000</td>\n",
       "      <td>11895.000000</td>\n",
       "      <td>1.228672</td>\n",
       "    </tr>\n",
       "    <tr>\n",
       "      <th>max</th>\n",
       "      <td>47724.000000</td>\n",
       "      <td>0.996678</td>\n",
       "      <td>0.999075</td>\n",
       "      <td>0.983607</td>\n",
       "      <td>0.110701</td>\n",
       "      <td>370560.000000</td>\n",
       "      <td>4.334496</td>\n",
       "    </tr>\n",
       "  </tbody>\n",
       "</table>\n",
       "</div>"
      ],
      "text/plain": [
       "         store_code     Morning   Afternoon     Evening       Night  \\\n",
       "count    535.000000  535.000000  535.000000  535.000000  535.000000   \n",
       "mean   23927.063551    0.425017    0.363575    0.209691    0.000787   \n",
       "std     8202.167720    0.175939    0.165440    0.151145    0.007231   \n",
       "min      282.000000    0.000000    0.000000    0.000000    0.000000   \n",
       "25%    19810.000000    0.324516    0.271525    0.105219    0.000000   \n",
       "50%    25270.000000    0.419094    0.348522    0.191001    0.000000   \n",
       "75%    30000.500000    0.520912    0.439825    0.283424    0.000000   \n",
       "max    47724.000000    0.996678    0.999075    0.983607    0.110701   \n",
       "\n",
       "         total_sales  sales_per_hr  \n",
       "count     535.000000    535.000000  \n",
       "mean    17157.981308      0.934005  \n",
       "std     42598.216246      0.856830  \n",
       "min        30.000000      0.006077  \n",
       "25%      1800.000000      0.311671  \n",
       "50%      5010.000000      0.702047  \n",
       "75%     11895.000000      1.228672  \n",
       "max    370560.000000      4.334496  "
      ]
     },
     "execution_count": 3,
     "metadata": {},
     "output_type": "execute_result"
    }
   ],
   "source": [
    "sales_pdf_daily_sub.describe()"
   ]
  },
  {
   "cell_type": "code",
   "execution_count": 4,
   "metadata": {},
   "outputs": [
    {
     "data": {
      "text/html": [
       "<div>\n",
       "<style>\n",
       "    .dataframe thead tr:only-child th {\n",
       "        text-align: right;\n",
       "    }\n",
       "\n",
       "    .dataframe thead th {\n",
       "        text-align: left;\n",
       "    }\n",
       "\n",
       "    .dataframe tbody tr th {\n",
       "        vertical-align: top;\n",
       "    }\n",
       "</style>\n",
       "<table border=\"1\" class=\"dataframe\">\n",
       "  <thead>\n",
       "    <tr style=\"text-align: right;\">\n",
       "      <th></th>\n",
       "      <th>store_code</th>\n",
       "      <th>Morning</th>\n",
       "      <th>Afternoon</th>\n",
       "      <th>Evening</th>\n",
       "      <th>Night</th>\n",
       "      <th>total_sales</th>\n",
       "      <th>sales_per_hr</th>\n",
       "    </tr>\n",
       "  </thead>\n",
       "  <tbody>\n",
       "    <tr>\n",
       "      <th>0.10</th>\n",
       "      <td>12256.20</td>\n",
       "      <td>0.218839</td>\n",
       "      <td>0.195663</td>\n",
       "      <td>0.034676</td>\n",
       "      <td>0.000000</td>\n",
       "      <td>510.0</td>\n",
       "      <td>0.098592</td>\n",
       "    </tr>\n",
       "    <tr>\n",
       "      <th>0.25</th>\n",
       "      <td>19810.00</td>\n",
       "      <td>0.324516</td>\n",
       "      <td>0.271525</td>\n",
       "      <td>0.105219</td>\n",
       "      <td>0.000000</td>\n",
       "      <td>1800.0</td>\n",
       "      <td>0.311671</td>\n",
       "    </tr>\n",
       "    <tr>\n",
       "      <th>0.50</th>\n",
       "      <td>25270.00</td>\n",
       "      <td>0.419094</td>\n",
       "      <td>0.348522</td>\n",
       "      <td>0.191001</td>\n",
       "      <td>0.000000</td>\n",
       "      <td>5010.0</td>\n",
       "      <td>0.702047</td>\n",
       "    </tr>\n",
       "    <tr>\n",
       "      <th>0.75</th>\n",
       "      <td>30000.50</td>\n",
       "      <td>0.520912</td>\n",
       "      <td>0.439825</td>\n",
       "      <td>0.283424</td>\n",
       "      <td>0.000000</td>\n",
       "      <td>11895.0</td>\n",
       "      <td>1.228672</td>\n",
       "    </tr>\n",
       "    <tr>\n",
       "      <th>0.99</th>\n",
       "      <td>46333.12</td>\n",
       "      <td>0.902737</td>\n",
       "      <td>0.948252</td>\n",
       "      <td>0.720120</td>\n",
       "      <td>0.021607</td>\n",
       "      <td>247288.8</td>\n",
       "      <td>3.936286</td>\n",
       "    </tr>\n",
       "  </tbody>\n",
       "</table>\n",
       "</div>"
      ],
      "text/plain": [
       "      store_code   Morning  Afternoon   Evening     Night  total_sales  \\\n",
       "0.10    12256.20  0.218839   0.195663  0.034676  0.000000        510.0   \n",
       "0.25    19810.00  0.324516   0.271525  0.105219  0.000000       1800.0   \n",
       "0.50    25270.00  0.419094   0.348522  0.191001  0.000000       5010.0   \n",
       "0.75    30000.50  0.520912   0.439825  0.283424  0.000000      11895.0   \n",
       "0.99    46333.12  0.902737   0.948252  0.720120  0.021607     247288.8   \n",
       "\n",
       "      sales_per_hr  \n",
       "0.10      0.098592  \n",
       "0.25      0.311671  \n",
       "0.50      0.702047  \n",
       "0.75      1.228672  \n",
       "0.99      3.936286  "
      ]
     },
     "execution_count": 4,
     "metadata": {},
     "output_type": "execute_result"
    }
   ],
   "source": [
    "sales_pdf_daily_sub.quantile([.1,.25,.5,.75,.99])"
   ]
  },
  {
   "cell_type": "code",
   "execution_count": 5,
   "metadata": {},
   "outputs": [
    {
     "data": {
      "text/html": [
       "<div>\n",
       "<style>\n",
       "    .dataframe thead tr:only-child th {\n",
       "        text-align: right;\n",
       "    }\n",
       "\n",
       "    .dataframe thead th {\n",
       "        text-align: left;\n",
       "    }\n",
       "\n",
       "    .dataframe tbody tr th {\n",
       "        vertical-align: top;\n",
       "    }\n",
       "</style>\n",
       "<table border=\"1\" class=\"dataframe\">\n",
       "  <thead>\n",
       "    <tr style=\"text-align: right;\">\n",
       "      <th></th>\n",
       "      <th>total_sales</th>\n",
       "      <th>Morning</th>\n",
       "      <th>Afternoon</th>\n",
       "      <th>Evening</th>\n",
       "      <th>sales_per_hr</th>\n",
       "    </tr>\n",
       "  </thead>\n",
       "  <tbody>\n",
       "    <tr>\n",
       "      <th>0</th>\n",
       "      <td>9.879758</td>\n",
       "      <td>0.327172</td>\n",
       "      <td>0.402437</td>\n",
       "      <td>0.270339</td>\n",
       "      <td>1.602997</td>\n",
       "    </tr>\n",
       "    <tr>\n",
       "      <th>1</th>\n",
       "      <td>8.268988</td>\n",
       "      <td>0.338375</td>\n",
       "      <td>0.307613</td>\n",
       "      <td>0.353755</td>\n",
       "      <td>0.583534</td>\n",
       "    </tr>\n",
       "    <tr>\n",
       "      <th>2</th>\n",
       "      <td>12.146646</td>\n",
       "      <td>0.406715</td>\n",
       "      <td>0.445079</td>\n",
       "      <td>0.148200</td>\n",
       "      <td>3.670953</td>\n",
       "    </tr>\n",
       "    <tr>\n",
       "      <th>5</th>\n",
       "      <td>10.428541</td>\n",
       "      <td>0.301677</td>\n",
       "      <td>0.296353</td>\n",
       "      <td>0.401940</td>\n",
       "      <td>2.062951</td>\n",
       "    </tr>\n",
       "    <tr>\n",
       "      <th>6</th>\n",
       "      <td>9.798183</td>\n",
       "      <td>0.446642</td>\n",
       "      <td>0.286651</td>\n",
       "      <td>0.266652</td>\n",
       "      <td>1.538382</td>\n",
       "    </tr>\n",
       "  </tbody>\n",
       "</table>\n",
       "</div>"
      ],
      "text/plain": [
       "   total_sales   Morning  Afternoon   Evening  sales_per_hr\n",
       "0     9.879758  0.327172   0.402437  0.270339      1.602997\n",
       "1     8.268988  0.338375   0.307613  0.353755      0.583534\n",
       "2    12.146646  0.406715   0.445079  0.148200      3.670953\n",
       "5    10.428541  0.301677   0.296353  0.401940      2.062951\n",
       "6     9.798183  0.446642   0.286651  0.266652      1.538382"
      ]
     },
     "execution_count": 5,
     "metadata": {},
     "output_type": "execute_result"
    }
   ],
   "source": [
    "#sales_pdf_daily_sub= sales_pdf_daily_sub[['total_sales','Morning','Afternoon','Evening','sales_per_hr']]\n",
    "#sales_pdf_daily_sub = sales_pdf_daily_sub.loc[sales_pdf_daily_sub['total_sales'] >= 1000]\n",
    "#sales_pdf_daily_sub = sales_pdf_daily_sub.loc[sales_pdf_daily_sub['total_sales'] <= 150000]\n",
    "sales_pdf_daily_sub['total_sales'] = sales_pdf_daily_sub['total_sales'].apply(lambda x : np.log((x+1)))\n",
    "normalizedX = sales_pdf_daily_sub[['total_sales','Morning','Afternoon','Evening','sales_per_hr']]\n",
    "normalizedX.head()\n"
   ]
  },
  {
   "cell_type": "code",
   "execution_count": 6,
   "metadata": {
    "collapsed": true
   },
   "outputs": [],
   "source": [
    "%matplotlib inline\n",
    "import matplotlib.pyplot as plt\n",
    "import seaborn as sns; sns.set()  # for plot styling\n",
    "import numpy as np"
   ]
  },
  {
   "cell_type": "code",
   "execution_count": 7,
   "metadata": {},
   "outputs": [],
   "source": [
    "from sklearn.cluster import KMeans\n",
    "kmeans = KMeans(n_clusters=2)\n",
    "kmeans.fit(normalizedX)\n",
    "y_kmeans = kmeans.predict(normalizedX)"
   ]
  },
  {
   "cell_type": "code",
   "execution_count": 8,
   "metadata": {},
   "outputs": [],
   "source": [
    "pca = PCA(n_components=2).fit(normalizedX)\n",
    "pca_nx = pca.transform(normalizedX)"
   ]
  },
  {
   "cell_type": "code",
   "execution_count": 9,
   "metadata": {},
   "outputs": [
    {
     "data": {
      "image/png": "[encoded data removed]",
      "text/plain": [
       "<matplotlib.figure.Figure at 0x11711b588>"
      ]
     },
     "metadata": {},
     "output_type": "display_data"
    }
   ],
   "source": [
    "plt.figure(figsize=(10,10))\n",
    "plt.scatter(pca_nx[:,0],pca_nx[:,1], c=y_kmeans, s=50, cmap='viridis')\n",
    "centers = kmeans.cluster_centers_\n",
    "#plt.scatter(centers[:,0], centers[:,1], c='black',s=200, alpha=0.5)\n",
    "plt.show()"
   ]
  },
  {
   "cell_type": "code",
   "execution_count": 10,
   "metadata": {},
   "outputs": [],
   "source": [
    "sales_pdf_daily_sub['y_kmeans'] = y_kmeans"
   ]
  },
  {
   "cell_type": "code",
   "execution_count": 11,
   "metadata": {
    "scrolled": false
   },
   "outputs": [
    {
     "data": {
      "text/plain": [
       "<matplotlib.axes._subplots.AxesSubplot at 0x117adc828>"
      ]
     },
     "execution_count": 11,
     "metadata": {},
     "output_type": "execute_result"
    },
    {
     "data": {
      "image/png": "[encoded data removed]",
      "text/plain": [
       "<matplotlib.figure.Figure at 0x10b51b160>"
      ]
     },
     "metadata": {},
     "output_type": "display_data"
    }
   ],
   "source": [
    "sales_pdf_daily_sub[sales_pdf_daily_sub['y_kmeans'] == 1].total_sales.hist()\n",
    "#sales_pdf_daily_sub[sales_pdf_daily_sub['y_kmeans'] == 1].total_sales.hist()"
   ]
  },
  {
   "cell_type": "code",
   "execution_count": 12,
   "metadata": {},
   "outputs": [
    {
     "data": {
      "text/plain": [
       "<matplotlib.axes._subplots.AxesSubplot at 0x117a01780>"
      ]
     },
     "execution_count": 12,
     "metadata": {},
     "output_type": "execute_result"
    },
    {
     "data": {
      "image/png": "[encoded data removed]",
      "text/plain": [
       "<matplotlib.figure.Figure at 0x11783c048>"
      ]
     },
     "metadata": {},
     "output_type": "display_data"
    }
   ],
   "source": [
    "sales_pdf_daily_sub[sales_pdf_daily_sub['y_kmeans'] == 0].total_sales.hist()\n",
    "#sales_pdf_daily_sub[sales_pdf_daily_sub['y_kmeans'] == 0].total_sales.hist()"
   ]
  },
  {
   "cell_type": "code",
   "execution_count": 13,
   "metadata": {},
   "outputs": [
    {
     "data": {
      "text/plain": [
       "0    313\n",
       "1    222\n",
       "Name: y_kmeans, dtype: int64"
      ]
     },
     "execution_count": 13,
     "metadata": {},
     "output_type": "execute_result"
    }
   ],
   "source": [
    "sales_pdf_daily_sub['y_kmeans'].value_counts()"
   ]
  },
  {
   "cell_type": "code",
   "execution_count": 14,
   "metadata": {},
   "outputs": [],
   "source": [
    "sales_pdf_daily_sub.head()\n",
    "sales_pdf_daily_sub = sales_pdf_daily_sub[['store_code','y_kmeans']]\n",
    "sales_pdf_daily_sub.to_csv('../UseCase_3_Datasets/sales_y_kmeans',index=False)\n"
   ]
  },
  {
   "cell_type": "code",
   "execution_count": 15,
   "metadata": {},
   "outputs": [
    {
     "name": "stdout",
     "output_type": "stream",
     "text": [
      "Surrounding Shape (534, 183)\n",
      "Sales Shape (535, 2)\n"
     ]
    }
   ],
   "source": [
    "print(\"Surrounding Shape\",surrounding_pdf.shape)\n",
    "print(\"Sales Shape\",sales_pdf_daily_sub.shape)"
   ]
  },
  {
   "cell_type": "code",
   "execution_count": 16,
   "metadata": {},
   "outputs": [
    {
     "name": "stdout",
     "output_type": "stream",
     "text": [
      "Sales Surrounding Shape (533, 179)\n"
     ]
    }
   ],
   "source": [
    "#Join Store and Surroounding datasets\n",
    "sales_surrounding_pdf = pd.merge(sales_pdf_daily_sub,surrounding_pdf,on='store_code',how='inner')\n",
    "sales_surrounding_pdf = sales_surrounding_pdf.drop_duplicates()\n",
    "# Dropping columns that do not provide useful information for this analysis\n",
    "for i in sales_surrounding_pdf.columns:\n",
    "    if sales_surrounding_pdf[i].nunique() == 1:\n",
    "        sales_surrounding_pdf.drop(i, axis = 1, inplace = True)\n",
    "print(\"Sales Surrounding Shape\",sales_surrounding_pdf.shape)"
   ]
  },
  {
   "cell_type": "code",
   "execution_count": 17,
   "metadata": {},
   "outputs": [
    {
     "name": "stdout",
     "output_type": "stream",
     "text": [
      "Shape  (533, 211)\n",
      "Shape  (533,)\n"
     ]
    }
   ],
   "source": [
    "import math\n",
    "#One hot Encoding for city values\n",
    "sales_surrounding_pdf_ohe = pd.get_dummies(sales_surrounding_pdf)\n",
    "#Create Train,Test without imputation\n",
    "#X = sales_surrounding_pdf.loc[:, sales_surrounding_pdf.columns != 'total_sales']\n",
    "#X = sales_surrounding_pdf.loc[:, sales_surrounding_pdf.columns != 'store_code']\n",
    "\n",
    "y = sales_surrounding_pdf_ohe['y_kmeans']\n",
    "X = sales_surrounding_pdf_ohe.drop(['y_kmeans','store_code'],axis=1)\n",
    "#X = sales_surrounding_pdf.drop('store_code',axis=1)\n",
    "\n",
    "from sklearn.preprocessing import Normalizer\n",
    "\n",
    "scaler = Normalizer().fit(X)\n",
    "normalizedX = scaler.transform(X)\n",
    "\n",
    "print(\"Shape \",X.shape)\n",
    "print (\"Shape \",y.shape)"
   ]
  },
  {
   "cell_type": "code",
   "execution_count": 18,
   "metadata": {
    "collapsed": true
   },
   "outputs": [],
   "source": [
    "#Divide into train and test\n",
    "validation_size = 0.30\n",
    "seed = 33\n",
    "X_train, X_test, y_train, y_test = train_test_split(normalizedX, y,test_size=validation_size,random_state=seed)"
   ]
  },
  {
   "cell_type": "code",
   "execution_count": 19,
   "metadata": {},
   "outputs": [
    {
     "name": "stdout",
     "output_type": "stream",
     "text": [
      "[[80 18]\n",
      " [33 29]]\n"
     ]
    }
   ],
   "source": [
    "# training a DescisionTreeClassifier\n",
    "from sklearn.tree import DecisionTreeClassifier\n",
    "seed = 19\n",
    "dtree_model = DecisionTreeClassifier(max_depth = 3,random_state=seed).fit(X_train, y_train)\n",
    "\n",
    "dtree_predictions_train = dtree_model.predict(X_train)\n",
    "dtree_predictions = dtree_model.predict(X_test)\n",
    " \n",
    "# creating a confusion matrix\n",
    "cm = confusion_matrix(y_test, dtree_predictions)\n",
    "print(cm)"
   ]
  },
  {
   "cell_type": "code",
   "execution_count": 20,
   "metadata": {},
   "outputs": [
    {
     "name": "stdout",
     "output_type": "stream",
     "text": [
      "Train : 0.72518398587\n",
      "Test : 0.642034233048\n"
     ]
    }
   ],
   "source": [
    "import numpy as np\n",
    "from sklearn.metrics import roc_auc_score\n",
    "print(\"Train :\",roc_auc_score(y_train, dtree_predictions_train))\n",
    "print(\"Test :\",roc_auc_score(y_test, dtree_predictions))"
   ]
  },
  {
   "cell_type": "code",
   "execution_count": 21,
   "metadata": {
    "collapsed": true
   },
   "outputs": [],
   "source": [
    "def visualize_tree(tree,feature_names,file_name):\n",
    "    \"\"\"Create tree png using graphviz.\n",
    "    Args\n",
    "    ----\n",
    "    tree -- scikit-learn DecsisionTree.\n",
    "    feature_names -- list of feature names.\n",
    "    \"\"\"\n",
    "    with open(file_name, 'w') as f:\n",
    "        export_graphviz(tree, out_file=f,feature_names=feature_names)\n",
    "    command = [\"dot\", \"-Tpng\", \"dt.dot\", \"-o\", \"dt.png\"]\n",
    "    try:\n",
    "        subprocess.check_call(command)\n",
    "    except:\n",
    "        exit(\"Could not run dot, ie graphviz, to produce visualization\")\n",
    "\n",
    "visualize_tree(dtree_model,X.columns,\"dt_tree_kmeans.txt\")\n",
    "\n",
    "def visualizeFeatureImportance(model,feature_names,no_of_features):\n",
    "    forest = model\n",
    "    importances = forest.feature_importances_\n",
    "    std = np.std([tree.feature_importances_ for tree in forest.estimators_],axis=0)\n",
    "    indices = np.argsort(importances)[::-1]\n",
    "    features = no_of_features\n",
    "    # Print the feature ranking\n",
    "    print(\"Feature ranking:\")\n",
    "    for f in range(features):\n",
    "        print(\"%d. feature %s (%f)\" % (f + 1, feature_names[indices[f]], importances[indices[f]]))\n",
    "    # Plot the feature importances of the forest\n",
    "    plt.figure(figsize=(10,10))\n",
    "    plt.title(\"Feature importances\")\n",
    "    plt.bar(range(features), importances[indices[:features]],color=\"r\", yerr=std[indices[:features]], align=\"center\")\n",
    "    plt.xticks(range(features), indices[:features])\n",
    "    plt.xlim([-1,features])\n",
    "    plt.show()"
   ]
  },
  {
   "cell_type": "code",
   "execution_count": 22,
   "metadata": {},
   "outputs": [
    {
     "name": "stdout",
     "output_type": "stream",
     "text": [
      "{'criterion': 'entropy', 'max_depth': 3, 'max_features': 'log2', 'min_samples_split': 10}\n",
      "0.617272495155\n",
      "Train : 0.614350897851\n",
      "Test : 0.61866359447\n"
     ]
    }
   ],
   "source": [
    "from sklearn.model_selection import GridSearchCV\n",
    "\n",
    "seed = 17\n",
    "dtcf = DecisionTreeClassifier(max_depth=1,random_state=seed) \n",
    "\n",
    "param_grid = { \n",
    "    \n",
    "    'max_depth': list(range(1,10,1)),\n",
    "    'max_features': ['auto', 'sqrt', 'log2'],\n",
    "    'min_samples_split' : list(range(2,20,1)),\n",
    "     'criterion':['entropy','gini']\n",
    "}\n",
    "\n",
    "CV_dtcf = GridSearchCV(estimator=dtcf,param_grid=param_grid,cv=10,scoring='roc_auc')\n",
    "CV_dtcf.fit(X_train, y_train)\n",
    "\n",
    "print (CV_dtcf.best_params_)\n",
    "print (CV_dtcf.best_score_)\n",
    "\n",
    "predictions_train = CV_dtcf.best_estimator_.fit(X_train, y_train).predict(X_train)\n",
    "print(\"Train :\",roc_auc_score(y_train, predictions_train))\n",
    "\n",
    "\n",
    "predictions = CV_dtcf.best_estimator_.predict(X_test)\n",
    "print(\"Test :\",roc_auc_score(y_test, predictions))\n",
    "\n",
    "visualize_tree(CV_dtcf.best_estimator_,X.columns,\"CV_dtcf.best_estimator_kmeans.txt\")"
   ]
  },
  {
   "cell_type": "code",
   "execution_count": 23,
   "metadata": {
    "scrolled": false
   },
   "outputs": [
    {
     "name": "stdout",
     "output_type": "stream",
     "text": [
      "{'C': 14}\n",
      "Train AUC : 0.788978015449\n",
      "Test AUC : 0.65671641791\n",
      "211\n",
      "14\n",
      "1\n",
      "Features survived for RF : 30\n",
      "{'bootstrap': False, 'criterion': 'entropy', 'max_depth': 3, 'max_features': 'sqrt', 'min_samples_leaf': 7, 'min_samples_split': 8, 'n_estimators': 460}\n",
      "Train ROC-AUC : 0.687715389186\n",
      "Test ROC-AUC : 0.622933718504\n",
      "Feature ranking:\n",
      "1. feature n_review (0.161625)\n",
      "2. feature n_doctor (0.119059)\n",
      "3. feature n_real_estate_agency (0.070792)\n",
      "4. feature avr_gym (0.070436)\n",
      "5. feature avr_insurance_agency (0.062273)\n",
      "6. feature n_store (0.053597)\n",
      "7. feature avr_cafe (0.044384)\n",
      "8. feature avr_spa (0.039855)\n",
      "9. feature n_clothing_store (0.039071)\n",
      "10. feature n_restaurant (0.032217)\n",
      "11. feature avr_doctor (0.032109)\n",
      "12. feature avr_store (0.030917)\n",
      "13. feature n_lodging (0.030319)\n",
      "14. feature avr_lodging (0.029047)\n",
      "15. feature avr_dentist (0.025969)\n",
      "16. feature avr_atm (0.023816)\n",
      "17. feature avr_shoe_store (0.017147)\n",
      "18. feature avr_home_goods_store (0.015066)\n",
      "19. feature avr_bus_station (0.014579)\n",
      "20. feature avr_travel_agency (0.013597)\n",
      "21. feature avr_post_office (0.013246)\n",
      "22. feature avr_bank (0.012014)\n",
      "23. feature avr_meal_delivery (0.012003)\n",
      "24. feature avr_bicycle_store (0.011969)\n",
      "25. feature n_hospital (0.010509)\n",
      "26. feature n_gas_station (0.006571)\n",
      "27. feature avr_car_dealer (0.005397)\n",
      "28. feature avr_train_station (0.001722)\n",
      "29. feature avr_storage (0.000695)\n",
      "30. feature city_Unknown (0.000000)\n"
     ]
    },
    {
     "data": {
      "image/png": "[encoded data removed]",
      "text/plain": [
       "<matplotlib.figure.Figure at 0x11b3ceba8>"
      ]
     },
     "metadata": {},
     "output_type": "display_data"
    },
    {
     "name": "stdout",
     "output_type": "stream",
     "text": [
      "{'bootstrap': True, 'criterion': 'gini', 'max_depth': 6, 'max_features': 'auto', 'min_samples_leaf': 8, 'min_samples_split': 10, 'n_estimators': 70}\n",
      "Train ROC-AUC : 0.637982768865\n",
      "Test ROC-AUC : 0.586823944792\n",
      "Feature ranking:\n",
      "1. feature n_store (0.073707)\n",
      "2. feature avr_cafe (0.071233)\n",
      "3. feature n_restaurant (0.069482)\n",
      "4. feature n_review (0.064470)\n",
      "5. feature n_doctor (0.064349)\n",
      "6. feature avr_spa (0.055883)\n",
      "7. feature avr_dentist (0.054544)\n",
      "8. feature avr_atm (0.054416)\n",
      "9. feature avr_gym (0.051602)\n",
      "10. feature avr_post_office (0.049722)\n",
      "11. feature n_clothing_store (0.046319)\n",
      "12. feature avr_bus_station (0.044818)\n",
      "13. feature avr_home_goods_store (0.030860)\n",
      "14. feature avr_doctor (0.027892)\n",
      "15. feature avr_train_station (0.025769)\n",
      "16. feature avr_shoe_store (0.024969)\n",
      "17. feature avr_lodging (0.021086)\n",
      "18. feature avr_meal_delivery (0.020873)\n",
      "19. feature n_hospital (0.019998)\n",
      "20. feature avr_insurance_agency (0.019844)\n",
      "21. feature avr_store (0.017870)\n",
      "22. feature n_real_estate_agency (0.017286)\n",
      "23. feature n_lodging (0.015806)\n",
      "24. feature avr_bicycle_store (0.015565)\n",
      "25. feature avr_travel_agency (0.011921)\n",
      "26. feature n_gas_station (0.011301)\n",
      "27. feature avr_bank (0.010124)\n",
      "28. feature avr_car_dealer (0.008098)\n",
      "29. feature avr_storage (0.000193)\n",
      "30. feature city_Unknown (0.000000)\n"
     ]
    },
    {
     "data": {
      "image/png": "[encoded data removed]",
      "text/plain": [
       "<matplotlib.figure.Figure at 0x11b39a978>"
      ]
     },
     "metadata": {},
     "output_type": "display_data"
    }
   ],
   "source": [
    "#Logistic Regression with L1 Penalty for variable selection and Random forest for feature imporatnce .\n",
    "from sklearn.grid_search import GridSearchCV,RandomizedSearchCV\n",
    "from sklearn.datasets import make_classification\n",
    "from sklearn.ensemble import RandomForestClassifier\n",
    "\n",
    "validation_size = 0.30\n",
    "seed = 13\n",
    "X_train, X_test, y_train, y_test = train_test_split(X,y,test_size=validation_size,random_state=seed)\n",
    "\n",
    "from sklearn import linear_model\n",
    "scaler = Normalizer().fit(X_train)\n",
    "normalizedX = scaler.transform(X_train)\n",
    "\n",
    "lr = LogisticRegression(C=1,n_jobs=10,penalty='l1') \n",
    "param_grid = { 'C': np.arange(1,100,1)}\n",
    "\n",
    "CV_lr = RandomizedSearchCV(estimator=lr,param_distributions=param_grid, cv=10,scoring='roc_auc')\n",
    "CV_lr.fit(normalizedX, y_train)\n",
    "print (CV_lr.best_params_)\n",
    "\n",
    "lr = CV_lr.best_estimator_\n",
    "\n",
    "lr.fit(normalizedX, y_train)\n",
    "\n",
    "predictions_train = lr.predict_proba(normalizedX)[:,1]\n",
    "print(\"Train AUC :\",roc_auc_score(y_train,predictions_train))\n",
    "\n",
    "normalizedX_test = scaler.transform(X_test)\n",
    "predictions = lr.predict_proba(normalizedX_test)[:,1]\n",
    "print(\"Test AUC :\",roc_auc_score(y_test,predictions))\n",
    "\n",
    "print (len(X.columns))\n",
    "print (lr.C)\n",
    "print (len(lr.coef_))\n",
    "\n",
    "survival_list = []\n",
    "\n",
    "for i in range(0,len(X.columns)):\n",
    "    if lr.coef_[:,i]!=0:\n",
    "        survival_list.append(X.columns[i])\n",
    "print (\"Features survived for RF :\",len(survival_list))\n",
    "\n",
    "#Subselect the data using the variables survived from Lasso\n",
    "X_sub = X[X.columns.intersection(survival_list)]\n",
    "y_sub = y\n",
    "\n",
    "#Divide \n",
    "validation_size = 0.30\n",
    "seed = 13\n",
    "X_train, X_test, y_train, y_test = train_test_split(X_sub,y_sub,test_size=validation_size,random_state=seed)\n",
    "\n",
    "rfc = RandomForestClassifier(n_jobs=-1) \n",
    "\n",
    "# n_estimator = list(range(10,500,10))\n",
    "# print(n_estimator)\n",
    "param_grid = { \n",
    "    'n_estimators': list(range(10,500,10)),\n",
    "    'max_features': ['auto', 'sqrt', 'log2'],\n",
    "    'max_depth' : list(range(3,9,1)),\n",
    "    \"min_samples_split\": sp_randint(2, 11),\n",
    "    \"min_samples_leaf\": sp_randint(2, 11),\n",
    "    \"bootstrap\": [True, False],\n",
    "    \"criterion\": [\"gini\", \"entropy\"]\n",
    "}\n",
    "\n",
    "CV_rfc = RandomizedSearchCV(estimator=rfc,param_distributions=param_grid,cv= 5,scoring='roc_auc',random_state=seed)\n",
    "CV_rfc.fit(X_train, y_train)\n",
    "print (CV_rfc.best_params_)\n",
    "\n",
    "\n",
    "seed = 13\n",
    "rf_clf = CV_rfc.best_estimator_\n",
    "rf_clf.fit(X_train,y_train)\n",
    "predictions_train = rf_clf.predict(X_train)\n",
    "print(\"Train ROC-AUC :\",roc_auc_score(y_train, predictions_train))\n",
    "# estimate accuracy on validation dataset\n",
    "predictions = rf_clf.predict(X_test)\n",
    "print(\"Test ROC-AUC :\",roc_auc_score(y_test, predictions))\n",
    "visualizeFeatureImportance(rf_clf,X_train.columns,len(survival_list))\n",
    "\n",
    "#Randomised search for ET Classifier\n",
    "\n",
    "et_clf = ExtraTreesClassifier(n_jobs=-1) \n",
    "\n",
    "# n_estimator = list(range(10,500,10))\n",
    "# print(n_estimator)\n",
    "param_grid = { \n",
    "    'n_estimators': list(range(10,100,10)),\n",
    "    'max_features': ['auto', 'sqrt', 'log2'],\n",
    "    'max_depth' : list(range(3,9,1)),\n",
    "    \"min_samples_split\": sp_randint(2, 11),\n",
    "    \"min_samples_leaf\": sp_randint(2, 11),\n",
    "    \"bootstrap\": [True, False],\n",
    "    \"criterion\": [\"gini\", \"entropy\"]\n",
    "}\n",
    "\n",
    "CV_et_clf = RandomizedSearchCV(estimator=et_clf,param_distributions=param_grid,cv= 5,scoring='roc_auc',\n",
    "                               random_state=seed)\n",
    "CV_et_clf.fit(X_train, y_train)\n",
    "print (CV_et_clf.best_params_)\n",
    "\n",
    "et_clf = CV_et_clf.best_estimator_\n",
    "et_clf.fit(X_train,y_train)\n",
    "predictions_train = et_clf.predict(X_train)\n",
    "print(\"Train ROC-AUC :\",roc_auc_score(y_train, predictions_train))\n",
    "# estimate accuracy on validation dataset\n",
    "predictions = et_clf.predict(X_test)\n",
    "print(\"Test ROC-AUC :\",roc_auc_score(y_test, predictions))\n",
    "visualizeFeatureImportance(et_clf,X_train.columns,len(survival_list))"
   ]
  },
  {
   "cell_type": "code",
   "execution_count": 24,
   "metadata": {
    "scrolled": false
   },
   "outputs": [
    {
     "name": "stdout",
     "output_type": "stream",
     "text": [
      "{'alpha': 0.91000000000000003}\n",
      "Train AUC : 0.659165181224\n",
      "Test ROC_AUC : 0.609212004494\n",
      "0.91\n",
      "Features survied : 2\n",
      "{'bootstrap': True, 'criterion': 'entropy', 'max_depth': 8, 'max_features': 'log2', 'min_samples_leaf': 10, 'min_samples_split': 7, 'n_estimators': 120}\n",
      "Train ROC-AUC : 0.684595959596\n",
      "Test ROC-AUC : 0.556331246991\n",
      "Feature ranking:\n",
      "1. feature n_review (0.632738)\n",
      "2. feature n_store (0.367262)\n"
     ]
    },
    {
     "data": {
      "image/png": "[encoded data removed]",
      "text/plain": [
       "<matplotlib.figure.Figure at 0x117ab1e10>"
      ]
     },
     "metadata": {},
     "output_type": "display_data"
    },
    {
     "name": "stdout",
     "output_type": "stream",
     "text": [
      "{'bootstrap': True, 'criterion': 'entropy', 'max_depth': 8, 'max_features': 'log2', 'min_samples_leaf': 8, 'min_samples_split': 6, 'n_estimators': 120}\n",
      "Train ROC-AUC : 0.609848484848\n",
      "Test ROC-AUC : 0.56234954261\n",
      "Feature ranking:\n",
      "1. feature n_store (0.493783)\n",
      "2. feature n_review (0.247884)\n"
     ]
    },
    {
     "data": {
      "image/png": "[encoded data removed]",
      "text/plain": [
       "<matplotlib.figure.Figure at 0x11b3acbe0>"
      ]
     },
     "metadata": {},
     "output_type": "display_data"
    }
   ],
   "source": [
    "#Lasso Regression for variable selection and Random forest for feature imporatnce .\n",
    "\n",
    "validation_size = 0.30\n",
    "seed = 13\n",
    "\n",
    "X_train, X_test, y_train, y_test = train_test_split(X,y,test_size=validation_size,random_state=seed)\n",
    "\n",
    "from sklearn import linear_model\n",
    "ls_clf = linear_model.Lasso(alpha=0.01,selection='random')\n",
    "param_grid = { 'alpha': np.arange(0.01,1,0.01)}\n",
    "\n",
    "\n",
    "CV_lr = RandomizedSearchCV(estimator=ls_clf,param_distributions=param_grid, cv=10,scoring='roc_auc')\n",
    "CV_lr.fit(X_train, y_train)\n",
    "print (CV_lr.best_params_)\n",
    "\n",
    "\n",
    "CV_lr.best_estimator_.fit(X_train,y_train)\n",
    "predictions_train = CV_lr.best_estimator_.predict(X_train)\n",
    "print(\"Train AUC :\",roc_auc_score(y_train,predictions_train))\n",
    "predictions = CV_lr.best_estimator_.predict(X_test)\n",
    "print(\"Test ROC_AUC :\",roc_auc_score(y_test, predictions))\n",
    "# print (len(CV_lr.best_estimator_.coef_))\n",
    "# print (len(X.columns))\n",
    "print (CV_lr.best_estimator_.alpha)\n",
    "\n",
    "lasso_survival_list = []\n",
    "for i in range(0,len(X.columns)):\n",
    "    if CV_lr.best_estimator_.coef_[i]!=0:\n",
    "        lasso_survival_list.append(X.columns[i])\n",
    "print (\"Features survied :\",len(lasso_survival_list))\n",
    "\n",
    "#Subselect the data using the variables survived from Lasso\n",
    "X_sub = X[X.columns.intersection(lasso_survival_list)]\n",
    "y_sub = y\n",
    "\n",
    "#Divide \n",
    "validation_size = 0.30\n",
    "seed = 13\n",
    "X_train, X_test, y_train, y_test = train_test_split(X_sub,y_sub,test_size=validation_size,random_state=seed)\n",
    "\n",
    "\n",
    "from sklearn.grid_search import GridSearchCV, RandomizedSearchCV\n",
    "from sklearn.datasets import make_classification\n",
    "from sklearn.ensemble import RandomForestClassifier\n",
    "from scipy.stats import randint as sp_randint\n",
    "\n",
    "rfc = RandomForestClassifier(n_jobs=-1) \n",
    "\n",
    "# n_estimator = list(range(10,500,10))\n",
    "# print(n_estimator)\n",
    "param_grid = { \n",
    "    'n_estimators': list(range(10,500,10)),\n",
    "    'max_features': ['auto', 'sqrt', 'log2'],\n",
    "    'max_depth' : list(range(3,9,1)),\n",
    "    \"min_samples_split\": sp_randint(2, 11),\n",
    "    \"min_samples_leaf\": sp_randint(2, 11),\n",
    "    \"bootstrap\": [True, False],\n",
    "    \"criterion\": [\"gini\", \"entropy\"]\n",
    "}\n",
    "\n",
    "CV_rfc = RandomizedSearchCV(estimator=rfc,param_distributions=param_grid,cv= 5,scoring='roc_auc',random_state=seed)\n",
    "CV_rfc.fit(X_train, y_train)\n",
    "print (CV_rfc.best_params_)\n",
    "\n",
    "seed = 13\n",
    "rf_clf = CV_rfc.best_estimator_\n",
    "\n",
    "rf_clf.fit(X_train,y_train)\n",
    "predictions_train = rf_clf.predict(X_train)\n",
    "print(\"Train ROC-AUC :\",roc_auc_score(y_train, predictions_train))\n",
    "# estimate accuracy on validation dataset\n",
    "predictions = rf_clf.predict(X_test)\n",
    "print(\"Test ROC-AUC :\",roc_auc_score(y_test, predictions))\n",
    "visualizeFeatureImportance(rf_clf,X_train.columns,len(lasso_survival_list))\n",
    "\n",
    "et_clf = ExtraTreesClassifier(n_jobs=-1) \n",
    "\n",
    "# n_estimator = list(range(10,500,10))\n",
    "# print(n_estimator)\n",
    "param_grid = { \n",
    "    'n_estimators': list(range(10,500,10)),\n",
    "    'max_features': ['auto', 'sqrt', 'log2'],\n",
    "    'max_depth' : list(range(3,9,1)),\n",
    "    \"min_samples_split\": sp_randint(2, 11),\n",
    "    \"min_samples_leaf\": sp_randint(2, 11),\n",
    "    \"bootstrap\": [True, False],\n",
    "    \"criterion\": [\"gini\", \"entropy\"]\n",
    "}\n",
    "\n",
    "CV_et_clf = RandomizedSearchCV(estimator=et_clf,param_distributions=param_grid,cv= 5,scoring='roc_auc',\n",
    "                               random_state=seed)\n",
    "CV_et_clf.fit(X_train, y_train)\n",
    "print (CV_et_clf.best_params_)\n",
    "\n",
    "\n",
    "seed = 29\n",
    "et_clf = CV_et_clf.best_estimator_\n",
    "et_clf.fit(X_train,y_train)\n",
    "predictions_train = et_clf.predict(X_train)\n",
    "print(\"Train ROC-AUC :\",roc_auc_score(y_train, predictions_train))\n",
    "# estimate accuracy on validation dataset\n",
    "predictions = et_clf.predict(X_test)\n",
    "print(\"Test ROC-AUC :\",roc_auc_score(y_test, predictions))\n",
    "\n",
    "visualizeFeatureImportance(et_clf,X_train.columns,len(lasso_survival_list))"
   ]
  },
  {
   "cell_type": "code",
   "execution_count": 25,
   "metadata": {},
   "outputs": [
    {
     "data": {
      "text/plain": [
       "['n_store', 'n_review']"
      ]
     },
     "execution_count": 25,
     "metadata": {},
     "output_type": "execute_result"
    }
   ],
   "source": [
    "lasso_survival_list"
   ]
  }
 ],
 "metadata": {
  "kernelspec": {
   "display_name": "Python 3",
   "language": "python",
   "name": "python3"
  },
  "language_info": {
   "codemirror_mode": {
    "name": "ipython",
    "version": 3
   },
   "file_extension": ".py",
   "mimetype": "text/x-python",
   "name": "python",
   "nbconvert_exporter": "python",
   "pygments_lexer": "ipython3",
   "version": "3.6.1"
  }
 },
 "nbformat": 4,
 "nbformat_minor": 2
}
